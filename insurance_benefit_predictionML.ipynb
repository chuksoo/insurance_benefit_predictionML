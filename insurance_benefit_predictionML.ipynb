{
 "cells": [
  {
   "cell_type": "markdown",
   "metadata": {},
   "source": [
    "# Statement"
   ]
  },
  {
   "cell_type": "markdown",
   "metadata": {},
   "source": [
    "The Sure Tomorrow insurance company wants to solve several tasks with the help of Machine Learning and you are asked to evaluate that possibility.\n",
    "\n",
    "- Task 1: Find customers who are similar to a given customer. This will help the company's agents with marketing.\n",
    "- Task 2: Predict whether a new customer is likely to receive an insurance benefit. Can a prediction model do better than a dummy model?\n",
    "- Task 3: Predict the number of insurance benefits a new customer is likely to receive using a linear regression model.\n",
    "- Task 4: Protect clients' personal data without breaking the model from the previous task. It's necessary to develop a data transformation algorithm that would make it hard to recover personal information if the data fell into the wrong hands. This is called data masking, or data obfuscation. But the data should be protected in such a way that the quality of machine learning models doesn't suffer. You don't need to pick the best model, just prove that the algorithm works correctly."
   ]
  },
  {
   "cell_type": "markdown",
   "metadata": {},
   "source": [
    "# Data Preprocessing & Exploration\n",
    "\n",
    "## Initialization"
   ]
  },
  {
   "cell_type": "code",
   "execution_count": 1,
   "metadata": {},
   "outputs": [],
   "source": [
    "# import libraries \n",
    "import numpy as np\n",
    "import pandas as pd\n",
    "\n",
    "import seaborn as sns\n",
    "\n",
    "import sklearn.linear_model\n",
    "import sklearn.metrics\n",
    "import sklearn.neighbors\n",
    "import sklearn.preprocessing\n",
    "\n",
    "from sklearn.model_selection import train_test_split\n",
    "\n",
    "from IPython.display import display"
   ]
  },
  {
   "cell_type": "markdown",
   "metadata": {},
   "source": [
    "## Load Data"
   ]
  },
  {
   "cell_type": "markdown",
   "metadata": {},
   "source": [
    "Load data and conduct a basic check that it's free from obvious issues."
   ]
  },
  {
   "cell_type": "code",
   "execution_count": 2,
   "metadata": {},
   "outputs": [],
   "source": [
    "# read the data\n",
    "df = pd.read_csv('https://code.s3.yandex.net/datasets/insurance_us.csv')"
   ]
  },
  {
   "cell_type": "markdown",
   "metadata": {},
   "source": [
    "We rename the colums to make the code look more consistent with its style."
   ]
  },
  {
   "cell_type": "code",
   "execution_count": 3,
   "metadata": {},
   "outputs": [],
   "source": [
    "# rename columns\n",
    "df = df.rename(columns={'Gender': 'gender', 'Age': 'age', 'Salary': 'income', 'Family members': 'family_members', 'Insurance benefits': 'insurance_benefits'})"
   ]
  },
  {
   "cell_type": "code",
   "execution_count": 4,
   "metadata": {},
   "outputs": [
    {
     "data": {
      "text/html": [
       "<div>\n",
       "<style scoped>\n",
       "    .dataframe tbody tr th:only-of-type {\n",
       "        vertical-align: middle;\n",
       "    }\n",
       "\n",
       "    .dataframe tbody tr th {\n",
       "        vertical-align: top;\n",
       "    }\n",
       "\n",
       "    .dataframe thead th {\n",
       "        text-align: right;\n",
       "    }\n",
       "</style>\n",
       "<table border=\"1\" class=\"dataframe\">\n",
       "  <thead>\n",
       "    <tr style=\"text-align: right;\">\n",
       "      <th></th>\n",
       "      <th>gender</th>\n",
       "      <th>age</th>\n",
       "      <th>income</th>\n",
       "      <th>family_members</th>\n",
       "      <th>insurance_benefits</th>\n",
       "    </tr>\n",
       "  </thead>\n",
       "  <tbody>\n",
       "    <tr>\n",
<<<<<<< HEAD
       "      <th>4</th>\n",
       "      <td>1</td>\n",
       "      <td>28.0</td>\n",
       "      <td>26100.0</td>\n",
       "      <td>0</td>\n",
=======
       "      <th>2340</th>\n",
       "      <td>0</td>\n",
       "      <td>42.0</td>\n",
       "      <td>52400.0</td>\n",
>>>>>>> b1c6f751c39aba4697448c2282d00301b8c6aa68
       "      <td>0</td>\n",
       "      <td>1</td>\n",
       "    </tr>\n",
       "    <tr>\n",
<<<<<<< HEAD
       "      <th>2362</th>\n",
       "      <td>1</td>\n",
       "      <td>32.0</td>\n",
       "      <td>30800.0</td>\n",
       "      <td>0</td>\n",
       "      <td>0</td>\n",
       "    </tr>\n",
       "    <tr>\n",
       "      <th>2132</th>\n",
=======
       "      <th>81</th>\n",
       "      <td>1</td>\n",
       "      <td>29.0</td>\n",
       "      <td>51600.0</td>\n",
       "      <td>1</td>\n",
       "      <td>0</td>\n",
       "    </tr>\n",
       "    <tr>\n",
       "      <th>2571</th>\n",
       "      <td>0</td>\n",
       "      <td>23.0</td>\n",
       "      <td>25100.0</td>\n",
>>>>>>> b1c6f751c39aba4697448c2282d00301b8c6aa68
       "      <td>0</td>\n",
       "      <td>22.0</td>\n",
       "      <td>22900.0</td>\n",
       "      <td>3</td>\n",
       "      <td>0</td>\n",
       "    </tr>\n",
       "    <tr>\n",
<<<<<<< HEAD
       "      <th>1422</th>\n",
       "      <td>0</td>\n",
       "      <td>39.0</td>\n",
       "      <td>58300.0</td>\n",
=======
       "      <th>3315</th>\n",
       "      <td>1</td>\n",
       "      <td>30.0</td>\n",
       "      <td>28200.0</td>\n",
>>>>>>> b1c6f751c39aba4697448c2282d00301b8c6aa68
       "      <td>0</td>\n",
       "      <td>0</td>\n",
       "    </tr>\n",
       "    <tr>\n",
<<<<<<< HEAD
       "      <th>4946</th>\n",
       "      <td>1</td>\n",
       "      <td>26.0</td>\n",
       "      <td>32600.0</td>\n",
       "      <td>2</td>\n",
       "      <td>0</td>\n",
       "    </tr>\n",
       "    <tr>\n",
       "      <th>2345</th>\n",
       "      <td>0</td>\n",
       "      <td>25.0</td>\n",
       "      <td>49400.0</td>\n",
       "      <td>1</td>\n",
       "      <td>0</td>\n",
       "    </tr>\n",
       "    <tr>\n",
       "      <th>3689</th>\n",
       "      <td>1</td>\n",
       "      <td>37.0</td>\n",
       "      <td>52000.0</td>\n",
=======
       "      <th>4171</th>\n",
       "      <td>1</td>\n",
       "      <td>47.0</td>\n",
       "      <td>43900.0</td>\n",
       "      <td>2</td>\n",
       "      <td>1</td>\n",
       "    </tr>\n",
       "    <tr>\n",
       "      <th>3325</th>\n",
       "      <td>1</td>\n",
       "      <td>46.0</td>\n",
       "      <td>11200.0</td>\n",
       "      <td>2</td>\n",
       "      <td>1</td>\n",
       "    </tr>\n",
       "    <tr>\n",
       "      <th>4500</th>\n",
       "      <td>1</td>\n",
       "      <td>36.0</td>\n",
       "      <td>58900.0</td>\n",
>>>>>>> b1c6f751c39aba4697448c2282d00301b8c6aa68
       "      <td>1</td>\n",
       "      <td>0</td>\n",
       "    </tr>\n",
       "    <tr>\n",
<<<<<<< HEAD
       "      <th>2155</th>\n",
       "      <td>1</td>\n",
       "      <td>56.0</td>\n",
       "      <td>40400.0</td>\n",
=======
       "      <th>502</th>\n",
       "      <td>1</td>\n",
       "      <td>29.0</td>\n",
       "      <td>41400.0</td>\n",
       "      <td>2</td>\n",
>>>>>>> b1c6f751c39aba4697448c2282d00301b8c6aa68
       "      <td>0</td>\n",
       "      <td>3</td>\n",
       "    </tr>\n",
       "    <tr>\n",
<<<<<<< HEAD
       "      <th>1244</th>\n",
       "      <td>1</td>\n",
       "      <td>22.0</td>\n",
       "      <td>54200.0</td>\n",
       "      <td>1</td>\n",
       "      <td>0</td>\n",
       "    </tr>\n",
       "    <tr>\n",
       "      <th>1597</th>\n",
       "      <td>1</td>\n",
       "      <td>29.0</td>\n",
       "      <td>48300.0</td>\n",
       "      <td>0</td>\n",
=======
       "      <th>3493</th>\n",
       "      <td>1</td>\n",
       "      <td>42.0</td>\n",
       "      <td>54000.0</td>\n",
       "      <td>2</td>\n",
       "      <td>0</td>\n",
       "    </tr>\n",
       "    <tr>\n",
       "      <th>558</th>\n",
       "      <td>0</td>\n",
       "      <td>26.0</td>\n",
       "      <td>55000.0</td>\n",
       "      <td>5</td>\n",
>>>>>>> b1c6f751c39aba4697448c2282d00301b8c6aa68
       "      <td>0</td>\n",
       "    </tr>\n",
       "  </tbody>\n",
       "</table>\n",
       "</div>"
      ],
      "text/plain": [
       "      gender   age   income  family_members  insurance_benefits\n",
<<<<<<< HEAD
       "4          1  28.0  26100.0               0                   0\n",
       "2362       1  32.0  30800.0               0                   0\n",
       "2132       0  22.0  22900.0               3                   0\n",
       "1422       0  39.0  58300.0               0                   0\n",
       "4946       1  26.0  32600.0               2                   0\n",
       "2345       0  25.0  49400.0               1                   0\n",
       "3689       1  37.0  52000.0               1                   0\n",
       "2155       1  56.0  40400.0               0                   3\n",
       "1244       1  22.0  54200.0               1                   0\n",
       "1597       1  29.0  48300.0               0                   0"
=======
       "2340       0  42.0  52400.0               0                   1\n",
       "81         1  29.0  51600.0               1                   0\n",
       "2571       0  23.0  25100.0               0                   0\n",
       "3315       1  30.0  28200.0               0                   0\n",
       "4171       1  47.0  43900.0               2                   1\n",
       "3325       1  46.0  11200.0               2                   1\n",
       "4500       1  36.0  58900.0               1                   0\n",
       "502        1  29.0  41400.0               2                   0\n",
       "3493       1  42.0  54000.0               2                   0\n",
       "558        0  26.0  55000.0               5                   0"
>>>>>>> b1c6f751c39aba4697448c2282d00301b8c6aa68
      ]
     },
     "execution_count": 4,
     "metadata": {},
     "output_type": "execute_result"
    }
   ],
   "source": [
    "# look at data sample\n",
    "df.sample(10)"
   ]
  },
  {
   "cell_type": "code",
   "execution_count": 5,
   "metadata": {},
   "outputs": [
    {
     "name": "stdout",
     "output_type": "stream",
     "text": [
      "<class 'pandas.core.frame.DataFrame'>\n",
      "RangeIndex: 5000 entries, 0 to 4999\n",
      "Data columns (total 5 columns):\n",
      " #   Column              Non-Null Count  Dtype  \n",
      "---  ------              --------------  -----  \n",
      " 0   gender              5000 non-null   int64  \n",
      " 1   age                 5000 non-null   float64\n",
      " 2   income              5000 non-null   float64\n",
      " 3   family_members      5000 non-null   int64  \n",
      " 4   insurance_benefits  5000 non-null   int64  \n",
      "dtypes: float64(2), int64(3)\n",
      "memory usage: 195.4 KB\n"
     ]
    }
   ],
   "source": [
    "# check data info\n",
    "df.info()"
   ]
  },
  {
   "cell_type": "code",
   "execution_count": 6,
   "metadata": {},
   "outputs": [],
   "source": [
    "# convert data type\n",
    "# we may want to fix the age type (from float to int) though this is not critical\n",
    "\n",
    "# write your conversion here if you choose:\n",
    "df['age'] = df['age'].astype(int)"
   ]
  },
  {
   "cell_type": "code",
   "execution_count": 7,
   "metadata": {},
   "outputs": [
    {
     "name": "stdout",
     "output_type": "stream",
     "text": [
      "<class 'pandas.core.frame.DataFrame'>\n",
      "RangeIndex: 5000 entries, 0 to 4999\n",
      "Data columns (total 5 columns):\n",
      " #   Column              Non-Null Count  Dtype  \n",
      "---  ------              --------------  -----  \n",
      " 0   gender              5000 non-null   int64  \n",
      " 1   age                 5000 non-null   int32  \n",
      " 2   income              5000 non-null   float64\n",
      " 3   family_members      5000 non-null   int64  \n",
      " 4   insurance_benefits  5000 non-null   int64  \n",
      "dtypes: float64(1), int32(1), int64(3)\n",
      "memory usage: 175.9 KB\n"
     ]
    }
   ],
   "source": [
    "# check to see that the conversion was successful\n",
    "df.info()"
   ]
  },
  {
   "cell_type": "code",
   "execution_count": 8,
   "metadata": {},
   "outputs": [
    {
     "data": {
      "text/html": [
       "<div>\n",
       "<style scoped>\n",
       "    .dataframe tbody tr th:only-of-type {\n",
       "        vertical-align: middle;\n",
       "    }\n",
       "\n",
       "    .dataframe tbody tr th {\n",
       "        vertical-align: top;\n",
       "    }\n",
       "\n",
       "    .dataframe thead th {\n",
       "        text-align: right;\n",
       "    }\n",
       "</style>\n",
       "<table border=\"1\" class=\"dataframe\">\n",
       "  <thead>\n",
       "    <tr style=\"text-align: right;\">\n",
       "      <th></th>\n",
       "      <th>gender</th>\n",
       "      <th>age</th>\n",
       "      <th>income</th>\n",
       "      <th>family_members</th>\n",
       "      <th>insurance_benefits</th>\n",
       "    </tr>\n",
       "  </thead>\n",
       "  <tbody>\n",
       "    <tr>\n",
       "      <th>count</th>\n",
       "      <td>5000.000000</td>\n",
       "      <td>5000.000000</td>\n",
       "      <td>5000.000000</td>\n",
       "      <td>5000.000000</td>\n",
       "      <td>5000.000000</td>\n",
       "    </tr>\n",
       "    <tr>\n",
       "      <th>mean</th>\n",
       "      <td>0.499000</td>\n",
       "      <td>30.952800</td>\n",
       "      <td>39916.360000</td>\n",
       "      <td>1.194200</td>\n",
       "      <td>0.148000</td>\n",
       "    </tr>\n",
       "    <tr>\n",
       "      <th>std</th>\n",
       "      <td>0.500049</td>\n",
       "      <td>8.440807</td>\n",
       "      <td>9900.083569</td>\n",
       "      <td>1.091387</td>\n",
       "      <td>0.463183</td>\n",
       "    </tr>\n",
       "    <tr>\n",
       "      <th>min</th>\n",
       "      <td>0.000000</td>\n",
       "      <td>18.000000</td>\n",
       "      <td>5300.000000</td>\n",
       "      <td>0.000000</td>\n",
       "      <td>0.000000</td>\n",
       "    </tr>\n",
       "    <tr>\n",
       "      <th>25%</th>\n",
       "      <td>0.000000</td>\n",
       "      <td>24.000000</td>\n",
       "      <td>33300.000000</td>\n",
       "      <td>0.000000</td>\n",
       "      <td>0.000000</td>\n",
       "    </tr>\n",
       "    <tr>\n",
       "      <th>50%</th>\n",
       "      <td>0.000000</td>\n",
       "      <td>30.000000</td>\n",
       "      <td>40200.000000</td>\n",
       "      <td>1.000000</td>\n",
       "      <td>0.000000</td>\n",
       "    </tr>\n",
       "    <tr>\n",
       "      <th>75%</th>\n",
       "      <td>1.000000</td>\n",
       "      <td>37.000000</td>\n",
       "      <td>46600.000000</td>\n",
       "      <td>2.000000</td>\n",
       "      <td>0.000000</td>\n",
       "    </tr>\n",
       "    <tr>\n",
       "      <th>max</th>\n",
       "      <td>1.000000</td>\n",
       "      <td>65.000000</td>\n",
       "      <td>79000.000000</td>\n",
       "      <td>6.000000</td>\n",
       "      <td>5.000000</td>\n",
       "    </tr>\n",
       "  </tbody>\n",
       "</table>\n",
       "</div>"
      ],
      "text/plain": [
       "            gender          age        income  family_members  \\\n",
       "count  5000.000000  5000.000000   5000.000000     5000.000000   \n",
       "mean      0.499000    30.952800  39916.360000        1.194200   \n",
       "std       0.500049     8.440807   9900.083569        1.091387   \n",
       "min       0.000000    18.000000   5300.000000        0.000000   \n",
       "25%       0.000000    24.000000  33300.000000        0.000000   \n",
       "50%       0.000000    30.000000  40200.000000        1.000000   \n",
       "75%       1.000000    37.000000  46600.000000        2.000000   \n",
       "max       1.000000    65.000000  79000.000000        6.000000   \n",
       "\n",
       "       insurance_benefits  \n",
       "count         5000.000000  \n",
       "mean             0.148000  \n",
       "std              0.463183  \n",
       "min              0.000000  \n",
       "25%              0.000000  \n",
       "50%              0.000000  \n",
       "75%              0.000000  \n",
       "max              5.000000  "
      ]
     },
     "execution_count": 8,
     "metadata": {},
     "output_type": "execute_result"
    }
   ],
   "source": [
    "# now have a look at the data's descriptive statistics. \n",
    "# Does everything look okay?\n",
    "df.describe()"
   ]
  },
  {
   "cell_type": "code",
   "execution_count": 9,
   "metadata": {},
   "outputs": [
    {
     "data": {
      "text/html": [
       "<div>\n",
       "<style scoped>\n",
       "    .dataframe tbody tr th:only-of-type {\n",
       "        vertical-align: middle;\n",
       "    }\n",
       "\n",
       "    .dataframe tbody tr th {\n",
       "        vertical-align: top;\n",
       "    }\n",
       "\n",
       "    .dataframe thead th {\n",
       "        text-align: right;\n",
       "    }\n",
       "</style>\n",
       "<table border=\"1\" class=\"dataframe\">\n",
       "  <thead>\n",
       "    <tr style=\"text-align: right;\">\n",
       "      <th></th>\n",
       "      <th>gender</th>\n",
       "      <th>age</th>\n",
       "      <th>income</th>\n",
       "      <th>family_members</th>\n",
       "      <th>insurance_benefits</th>\n",
       "    </tr>\n",
       "  </thead>\n",
       "  <tbody>\n",
       "    <tr>\n",
       "      <th>0</th>\n",
       "      <td>1</td>\n",
       "      <td>41</td>\n",
       "      <td>49600.0</td>\n",
       "      <td>1</td>\n",
       "      <td>0</td>\n",
       "    </tr>\n",
       "    <tr>\n",
       "      <th>1</th>\n",
       "      <td>0</td>\n",
       "      <td>46</td>\n",
       "      <td>38000.0</td>\n",
       "      <td>1</td>\n",
       "      <td>1</td>\n",
       "    </tr>\n",
       "    <tr>\n",
       "      <th>2</th>\n",
       "      <td>0</td>\n",
       "      <td>29</td>\n",
       "      <td>21000.0</td>\n",
       "      <td>0</td>\n",
       "      <td>0</td>\n",
       "    </tr>\n",
       "    <tr>\n",
       "      <th>3</th>\n",
       "      <td>0</td>\n",
       "      <td>21</td>\n",
       "      <td>41700.0</td>\n",
       "      <td>2</td>\n",
       "      <td>0</td>\n",
       "    </tr>\n",
       "    <tr>\n",
       "      <th>4</th>\n",
       "      <td>1</td>\n",
       "      <td>28</td>\n",
       "      <td>26100.0</td>\n",
       "      <td>0</td>\n",
       "      <td>0</td>\n",
       "    </tr>\n",
       "  </tbody>\n",
       "</table>\n",
       "</div>"
      ],
      "text/plain": [
       "   gender  age   income  family_members  insurance_benefits\n",
       "0       1   41  49600.0               1                   0\n",
       "1       0   46  38000.0               1                   1\n",
       "2       0   29  21000.0               0                   0\n",
       "3       0   21  41700.0               2                   0\n",
       "4       1   28  26100.0               0                   0"
      ]
     },
     "execution_count": 9,
     "metadata": {},
     "output_type": "execute_result"
    }
   ],
   "source": [
    "# check the data once again\n",
    "df.head()"
   ]
  },
  {
   "cell_type": "code",
   "execution_count": 10,
   "metadata": {},
   "outputs": [
    {
     "data": {
      "text/plain": [
       "gender                0\n",
       "age                   0\n",
       "income                0\n",
       "family_members        0\n",
       "insurance_benefits    0\n",
       "dtype: int64"
      ]
     },
     "execution_count": 10,
     "metadata": {},
     "output_type": "execute_result"
    }
   ],
   "source": [
    "# check for missing values\n",
    "df.isnull().sum()"
   ]
  },
  {
   "cell_type": "markdown",
   "metadata": {},
   "source": [
    "#### Conclusion"
   ]
  },
  {
   "cell_type": "markdown",
   "metadata": {},
   "source": [
    "Everything looks good!!! The data was loaded successfully. The data consists of 5000 rows and 5 columns. For convenience, we renamed the columns and changed data type for the `age` feature from float to int. Also, there are no missing values in the data. We can now explore the data further using exploratory data analysis."
   ]
  },
  {
   "cell_type": "markdown",
   "metadata": {},
   "source": [
    "## EDA"
   ]
  },
  {
   "cell_type": "markdown",
   "metadata": {},
   "source": [
    "Let's quickly check whether there are certain groups of customers by looking at the pair plot."
   ]
  },
  {
   "cell_type": "code",
   "execution_count": 11,
   "metadata": {},
   "outputs": [
    {
     "data": {
      "image/png": "iVBORw0KGgoAAAANSUhEUgAAA1UAAANUCAYAAABbowdjAAAAOXRFWHRTb2Z0d2FyZQBNYXRwbG90bGliIHZlcnNpb24zLjMuMiwgaHR0cHM6Ly9tYXRwbG90bGliLm9yZy8vihELAAAACXBIWXMAAAsTAAALEwEAmpwYAACipUlEQVR4nOzdfZxcZX3///cnm2w2ySa7m7AkIbfcBBFUblxDEKqIVaO1YuXe21JsvlK0aP1apfXX2vZrq7WttRWxqXdolXsVv34BpSBSlASDRiCAcpeFkABJyH2y2ezu5/fHzO6cM3Nm5+zcnTMzr+fjMY/MOXOd61wzc2VmPnuu63OZuwsAAAAAUJ5JSTcAAAAAABoZQRUAAAAAVICgCgAAAAAqQFAFAAAAABUgqAIAAACACrRcULVy5UqXxI1bNW+x0Pe41eAWG/2PWw1usdD3uNXgFhv9j1uVb0W1XFC1bdu2pJuAFkXfQ5Lof0gKfQ9Jov+hXlouqAIAAACAaiKoAgAAAIAKpDaoMrOvmdkLZvZQkcfNzP7NzB43swfM7JR6txEAAAAAUhtUSfqGpJXjPP5mScuyt1WSrqpDmwAAAAAgJLVBlbvfLenFcYqcLembnrFGUreZza9P6wAAAAAgY3LSDajAAknPBLY3ZfdtyS9oZquUuZqlxYsX16VxgBS/7736w1eHtifvfja0/eLLzi44Zvavbwxtb3/1JQVl5vz358L1vPp/hev41fUFx7x4Rl6ZO/4p/Pjr/3fBMT2/+HZou/uNHwxtb/n1nQXHLDvldaHtB555uqDMm49ZGNr+n91toe2L5g4WHLP7UPhvRV3tI6HtgWErOKZ3arjMJCvMmjp9yriZVFVYa2Hu1ai/Yp17ak9o+8a1O0qWiStO/7s+73znR5zrujWZMm2BJ7lrMPdspk3OPdORwJPecTBTZii4L3DcjsB7tWsoV/nDB3LlD+x8Plvx8Ni+Sft3jd2fvv3JXGHPnah9Z6Y/DXUeHvn4lO1PBE+SK9KTe51s+FBmX1v72L79818+dn9oaufY/eGpM3J1dM6WJE2d0T227+TO3HOdFXi9Zha5P2VS5n57oNPMCvTljrZc2UMjudeubVJu/+jTbcvrnKP9Kb+vRe2vZd87/bLiA0x+duWlZZ33NeddHrn/7hu+UFZ9kvSKz9wXuf+BTywvu84oq27eH7l/9dnTy67za/+zK3L/H/1OV9l1jn4e5LtgRXl9RYr+3JNq2/+K9ZV8cfrOl+7aHbttf3LmrNhlx/Ode3fGLvvO07qrcs6b7ot+n6Kcs7z8/lDLc8atr5z2p/ZKVQxxfsNkdrqvdvc+d+/r7e0tWuGxLz1BnV3dJW/HvvSEaj0HpECc973c9zxu3wNqgf6HpND3kCT6H5LQyFeqNklaFNheKGlzJRVu3vys3vq5W0uW++HH3lzJaZAycd533nMAAAAU08hXqn4g6b3ZLIArJO1y94KhfwAAAABQS6m9UmVm10g6U9JhZrZJ0l9LmiJJ7v5lSbdIeoukxyXtl3RxMi0FAAAA0MpSG1S5+0UlHndJl9WpOQAAAAAQqZGH/wEAAABA4giqAAAAAKACBFUAAAAAUAGCKgAAAACoAEEVAAAAAFTAMkn0WkdfX5+vW7cu8rHOru7Yi//u3bWzyi1DUuK87yXec4tznvH6HlCmWH1Pov+hJvjsQ1L47ENSivY9rlQBAAAAQAUIqgAAAACgAgRVAAAAAFABgioAAAAAqABBFQAAAABUgKAKAAAAACpAUAUAAAAAFSCoAgAAAIAKEFQBAAAAQAUIqgAAAACgAgRVAAAAAFABgioAAAAAqABBFQAAAABUINVBlZmtNLPfmNnjZvaJiMe7zOz/mtmvzWyDmV2cRDsBAAAAtK7UBlVm1ibpSklvlnS8pIvM7Pi8YpdJetjdT5R0pqR/NrP2ujYUAAAAQEtLbVAlabmkx939SXcflHStpLPzyrikmWZmkjolvShpqL7NBAAAANDK0hxULZD0TGB7U3Zf0BclvVTSZkkPSrrc3Ufq0zwAAAAASHdQZRH7PG/7TZLWSzpC0kmSvmhmswoqMltlZuvMbN3WrVur3U6gKPoekkT/Q1Loe0gS/Q9JSHNQtUnSosD2QmWuSAVdLOm7nvG4pKckHZdfkbuvdvc+d+/r7e2tWYOBfPQ9JIn+h6TQ95Ak+h+SkOag6heSlpnZkdnkExdK+kFemaclvV6SzGyupJdIerKurQQAAADQ0iYn3YBi3H3IzD4o6UeS2iR9zd03mNkHso9/WdLfSfqGmT2ozHDBj7v7tsQaDQAAAKDlpDaokiR3v0XSLXn7vhy4v1nSG+vdLgAAAAAYlebhfwAAAACQegRVAAAAAFABgioAAAAAqABBFQAAAABUgKAKAAAAACpAUAUAAAAAFSCoAgAAAIAKEFQBAAAAQAUIqgAAAACgAgRVAAAAAFABgioAAAAAqABBFQAAAABUgKAKAAAAACpAUAUAAAAAFSCoAgAAAIAKEFQBAAAAQAUIqgAAAACgAgRVAAAAAFABgioAAAAAqABBFQAAAABUINVBlZmtNLPfmNnjZvaJImXONLP1ZrbBzH5a7zYCAAAAaG01D6rMrM3MPlLOcZKulPRmScdLusjMjs8r0y3pS5Le5u4nSDqv8hYDAAAAQHw1D6rcfVjS2WUculzS4+7+pLsPSro2op53Svquuz+dPdcLFTUWAAAAACaoXsP/fmZmXzSz3zGzU0ZvJY5ZIOmZwPam7L6gYyX1mNldZna/mb03qiIzW2Vm68xs3datW8t/FsAE0feQJPofkkLfQ5Lof0hCvYKqV0s6QdLfSvrn7O2fShxjEfs8b3uypFdK+j1Jb5L0/5nZsQUHua929z537+vt7Z1o24Gy0feQJPofkkLfQ5Lof0jC5HqcxN1fV8ZhmyQtCmwvlLQ5osw2d98naZ+Z3S3pREm/LauhAAAAADBBdblSZWZzzeyrZnZrdvt4M7ukxGG/kLTMzI40s3ZJF0r6QV6ZmyX9jplNNrPpkk6V9Ei12w8AAAAAxdRr+N83JP1I0hHZ7d9K+vB4B7j7kKQPZo97RNL17r7BzD5gZh/IlnlE0m2SHpB0n6SvuPtDtXgCAAAAABClLsP/JB3m7teb2RVSJmAys+FSB7n7LZJuydv35bztz0n6XDUbCwAAAABx1etK1T4zm6NsogkzWyFpV53ODQAAAAA1U68rVX+mzHyoo83sZ5J6JZ1bp3MDAAAAQM3UK/vfL83stZJeokyq9N+4+6F6nBsAAAAAaqmmQZWZvaPIQ8eamdz9u7U8PwAAAADUWq2vVP1+9t/DlVkA+M7s9usk3SWJoAoAAABAQ6tpUOXuF0uSmf1Q0vHuviW7PV/SlbU8NwAAAADUQ72y/y0dDaiynpd0bJ3ODQAAAAA1U6/sf3eZ2Y8kXaNMWvULJf2kTucGAAAAgJqpV/a/D2aTVvxOdtdqd/9ePc4NAAAAALVUrytVo5n+SEwBAAAAoKnUZU6Vmb3DzB4zs11mttvM9pjZ7nqcGwAAAABqqV5Xqv5R0u+7+yN1Oh8AAAAA1EW9sv89T0AFAAAAoBnV60rVOjO7TtL3JR0c3ZmdZwUAAAAADateQdUsSfslvTGwz0XiCgAAAAANrl4p1S+ux3kAAAAAoN7qlf3vWDO7w8weym6/wsw+WY9zAwAAAEAt1StRxX9KukLSIUly9wckXVincwMAAABAzdQrqJru7vfl7Ruq07kBAAAAoGbqFVRtM7OjlUlOITM7V9KWUgeZ2Uoz+42ZPW5mnxin3KvMbDhbLwAAAADUTb2y/10mabWk48zsWUlPSXrXeAeYWZukKyW9QdImSb8wsx+4+8MR5T4r6Ue1aDgAAAAAjKdeQdXbJd0i6SfKXB3bJ+l3zex+d19f5Jjlkh539yclycyulXS2pIfzyn1I0k2SXlX9ZgMAAADA+Oo1/K9P0gck9UjqlrRK0pmS/tPM/rzIMQskPRPY3pTdN8bMFkj6A0lfHu/kZrbKzNaZ2bqtW7eW036gLPQ9JIn+h6TQ95Ak+h+SUK+gao6kU9z9f7v7R5UJsnolvUbSHxY5xiL2ed72v0r6uLsPj3dyd1/t7n3u3tfb2zuhhgOVoO8hSfQ/JIW+hyTR/5CEeg3/WyxpMLB9SNISdz9gZgeLHLNJ0qLA9kJJm/PK9Em61swk6TBJbzGzIXf/flVaDQAAAAAl1Cuo+o6kNWZ2c3b79yVdY2YzVDhHatQvJC0zsyMlPavMulbvDBZw9yNH75vZNyT9kIAKAAAAQD3VJahy978zs1sknaHMsL4PuPu67MORWQDdfcjMPqhMVr82SV9z9w1m9oHs4+POowIAAACAeqjXlSq5+/2S7p/gMbcokzUwuC8ymHL3Pyy7cQAAAABQpnolqgAAAACApkRQBQAAAAAVIKgCAAAAgAoQVAEAAABABQiqAAAAAKACBFUAAAAAUAGCKgAAAACoAEEVAAAAAFSAoAoAAAAAKkBQBQAAAAAVIKgCAAAAgAoQVAEAAABABQiqAAAAAKACBFUAAAAAUAGCKgAAAACoAEEVAAAAAFSAoAoAAAAAKkBQBQAAAAAVIKgCAAAAgAqkOqgys5Vm9hsze9zMPhHx+LvM7IHs7edmdmIS7QQAAADQulIbVJlZm6QrJb1Z0vGSLjKz4/OKPSXpte7+Ckl/J2l1fVsJAAAAoNWlNqiStFzS4+7+pLsPSrpW0tnBAu7+c3ffkd1cI2lhndsIAAAAoMWlOahaIOmZwPam7L5iLpF0a9QDZrbKzNaZ2bqtW7dWsYnA+Oh7SBL9D0mh7yFJ9D8kIc1BlUXs88iCZq9TJqj6eNTj7r7a3fvcva+3t7eKTQTGR99Dkuh/SAp9D0mi/yEJk5NuwDg2SVoU2F4oaXN+ITN7haSvSHqzu2+vU9sAAAAAQFK6r1T9QtIyMzvSzNolXSjpB8ECZrZY0nclvcfdf5tAGwEAAAC0uNReqXL3ITP7oKQfSWqT9DV332BmH8g+/mVJfyVpjqQvmZkkDbl7X1JtBgAAANB6UhtUSZK73yLplrx9Xw7cf7+k99e7XQAAAAAwKs3D/wAAAAAg9QiqAAAAAKACBFUAAAAAUAGCKgAAAACoAEEVAAAAAFSAoAoAAAAAKkBQBQAAAAAVIKgCAAAAgAoQVAEAAABABQiqAAAAAKACBFUAAAAAUAGCKgAAAACowOSkGwBAOv2DXw5tt+18JrS9/YxLC46Zff81oe2dx/5uQZmeX98Q2n7xNR8K13HXFwqO2XHS+aHt7sfuDG3vOu3igmO67v16uC2n/WFoe/IzDxYcc8zLVoS2H+l/vKDMOccfGdq++YWR0PZbewv/LnTILXyezqHQ9uBI+HFJmjUlXO+kwiKyvH1t5gVlLljRE9q+Ye2OgjLnnZorc2PE45J07qk9kftrLdie4CsyOJx58h1tued8YCj3grQF3oaBwP4dg5kHRgIv1QsHc4U3B+53Tc4V+vnOQ2P3h4ey90dyLZq8+eGx+5OGc2Wn7tyUK7OzX5Lk7TNydU2fk3t8R3+uUSPDufuH9ufKzz1ekjQ0bfbYPp/Ulnu8fdrY/YHeo3N1TJ6aaU9n99iuWVNyX7d9nbnzzQo872C/O7wjU2Z6kcfzu+hFp2XOdd2acJ+6YEVPQT8b7V/F9tfLGZd+sehj91z1wbLqfM07Px65/+7vfLas+iTpxH9YG7n/11ecWnadUd77vQOR+7/5B9Mi98ex+u5dkftXvaar7Drz+9io/M+/ibjpvug6z1leuz75mvMuj1Xu7hsKvyfz/ftPdsc+74deNyt22fFcu2Zn7LIXruiuyjmLfWdFqdbnSbG+EaWW/SUOrlQBAAAAQAUIqgAAAACgAgRVAAAAAFABgioAAAAAqABBFQAAAABUgKAKAAAAACqQ6qDKzFaa2W/M7HEz+0TE42Zm/5Z9/AEzOyWJdgIAAABoXakNqsysTdKVkt4s6XhJF5nZ8XnF3ixpWfa2StJVdW0kAAAAgJaX2qBK0nJJj7v7k+4+KOlaSWfnlTlb0jc9Y42kbjObX++GAgAAAGhdaQ6qFkh6JrC9KbtvomVkZqvMbJ2Zrdu6dWvVGwoUQ99Dkuh/SAp9D0mi/yEJ5u5JtyGSmZ0n6U3u/v7s9nskLXf3DwXK/D9J/+Du92S375D05+5+f7F6+/r6fN26dZGPdXZ1662fu7Vk2374sTdr766dE3g2SLM473uJ99zinGe8vgeUKVbfk+h/qAk++5AUPvuQlKJ9L81XqjZJWhTYXihpcxllAAAAAKBm0hxU/ULSMjM70szaJV0o6Qd5ZX4g6b3ZLIArJO1y9y31bigAAACA1jU56QYU4+5DZvZBST+S1Cbpa+6+wcw+kH38y5JukfQWSY9L2i/p4qTaCwAAAKA1pTaokiR3v0WZwCm478uB+y7psnq3CwAAAABGpXn4HwAAAACkXmqz/9WKmW2V1F/k4cMkbatjc9KO1yNnvNdim7uvLFVBib5XznmbSSs8z1o8x1h9Tyq7/yWlUftDq7W7Gp99jfia0eb6qPh7Vxq3/zXiaxJHsz4vKR3PrWjfa7mgajxmts7d+5JuR1rweuQk9Vq0ynvQCs+zFZ5jtTTqa0W7G+vc5aLN9VHrNjfiaxJHsz4vKf3PjeF/AAAAAFABgioAAAAAqABBVdjqpBuQMrweOUm9Fq3yHrTC82yF51gtjfpa0e7GOne5aHN91LrNjfiaxNGsz0tK+XNjThUAAAAAVIArVQAAAABQAYIqAAAAAKhAywVVK1eudEncuFXzFgt9j1sNbrHR/7jV4BYLfY9bDW6x0f+4VflWVMsFVdu2Jb1mGFoVfQ9Jov8hKfQ9JIn+h3ppuaAKAAAAAKqJoAoAAAAAKkBQBQAAAAAVIKgCAAAAgAoQVAEAAABABSYn3QAgSTeu3RG77Lmn9tSwJdU3ODio9evXh/addNJJam9vT6ZBQIp8596doe13ntadSDtQXcU+0xvt8xtAbdx0X7zffecsn/hnBkEV0KTWr1+vD155s7qOOEqStGvzk/riZdLy5csTbhkAAEBzIagCmljXEUdpzpHHJ90MAACApsacKgAAAACoAFeqspp5bg0AVBtzklCp8b53+Z4FIMWfAyWVNw+qmgiq0NJa/YubZBZoVQSBzanVP9MBjK+WgRdBFdDCSGYBAABQOYIqoMWRzAIAAKAyBFVACqVpWF6a2gIAAJBGBFVoaWlNUJKmYXlpagtQLSTaaE4s/gsgKQRVWXzgIm3SNCwvTW1BOhCEoFJ87wJoJqxTBQAAAAAVaJgrVWbWLekrkl4mySX9kaTfSLpO0lJJGyWd7+7xx3MBDSpqnpPEXCcAAIAkNExQJekLkm5z93PNrF3SdEl/IekOd/+MmX1C0ickfbycym+YwNya8xiygITlz3OSmOuE5pQ/92nU6PDDas+NqkZ9wToYJlnctWt2Fn3swhXddWtHKdcX+X1wPr8FAAQ0RFBlZrMkvUbSH0qSuw9KGjSzsyWdmS12taS7VGZQhdY0knQDKsA8J6B8BDvNiXlaQHMZ9qRbEF+jzKk6StJWSV83s1+Z2VfMbIakue6+RZKy/x4edbCZrTKzdWa2buvWrfVrNVoefQ9Jov8hKfQ9JIn+hyQ0SlA1WdIpkq5y95Ml7VNmqF8s7r7a3fvcva+3t7dWbQQK0PeQJPofkkLfQ5Lof0hCQwz/k7RJ0iZ3X5vdvlGZoOp5M5vv7lvMbL6kFxJrIdCiSJoBAABaXUMEVe7+nJk9Y2YvcfffSHq9pIezt/dJ+kz235sTbCbQkkiagWorlpwCKIXFf4HaKfb/K0or/p9riKAq60OSvp3N/PekpIuVGb54vZldIulpSeeVWzkZ/VqTJd2AJkHSDNRDVHKJaiecqEZ9JMGIZ7I1xgx0svwByWmk/38NE1S5+3pJfREPvb7OTQEAAACAMY2SqAIAAAAAUomgCgAAAAAq0DDD/2rtujXxJ99dsKJxxncCQFp9/Z5doe2Lz+iq27nzk2FUOg9qIs+l2udGbV1TJHHKRbxvAAIIqtDSGmOaNNBagkEGmQCb10jSDQAwIcP8aBoXw/8AAAAAoAIEVQAAAABQAYb/AQCaQnCo4K7B3Cp0l762q+DxfKNzoqa2hce3lDvfafRczJcCgNZAUJU17CwDi2QMDg5q/fr1oX0bNmyQO4OX0dziJKaoZVAyWnd+kolyBJ9LqXlgBFoZIzX43j04XP06p0zisxiQJBe/lcdDUAUkbP369frglTer64ijxvY9+8A96jn65ARbBQAAgLgIqoAU6DriKM058vix7V2bn0ywNQAAAJgIElUAAAAAQAW4UgUAqJvgfKP8+S/lLJgbnA81ta3cthSfJ/Cde3eG2lkskUUl7QCAifrWz3bGLvue07tr1g7kEFRlkROgNe0/xKRLoBl1tRd+qBcLjooFSuUuPHxw2GIl4Wh1h4arX+dIDb7LDwzxPQFI0oUrupNuQqox/A8AAAAAKkBQBQAAAAAVYPgfAKBqis19qlZ9o676aWYOU0dK5y+NzrEaHQY42t5RowsSA6OuX7sjcv/5p/aUXeeNReo8t4I6AUQjqMqqxThspF8tFp8EUFwlQdbosfkByqjxEkpIxRfo3TU4/udAVF3j1V2NxYRRnsGRGiz+m9LAHa1tmN+tqcPwPwAAAACoAEEVAAAAAFSAoAoAAAAAKsCcKgBA3RRLZBGcJxW1xpRU/lyl0XP2781NjlnSWbz8P9y+p2SZ/LrD4s/rGW8trGom+ai0LmAUyS+AaA0TVJnZRkl7JA1LGnL3PjObLek6SUslbZR0vrtH/28vYfchLtq1oq0Hed+Bagomi6hVfR1tucQQ1U4KsXMw95kwmsBiy4FwpoK/XZmJtooFRAMRi9qS7a9Q8LVOc5376rRIPImTMBEv8vsldRrtHXmdu5/k7n3Z7U9IusPdl0m6I7sNAAAAAHXTaEFVvrMlXZ29f7WktyfXFAAAAACtqGGG/0lyST82M5f0H+6+WtJcd98iSe6+xcwOjzrQzFZJWiVJixcvrld7AfoeEpWG/jc6RK7ac3qSXPx3vHlQ1TymkaWh76F11bv/XTOB/98XMb+xaTVSUHW6u2/OBk63m9mjcQ/MBmCrJamvry9yBnT7JFZRa0UdMRb1rEScvgfUShL9r9gCu6OKBVfBOUfBeVJRC+8GF+sttjDv6FysnYGywf/vzx/IDdToDiTG6G4fGbs/mjCjoy03SWq8hYDLDRxHj6t24JVkcoo4fS/OosoTVYvv8lp/T4xyviGqphW+e4sl9EFyGmb4n7tvzv77gqTvSVou6Xkzmy9J2X9fSK6FAAAAAFpRQwRVZjbDzGaO3pf0RkkPSfqBpPdli71P0s3JtBAAAABAq2qU4X9zJX3PzKRMm7/j7reZ2S8kXW9ml0h6WtJ5CbYRQBGDg4Nav359aN9JJ52k9vb2ZBoEAABQRQ0RVLn7k5JOjNi/XdLr698iABOxfv16ffDKm9V1xFGSpF2bn9QXL5OWL1+ecMtQrvz1oUbnUk1kXlCxhYAbVfA1ufiMrry5YcWPG0260RXxN4Zme40AoFk1RFBVD4/v5aVoRbtqsFAkonUdcZTmHHl80s1AgxlNOBFMahDM+Pfortxnd08gyYQkfeSsWWMBiyTdtnXq2P0VXYfG7u8czB3zbGCh3wXTClfxnTst145doSQY4z6NgkWMR4PQYPt2DVpLLRK8owafv/kLNVdDvRZZHRopXWaiDo2woHA9PLSz/r8hL/md1vmsaBT8ogQAAACAChBUAQAAAEAFGPMGABhXcF5PpXN6xptzlXusOkOW8ud91VPmuRR/HqXa1mqLBQNAoyOoyppiLKLWimZNqcEgdqAFBBf5DQoGXXECg6iFbwcCU5lG5yodHLbIZBjTAnOtBoZNV7xhpqTooCU4j2retNz//V+8OGXs/qtm58qMzuMKzp0K3t8ZmBMUrC9qUdvgvuD8qlJzsSSSU0zEzAb+TJ9cg7FDF9Wg75x7ak/V62x00+u0QDTSjeF/AAAAAFABgioAAAAAqABBFQAAAABUgDlVAICqKTaPqtj+0blP4y2OO+ofbt8jSVrSWbzMX922V5J05Dhl0ixugopiiwKzWDAa0Y1rd0TuZ/4WGglBVdYPt8af3Pp/atgO1Nc1z7fHLvvh2jUDSLVa/TAPJmwI3h8I3N9yIDOgIpiQ4rpnO8buLwss0BucLH71s5mFfvs6c4/vD9R7IHB/eijZRa59V2fPE6wjuCDwjwIJLroCQeHb5x2UJD13IDqRRVBUUotWcWfg9cv38TLrvG5L9Ot5RZn1SdKT+6q/oHCUbQMMHmpUN70QP2PpX9awHUgW/4MBAAAAoAIEVQAAAABQAYb/AQAANKHri8xVOp+5SkDVJRZUmdkMd9+X1PnznX04F+1a0e/MGi5dCEDZ3nlad+ykCqO6A1MdB4Y9uy83J2l0zpIk7RyMnssQnAc1Kriwb1Bw7lNwMd43Zcs/cyC3s7s9N2fngkA7ggaGpUtf26WrfrqrYJ+kvP02tn8iSSaKPdZIiSneOCf6/cjoGOex4l7TU/2fNUtn1Od7Ysbk1p1f1+gJKd44O/6cKjSvukcSZvZqM3tY0iPZ7RPN7Ev1bgcAAAAAVEMSl2c+L+lNkrZLkrv/WtJrEmgHAAAAAFQskTFv7v5M3i7GYAEAAABoSEnMqXrGzF4tyc2sXdKfKjsUEACQnDhznyY6Zydq3tREFvxtVH91217Nnxbe9/k7d0sKz9sK7p+bV370dbr4jK7Y563G4r+VvN9ofs2yUO/Lv7YtVrkH/+iwGrcEzSKJoOoDkr4gaYGkTZJ+LOmyBNoRctPDT8Uu+zcrX17DlqCebn18U+yy/6SX1LAlGBwc1Pr160P7TjrpJLW3x1+gGekXXOS3f28wAUQuEcVA1CK9g7mBFTdtzR03sG/P2H0f3D92/5i58yWFFwceXRBYkvYO5863oD1X9xMbc0kkXjN3piTp4UAii4cDdby4P5dr6aKFuX462uYHd+UWt13WORT5/IKeD5wnmBCjWX3t4eeLPvbR188sq847Nm4u8sgxZdUnSbdsjf4MurzsGqM9X4PFfweGSKBQD91Tohf3Rmupe1Dl7tskvave5wWQbuvXr9cHr7xZXUccJUnatflJffEyafny5Qm3DAAAYHx1D6rM7N8idu+StM7db653ewCkR9cRR2nOkccn3QwAAIAJSWL4X4ek4yTdkN0+R9IGSZeY2evc/cPFDjSzNknrJD3r7m81s9mSrpO0VNJGSee7e/RgX6DJjQwPacOGDWPbGzZskHvzDyFCZYqtFYX0qcZ8KQBAbSQRVB0j6Sx3H5IkM7tKmXlVb5D0YIljL1cmqcWs7PYnJN3h7p8xs09ktz9eTqNeuqT88dZoXK9YtDjpJlTNnuef1uf7BzT3t5mx3c8+cI96jj55QnXkB2YSwVmrifqhPpEf78GyUQkPgvvmTcvNQ5jalutjHaF8sJkywTlGbwkstNkzL5fdYWB4euC4zMKyBwLzl4ILAj93MDh/JVf3yiM6x+7vzxY/u3cwcI5cfUsW5+Z2PX8gV8foOYvNo1oSsTDxqNHXaTRJxURVI9CqV7B26qIFVa/zpAXVr3PFrKHSharg8I7qz8vpaOEFhUs5dtaMqtX1iTeUNwcQzSWJoGqBpBnKDPlT9v4R7j5sZtHL00sys4WSfk/SpyX9WXb32ZLOzN6/WtJdKjOoAtIs7lWomXOXjA2f27X5yQmfJz8wk8oLzgAAAFpJEkHVP0pab2Z3STJlFv79ezObIem/xznuXyX9uaTgnwPmuvsWSXL3LWZ2eNSBZrZK0ipJWry4ea5MIP2q1feqcRUqrmBgJpUXnCEd+OxDUuh7SBL9D0lIIvvfV83sVknvkfSoMkP/Nrn7PkkfizrGzN4q6QV3v9/MzizjnKslrZakvr4+roWjbqrZ9yq9CsXQvtbDZx+SQt9Dkuh/SEIS2f/er8zcqIWS1ktaIeleSWeNc9jpkt5mZm9RJtHFLDP7L0nPm9n87FWq+ZJeqGnjgQbG0D6UqxqLwf7D7Zn1pJZ0lijY4qLmUpFMBADSL4nhf5dLepWkNe7+OjM7TtLfjHeAu18h6QpJyl6p+t/u/m4z+5yk90n6TPbfslOyP/7QmviFz3lduadByjz2y5/EL/yOt9SuIXXC0D7kq2VSgl2DmeQMOwML9xZb4PbRXbmvo/mBBXvv35lZQPehvYfG9o0M56bfTmqbEtifSygxvHubJMmmd+catCf6726TD1sydv9XL+weu982NZME4+c7pwRK59o8eXJuUdjgAsIL2gsTDgSfU/A1CCawKJa4o1n94vHfjvPoiWXV+ej6u6MfeMebyqpPkr7/fHSiinF/uJTh4V3V/0l2sAaL/w55cywo3P/ru+IVPPfNNW0Hmkf1l+8ubcDdByTJzKa6+6OSXlJmXZ+R9AYze0yZ7IGfqVIbAQAAACCWJK5UbTKzbknfl3S7me2QtDnuwe5+lzJZ/uTu2yW9vuotBAAAAICYkkhU8QfZu58ys59I6pJ0W73bAQAAAADVkMSVqjHu/tMkzw8AqK5wUoXmmHsBAEApiQZVaTK06OVJNwEJmH/ieEknAUjlJ7Poane987TuUKA1mrxCknYG7ve0j+gjZ82SJF3101wGvFd2ZxJUnD4nl7jhP/pziSPetzB3vqs35fa/YlFmbZp5U3PJH/YP55Y5XBRIHPHMgbax+/dNnj12/8yuzDmnB5JGHNeVS1rwyxdz+4/uzCXP+OqzmXa8a15hwgpJmjstvH/09Q0+76ltilTLxCL19qpjjq16nYNLTql6nW/unVK6UBUsnjFcutAETSnSjyox2ZojicrIS34n6SagySSRqAIAAAAAmgZXqgBMSP4iwiwgDAAAWh1BFYAJyV9EmAWEW8d4i9BWY1jan/xgvyTp5V0VV9VQ/uq2vZKk+dNKly21EHP+ezTe+zKRsgCA8RFUZXXf+434hf/of9esHaivnT/+YvzC5/G+jwouIswCwijl4HBwHlVu1PmGPbmvoFmTc1c7v/jInrH7vT2HZY47mFvYt3tqbtHdr617eOz+pMDiv+sPO1KS1PH0L8f2HZreM3a/Y8czkW2dMpSbG3XnrPmSpONf8eqxfd/fknu8PdCO6W25ySujCwF/+7nc81veGXk6HRZYKLgrsBhy8DW7+IxMlDleUNuIHv7ZD4o/+PYLyqqz+77/in7gko+UVZ8k/b+HHo3c/5m3vLLsOqM8sbf6P8n2Hap+spjomYKNp/POf49X8N1X1LYhaBrMqQIAAACAChBUAQAAAEAFCKoAAAAAoALMqQIAjKuSuTyZY1kEOEkkpEDa3bh2R+T+c0/tidwPpBFBVdau0y5OuglIwI5XvSvpJgBNJfiDPSoYW9KZW+C0oy06Ff/LX5pbpPeJvZny07tyAyt62nMJKXZ05RaQ3R9I7vDjFwYkSWeueE3kOW59Jrdq8MmHzxm7/9DeQ2P3D+3ZLkl6dCDXzjce3jF2f0579GKtZ87OtG8g0J7uIgkpipka8drECYYmEjAlHVwdfMVbql7nzuXvrnqdrzjm+KrXGeXozqHShSao2P+xSpzfJIHOi/zuQ5Ux/A8AAAAAKkBQBQAAAAAVYPgfAKBiX79nV8G+qW0RBTFhV/0099pe+tqugn3B/cyfQq0x/wmIRlCV1XXv1+MXZvHfpjH7jn+KX3jVP9euIU1mZHhIGzZsGNvesGGD3Csb2z84OKj169cX7D/ppJPU3t5eeACqJmoh2qCogEqS+vdmoqrtg9GDIqYH5nvcvSv3ddQXmHd1167MuY/ryNWx/pl9Y/cnT502dn/Sk78Yu29TZ0iSfrQ11zdGsvskaVZ/rmz//c/l6lhwcu7+6GLBPXPH9t3+wINj96csecXY/YF9uQWLJ03OPJdJbVPG9r3t8GCEmXt+Ww7k9vcE5l1Vcy5MWgOrtt/eM86jby6rzp7bPxv9wCUT+KzP8/CDa6IfeMfryq4zypodUyL3X15BnYeaZaXeGpj903+LV/CP/762DUHTIKgCUHV7nn9an+8f0NzfZr7Rn33gHvUcfXKJo8a3fv16ffDKm9V1xFFj+3ZtflJfvExavnx5RXUDAABUgqAKQE3MnLtEc47MZM3atfnJqtTZdcRRY3UCAACkBYkqAAAAAKACXKkCAExYsXlUqK1cIgoWVAaANCGoytq57Kykm4AEvPh6ko4ApUQlpwjKX6h2NDHCaOA1b1putvzOwVwwMDewP5ikIbho7ltmZ+4HE1msPKIzsh2PTT997H7//swCvEdNj05isuyY3OK/zx3MDdr49eOPjN0/6qjMUNNnB3Nt83nLxu4PDeUWa33X0ulj9w9k2x9cjHj+tFzZ4PM7sjN6AWEp87oHg9fg69zV7pEJKNKalCLKgbnHli40QdtXXFL1Oo97+Yqq1xllRc+hIo9MK7K/tFpk4GyWLH/b+96bdBPQZBpi+J+ZdZjZfWb2azPbYGZ/k90/28xuN7PHsv82x/90AAAAAA2jIYIqSQclneXuJ0o6SdJKM1sh6ROS7nD3ZZLuyG4DAAAAQN00xPA/zyxwsze7OSV7c0lnSzozu/9qSXdJ+nidmwcATaeSRWSZ91Mdceet5ZcbHa4ZfA8baVgg0u2avM+GURfRx9DiGiKokiQza5N0v6RjJF3p7mvNbK67b5Ekd99iZocXOXaVpFWStHjx4sj6e9ZfP4HWnDKRpiPFZt/zH/ELr/rUhOuP0/eAWqll/xsYDt43Xfrawh/yo3OAdgXmUT0bWOw2OLfoRy/mFj7deXBw7P6S6Zn9r+nKzUl6cn+ujl8983Rk+7qe/Fmm7IKTcu3Z8/zY/WfacnOtpu7eMnY/OFvr2Wz5A4fl1kabumPT2P2hJbm6v/Or/rH73rNAkvSORbnFhh/clXt+i6YF51Hl5kltCMwbOyH7fIu9zmkXp+/NXv/dcWr4WFnnnXP/NUUe+duy6pOkB/ufKvJIdZd32LC7+j/J9hxqzT9sxOl/c9Z+LWZt/1ilVqHZNcrwP7n7sLufJGmhpOVm9rIJHLva3fvcva+3t7dmbQTy0feQJPofkkLfQ5Lof0hCw1ypGuXuO83sLkkrJT1vZvOzV6nmS3oh2dYBiGNkeEgbNmwI7duwYYMyI30BAAAaS0MEVWbWK+lQNqCaJul3JX1W0g8kvU/SZ7L/3pxcKwHEtef5p/X5/gHN/W0uVfWzD9yjnqNPTrBVAAAA5WmIoErSfElXZ+dVTZJ0vbv/0MzulXS9mV0i6WlJ5yXZSADxzZy7RHOOzM1J2LX5yQRbAzQGkk8AQDo1RFDl7g9IKvgTtrtvl/T6apzjxTMvr0Y1aDAvnnx+0k0AGlJHkUVFDwaST4wmquhqzw3rPLozehHc9y04OHb/uQO56b4dbYMFZYPeffwRY/eDyS4WLspMTt8UmKjf1/mSsft3/mLN2P1Dfe+IrHt0cV87eGBs34ojF43dv29vruw5J+cWBR5d7HhgOJdlYn4gOUXwtQsmogi+NqOCr10x+YsvN4odJ/xe1evcftofVb3O1xy9tOp1Rnn5rML3v1IzJle/b9Qiy18SCwpvf/Wqup8Tza1hElUAAAAAQBoRVAEAAABABRpi+B8AIFmjc3mKzeNhwd/0yF+4OX/f6HtYyQLPaF3XrtkZuf/CFd11bQeQNgRVWbPv/vf4hVf9fe0agrqa/fMJLP77kS/UriFAygR/YEf9SL/4jK7Ix6e2+dixn79z97jnCC8EnMsEGZwb1ZUt8sTTj43t88DCvb+amltgt23qtLH7h+6/QZI0NH3O2L4fv/SssfvBL7/p37ti7P7+41bmHmjPLAXc/eyvxnbd15ubOxVcFPjb+7rH7h82K/PaFFuweFZgnsurZh9SlNG5VlPz5q5FBT7jvVfvPK078v1Lg55HfzTOo+UtrDvnJ5+PfuBPyv/8/vmDv4p+4G2nl11nlKf3F5moWIHdLbr4bxxz4v7u+xDf/YiH4X8AAAAAUAGCKgAAAACoAEEVAAAAAFSAOVUAgAlL6zydVkGSCTSTG9fuiNyfxPpVQLkIqrJ2nHhe0k1AArb/7seSbgLQ8A4WWZi3O7twbZzFabsDi9y+KZC8YftgZkDFiccfObZv22BukMX0QN3PHczt33PmH0qSnh3MJcC4qDe30u5NU0/LnWNeblFg25/7cXfS0mMkSZuOfdXYvs5Amwf37xu7/8bDO8bur8suCtzTnjv3rECbz+gdHLsffO2CCwHHWfQ3SqlEFnH218uOvouqXuf21/1Z1euccuQrq15nlNmB/lItnTVY/HeSNeZi0/m2n/6BpJuAJkNQBSCVRoaHtGHDhrHtDRs2yL05vswBAEBzIagCkEp7nn9an+8f0NzfZv56++wD96jn6JPHPWZwcFDr168v2H/SSSepvb298AAAAIAqIKgCkFoz5y7RnCMz69Xs2vxkyfLr16/XB6+8WV1H5NYP2rX5SX3xMmn58uU1aydQL8xlA4B0IqjK6v7tf0+g9Ph/LUfjmPPzr8Yv/L/+unYNQdV0HXHUWCCG6ig19ya44G/Qcwcy84jmTYueK7IjMM+ouz03oWjNrtziv48/2y9J6p23ZGzf1uf6c8c99pOx+4dmzh+73/F8ZujoyOJTx/b919aFuTbv2DR2f8bBvWP39807buz+g7/5tSRpaHpgsnxgseEp02eN3b/18Vx9bz4mc577d+aex+lzcvOoHt2V++o9sjP3vDsCa78eHLbQAstS8yWnmLZx3TiPvrWsOuf8fHX0A3/y6bLqk6SBTQ8XeeSUsuuMcl+g36fZiFd/QeEkElLM+dV1MUt+qpbNQBMhpToAAAAAVICgCgAAAAAqwPA/AA2LDIEAACANCKoANKxyMgSiNr5+zy5J+WtStUUXRmwkpgCAxkBQlfXiK6u/CCHS78UTz026CajQRDMEojqCSRJGA6p8wQQVo0kXgkFCcHHcnYO5ye8rew/m9ncdkb0XWBC4M5dw4rbpfzB2v2PGzLH7i1/1xoL2PDqQC/gGpufaP2tWLiFEX6DNP92cSUphbbkEAocFyu4dzpV92aLFY/cXTMu0NbgwcTAJxfxpueQUwSB012D1EwCk2aGX/E7V63zxlHdWvc6Zi+uT+OaNgX4f1lFkf2n7hqrfpy5c0V31OpOw/RR+96G6mFMFAAAAABXgShWAlhK1QDCLAwMAgEoQVAFoKfkLBLf64sDlrn1UbMhfMVf9NFO+i9g1tr+6ba+O6ypdrtnWr0K6fetnOyP3v+f07rq2A0ibhgiqzGyRpG9KmidpRNJqd/+Cmc2WdJ2kpZI2Sjrf3XeUc44591wVv/AHyl9EEOky+6GbJ1D6hJq1A/XFAsH1MTpfKDhX6J6tuahqUWBu0YHhXJn9gftzsvOurtuSm3s0FFisNziP6lD/A2P3n3p2vSTJ2wJR3Kzc4sBdO3ILCOdma0l3H3X62P3O5x6VJA30LBrbt2NbruzwYUeO3d/Tnot+Rhf9fWV3ruYNgQV/T+gaGrv//IHcKPyOwPyqLQfaCh7vbm+uzJZTH/rxOI+eV1ads39xdZFH/rGs+iRp9+bHijzy8rLrjHLvi9F/cbi0qmfBqDm/+GbMkvzmQzyNMqdqSNJH3f2lklZIuszMjpf0CUl3uPsySXdktwEAAACgbhriSpW7b5G0JXt/j5k9ImmBpLMlnZktdrWkuyR9PIEmAkgp1rICAAC11hBBVZCZLZV0sqS1kuZmAy65+xYzO7zIMaskrZKkxYsXRxUBaoK+l7xWXsuK/oek0PeQJPofktBQQZWZdUq6SdKH3X23Wbz1F9x9taTVktTX18efqFE39L10aNW1rKrV/4KJEEiCgDj47MNE3Lg2ejr8uaf2lFUf/Q9JaJigysymKBNQfdvdv5vd/byZzc9epZov6YVy6x/uXlS6EJrO0KwFSTcBSFS1gqTRxX2DPn/n7oJ9L+86VLBPkoKtGE3SEPSyztwCvI9Ozn11Hdj94tj9aUteMXZ/NJXFlP25H2sDPblFgw8cdtTY/cmBMjM3/Xrs/u4lr8rUuy0XiA8tyyWy6Ai0o3//4Nj9keHR5zh9bN+sybnfdc8Fkk8EE3Qc2Tkceb+URg10bTi6L1RiaG71E9D4pPr8VHrJjKHShSZo5pTqxxNTJzdHjDLctbB0IWACGiJRhWUuSX1V0iPu/i+Bh34g6X3Z+++TNJFUbgAAAABQsUa5UnW6pPdIetDM1mf3/YWkz0i63swukfS0ys3BCqBl5SeyGMWCwAAAIK6GCKrc/R5JxSZQvb6ebQHQXPITWUgsCAwAACamIYIqAKilYCILKfrqFVeuAABAMQRVWT/74geSbgIS8PN/fV/pQmg5+VevWv3KVVQihKjEFPk+ctasGrQm3/Qi+1eUWV/UcS8psy6MZ80/v7Pqdf78X/+w6nVu+PBLq15nlL9848yq1/muV3dXvc7zy8zIN55ys/xV4mdXXlr3c6K5EVQBQIT8q1cAAADFEFQBQAkMBwQAAOMhqAKAEvKHA+545jFd9voNOuGEE0LlgoHW4OCg1q9fX/RxAADQPAiqACCG4HDAXZuf1OdveyiUMTA/0NqwYYOu+snj6lpw1NgxrTwvCwCAZkZQBaTArs1Phrb3btusyQMD2j5jRqztWh2Tprakrv2ds0Pv2f4dz+vvvvG4eo54SJK07cmH1LX0ZQqmc4haDysOAjEAANLN3D3pNtSVmW2V1F/k4cMkbatjc9KO1yNnvNdim7uvLFVBib5XznmbSSs8z1o8x1h9Tyq7/yWlUftDq7W7Gp99jfia0eb6qPh7Vxq3/zXiaxJHsz4vKR3PrWjfa7mgajxmts7d+5JuR1rweuQk9Vq0ynvQCs+zFZ5jtTTqa0W7G+vc5aLN9VHrNjfiaxJHsz4vKf3PbVLSDQAAAACARkZQBQAAAAAVIKgKW510A1KG1yMnqdeiVd6DVnierfAcq6VRXyva3VjnLhdtro9at7kRX5M4mvV5SSl/bsypAgAAAIAKcKUKAAAAACpAUAUAAAAAFWi5oGrlypUuiRu3at5ioe9xq8EtNvoftxrcYqHvcavBLTb6H7cq34pquaBq27ak1wxDq6LvIUn0PySFvock0f9QLzUNqszsI2a2wcweMrNrzKzDzGab2e1m9lj2355A+SvM7HEz+42ZvSmw/5Vm9mD2sX8zM8vun2pm12X3rzWzpbV8PgAAAACQr2ZBlZktkPSnkvrc/WWS2iRdKOkTku5w92WS7shuy8yOzz5+gqSVkr5kZm3Z6q6StErSsuxtZXb/JZJ2uPsxkj4v6bO1ej4AAAAAEKXWw/8mS5pmZpMlTZe0WdLZkq7OPn61pLdn758t6Vp3P+juT0l6XNJyM5svaZa73+uZ/O/fzDtmtK4bJb1+9CoWAAAAANRDzYIqd39W0j9JelrSFkm73P3Hkua6+5ZsmS2SDs8eskDSM4EqNmX3Lcjez98fOsbdhyTtkjQnvy1mtsrM1pnZuq1bt1bnCQIx0PeQJPofkkLfQ5Lof0hCLYf/9ShzJelISUdImmFm7x7vkIh9Ps7+8Y4J73Bf7e597t7X29s7fsOBKqLvIUn0PySFvock0f+QhMk1rPt3JT3l7lslycy+K+nVkp43s/nuviU7tO+FbPlNkhYFjl+ozHDBTdn7+fuDx2zKDjHskvRijZ4PmtCNa3fELnvuqT2lC6Fs37l3Z+T+d57WXdd2oLUMDw9r48aNY9tLly5VW1tb8QPQcm4o8j1xHt8JDe2m++J9/5+znPcZ8dRyTtXTklaY2fTsPKfXS3pE0g8kvS9b5n2Sbs7e/4GkC7MZ/Y5UJiHFfdkhgnvMbEW2nvfmHTNa17mS7szOuwIAoKSNGzfq/Vfeosuv/aXef+UtoQALAIC4analyt3XmtmNkn4paUjSryStltQp6Xozu0SZwOu8bPkNZna9pIez5S9z9+FsdZdK+oakaZJuzd4k6auSvmVmjytzherCWj0fAEBzmjFnnjp7F5YuCABAEbUc/id3/2tJf523+6AyV62iyn9a0qcj9q+T9LKI/QPKBmUAAAAAkISaBlVA2jFPKj2YOwUgjZg71ZyYK4Vqq/U6VQAAAADQ1LhSlUUWuNbU7O97VEa9WlwRqtd5gGoZzfrX398v0hsl47o1xT9/L1jReJ+3aCxxv/8b8bsfySCoAgC0nNGsfwd2blXngmM1U5KPjKi/v3+sDOnVAQBxEVQBAFrSjDnzQtv7d7ygT960SbOP2K5925/TVy57i44++uiEWgcAaCQEVQAAZE2fPZf06gCACSOoymLMbGtq9ve9XvOamD8FYKKYN4UkNfv3P+qP7H8AAAAAUAGuVGU1exY4RGv2970WWfmi6qxGvUC1jGb2G0XCiXS6YZzP3zStDVWsnWlqIyaO7H+oNoIqAEBTGc3sN2POPBJOAADqgqAKaDHFrjQFNfNVJ660tYYZc+aRcAJA07rpvvgjbc5ZztW2eiCoyuLybmsabvJFP/MDhTgB1UTrBIByjDT55y+A1kKiCgAAAACoAFeqsq5bE/8yKmlg0SiqcWUqTrKLaiTEiDMsrxaJNwA0j2uKfI5cxOcEaqjZk14hHoIqtDSzpFtQf60ehLT68wcwMWT5a06NPvqUeVLpQ1AFAEAeHxlRf3//2DZp2QEA4yGoAlKolsPcgnUfHI6+VHfxGV1VORfQqPbveEGfvGmTZh+xnbTsLY51qgDEQVCVxTyp1jQ80tzj/6qR/S9OMFeNgK9e5wHimj57LmnZa2hSDT5+J1mjD+pCvVSzpzBPChLZ/wAAAACgIlypyiqWMSgKWYSQRrVa1Paqn+4q2Hfpa5MZHkj2PwBIFsMhC7EQLySCKrS4KZPSOVSkVoECAQhaDQknAAD1QFAFAGhaJJwAANQDQRWQAl+/p3CIXdDUtupcUStvId/Ss8lL1Rs3QQZX0lALJJxAI6jFsDqG6gH1Q1CVlc5BYKi1gSIpxRtVLYKSrnZPTbCTlnYAqNxQDbKv1qLOEX4ghDRLQDZYxe9/5klBIqgCAGBczMsCAJRCUAU0kXLWocrP7tfVXrpMnOx/5bSlGsgQiGKCwVF/f7885hUI5mUBGA/Z/yARVI3h8n5r2j2YzqXadg6GhyXMnRbdQcuZtxS0a7Bw+MPBvCERA8Ol6yl3kWGCHdRTMDja9sSD6lxwbOxjmZdVfUMj1a9zx8Hqf6bXYpHiKPwOqa8DQ801/B/JS+cvSgAAamA0OJrW3Zt0UwAATYQrVQAmLP9KVP7Vrakxp5uUynooSRefkRtqmNSQQgAAgPHUNKgys25JX5H0MmUS7P2RpN9Iuk7SUkkbJZ3v7juy5a+QdImkYUl/6u4/yu5/paRvSJom6RZJl7u7m9lUSd+U9EpJ2yVd4O4by2nrfi4Dt6TBGgw/qYYdecMSdwxO0t+u7JxwPfnD+zrygp387VHBQKZwzlV1xqjkB2LVxLDC1jM8PKyNGzdKmth8KTSXWgzV2z5Qn0E9I87vkHqq5ncQnzeQaj/87wuSbnP34ySdKOkRSZ+QdIe7L5N0R3ZbZna8pAslnSBppaQvmdnoT76rJK2StCx7W5ndf4mkHe5+jKTPS/psjZ8PACCFNm7cqPdfeYsuv/aX+ov/uksHDx5MukkAgBZSsytVZjZL0msk/aEkufugpEEzO1vSmdliV0u6S9LHJZ0t6Vp3PyjpKTN7XNJyM9soaZa735ut95uS3i7p1uwxn8rWdaOkL5qZufM3AzSf/CtG+VeZ4g65iyPOsLx6qXTIH0kzWseMOfPU2btQ+7Y/l3RTAKCmbiyysHOUc5tkbbG0q+Xwv6MkbZX0dTM7UdL9ki6XNNfdt0iSu28xs8Oz5RdIWhM4flN236Hs/fz9o8c8k61ryMx2SZojadtEG/vCAGuOtKJDNVgoshrmT4uRci9PVCa//MArP5PfE3sLPwJO6BrKOyZcb1fEUtlT28L7Sg07HBUcZvj5O3cXPD53WunxmQRDQGPq31f9nyAv1iCjazX/YFVvzbJQby3sreK0j2H+lA/VdvjfZEmnSLrK3U+WtE/ZoX5FRPVuH2f/eMeEKzZbZWbrzGzd1q1bx281UEX0PSSJ/oek0PeQJPofklDLK1WbJG1y97XZ7RuVCaqeN7P52atU8yW9ECi/KHD8Qkmbs/sXRuwPHrPJzCZL6pL0Yn5D3H21pNWS1NfXx98TUDf0vfGFh+aV9zee/KGK+VfjohYzbhX0PySFvpcO162JHiJ2wYrmvoJF/0MSahZUuftzZvaMmb3E3X8j6fWSHs7e3ifpM9l/b84e8gNJ3zGzf5F0hDIJKe5z92Ez22NmKyStlfReSf8eOOZ9ku6VdK6kO8udT8Wie61pT0qyPj61Nzy+pKc9POwtahhcfuaiYkPsxpM/1C9KfibCqLY8uqvwoySYrfAfbt9T8PiSztJDHJ8/MEkfOWvW2HapVO5Rdg2aLn0tadmBtGmUrLuHUpolFpWp5vD/4QQyN1pj/PdpKbVep+pDkr5tZu2SnpR0sTJ/jr7ezC6R9LSk8yTJ3TeY2fXKBF1Dki5z99FfXZcql1L91uxNkr4q6VvZpBYvKpM9EAAAAADqpqZBlbuvl9QX8dDri5T/tKRPR+xfp8xaV/n7B5QNygCkS/iKUPkzvYNZD8sdyleLq1NRdZI0AwDQrG66L37GwXOWN/cQ0yi1vlLVMHY3yDAEVFdahv9Ny8ue190+fjY9SdpyIByoHBcxlO+ereEo5FWzD4W2nztQOI+pI68tcTIRbssbInhG7+C4dcaVf1yc4X4dbeGsggQ/QDqV+7kwnucPVj//1t5D9fmeSOti9M1qZ53e11ppxaAl7QiqAAANa3h4WBs3blR/f79YoRAAkBSCKgBNJ5gRMM4aM/kLK0sKJbdAem3cuFHvv/IWHdi5VZ0LjtXMpBsENLkbiiw6y5pY9XX9BBb/PZ/3pi4IqrLW7W3g1f1QtrQM+3wmbyjf9rzhdFFZ+vKH5eUP9ZMKn19+uvH880rSy7vCQwTzhxlKpYcDFi7+W3gJoT/v/1xUmYFhC2X/y0+fnr/osBRviGA1MIQwPWbMmVe3c/nIiPr7+8e2ly5dqrY2vj/K8WANvnefixgqXam9Q7Vc0jOnvQanGUkgK12j+G3E91+5JrXIy8yQw/ERVAEAENP+HS/okzdt0uwjtmvf9uf0lcveoqOPPjrpZgEAEkZQBSDVgkPzylmLC6i26bPnqrN3YemCAICWQVCVtftQ6UVQ0Xx+tTcd6Zbyh+kt6wz3x/zFgSXpyf3hfa/sPlRQJn/h3nyHtRc+/yf2hj8W/nt7eLjfBfML67xvb3h7WWf4+US1I3+B48f2Fn4c5Q9FzM9WOC9iIeJ8B4ctlA0wCvOngObw5ED1P9Ofq0FGwSib9lX/r0aTJ1U/e0uzzJ165sDBmCU7SpYYLD0qvuqYJ5U+9fmkAAAAAIAmxZUqAC0lKtNf1LDC/Ktb5ax3xRpZAJoN2f/S4bo18bP/XbCiOu9NEov/NtKCwwRVWQf37pxA6c5aNQN1dnDfzgmUrt37/sCu/Xl7poe2oob2zcvLcndzRPa/fO/rDI9R+O4z+wrKvGPRjND2yHD43B1tUwqOWZCXturbz4U/WpbHeOmihiJuOdCmv12ZOzhO9j+JwAVoBI9s3znOo9PKqvPg/r1FHplRZH961GIw+ghrtxV1aM+LMUuWHh7eznxfiKAKAICyBNOrk1odAFobQRWAVCsn+1/+Fa1SiSri1BG1iHA1zoPGNZpeferUDaRWB4AWR1A1aihuFhg0E9sb9/K/JNUuhfKkvCF1e0bCQ/vu31k45O5Xzzwd2n7zMYXtu21zeCjMc7PDwwptx7MFx0xbuiy0PTIUzkQ4MFw4zPDEvGyFK/MWJr5t69SCY/IzHA5ELNrbnTck8PvPhet5+7yJ/7/tai89ZDA/WMp/vFiZUseg+UyfPVcdHYX9G6VN7pheutAEtW19ssgjc8uu8/599cnpNaPIcGbUyOCBqlW1/1D9V/9NYsFhT6CLJj1PaiIIqgA0vaiEEQCAdCD5BZpBrKDKzI6VdJWkue7+MjN7haS3ufv/qWnr6qhj6xMTKM0Qj2bRdrAwUUMSJk8O/1d8Ykf4KkjHjJkFx0zpmR/a/vELAwVlfP/O0PZNW8P1WO+SgmOu2xL+U1ThuQsX5LjlxfBfcs/sCv8J7dnBwinYc/PWmPrMo4X1XnpU+HXZlVckf90qqfDqVrErU+OJM4yPoX5AZYafL3ZVSZJOLqvOtkPVu/owauBgsTpLr1+UtKGR6l/OaJZAZ+ru52KWPL5kiaiRFrWWwIUqndsk732txL2m/Z+SrpB0SJLc/QFJF9aqUQAAFDM8PKwnnnhCTzzxhPr7+xMZkgIAQFDc4X/T3f0+s1BcPFSsMAA0mlJDBJkflR4bN27U+6+8RTPmzNO2Jx5U54Jjk24S0DKKrY9UrbWQgEYVN6jaZmZHS3JJMrNzJW2pWasS0FbFCYtoHJMPFlvTpL6G8pJBtG17KrTdOeukgmO27t4d2u7tOaygzN4n7wttLz9yUWh7zW/XF7ZlSfhch559OLS9vevlBccM5g2POWV2OFXef28vvCjevzdcZvb0wqE0HW3hRBRn9w7mPV54iSLOcL/8AIk5V41nxpx56uxdqH3b4w7hQdp4W/WndR+aVv1huUMDxb4nqhtE/GpX9V+PoQa5ipvEkML2vVurVlfnlFqsMja+BnlrW0rc/8GXSVot6Tgze1bSU5LeXbNWAQAAAECDiBVUufuTkn7XzGZImuTue2rbLAConb+6LfyX5+PIOQEAiSH7H5pB3Ox/3ZLeK2mppMmjc6vc/U9r1bB6s5HCzGNoftO3PDiB0m+oWTsmP/az0Pah6eEvkm27I9ZEKshcWDj8r2PrY6Htu58/JbTtPYVrW02bOi28Y8krQpt3RTTlFV3h9WYezU/Tp8KhEVFD9/L94sXw+lzT8445urNwaufzeRkBu/OGAz61t/QKwgcTyOQEtJrOLQ+P82jhMOM4Zj3zyyKPvLKs+iRpUvu00oWqYP7U6g8ha6/PElsNqa2Kw//3HKr/C32oBpkdUZm4w/9ukbRG0oOK+nUEAAAAAC0qblDV4e5/VtOWAAAAAEADihtUfcvM/ljSDyWNpeNy9xdr0qoETD7QNE8FE2DDg6UL1cGBw44KbXc++0Boe2/EML3J+8Nj0BdOWVxQ5qEF4QU0J+cN7Zv8dOFQmQULwgsCP/lkeIjOyIzCMe4Pbw0v4jnvVSvCxwwfKjjmsb3hthw/rfAi+KJp4WGEP8obDnjK7MJ6Bw6Eh0RMzRsyOH9a6aG++ccAqL7hKdUfVleLz/SRfTuLPFI45LoSL9ZgCNn+oeoPEZvUJKPOJu3bVrW62qz+3xnN8j40k7hB1aCkz0n6S+WyOLqko4oeAQAAAAAtIG5Q9WeSjnH36oX1ANBAotayKrUgcDnHAACQRjfdF52lMco5y6uTuTGJc5YrblC1QdL+WjYkaW3Pj5eFCM3K26aULlQHs/p/Edres/DE0PZrj5hdcMxP87L/rd/4eEGZjsG87EaTw//lp+zbXnBM/nC/KXnDDEfmHVNwzNQnwtkL79oVHpcwfLBwce3pbeHFfm/bXJiJ6aMvDZe5YF54MeCoLH3PHghn98vPMrhzsHCIzc5B6Yo3zCzYH8QCwUB1Td3RX/U6qzmkqxkMN8hI5iRSp9veF6pWVxJZFkca5L1tJXGDqmFJ683sJwrPqWqalOoAAAAAUI64QdX3szcAaEpX/TS3AFdXO38CRHw+MqL+/txVl6VLl6qtrfR6aACA5hErqHL3q82sXdKx2V2/cffCtFuNbMr00mXQdGzH00k3QZK0vzc8pK7ryfBwuocXLCs4ZsZzj4a29y0pXNxy+r1fCZ/npa8t2ZYTj3lpaLv/1itD20te8eqCYx6bPDW0vbwz/PjPh2YVHPPcwfB4iaN7ugrLHAh/zGzPG7q3P2L437K8BYE78n7bdreXt9ReOQsCM3+qNezf8YI+edMmzT5iu/Ztf05fuewtOvroo5NuVupZRFbQSnkNvsvbdzxb5JHCodAVnacG2dxqkf2vaYwULh5frgMtsmC8J/D3xqTnSU1ErFGgZnampMckXSnpS5J+a2aviXlsm5n9ysx+mN2ebWa3m9lj2X97AmWvMLPHzew3ZvamwP5XmtmD2cf+zcwsu3+qmV2X3b/WzJbGfN4AAFTN9Nlz1dm7UDPmzEu6KQCABMQd/vfPkt7o7r+RJDM7VtI1kgr/NF7ockmPSBr9U/UnJN3h7p8xs09ktz9uZsdLulDSCZKOkPTfZnasuw9LukrSKklrJN0iaaWkWyVdImmHux9jZhdK+qykC2I+JwCoSH7yimpkAyRjIAAAGdXO/he3vnKukMUNqqaMBlSS5O6/NbOSadPMbKGk35P0aWXSskvS2ZLOzN6/WtJdkj6e3X+tux+U9JSZPS5puZltlDTL3e/N1vlNSW9XJqg6W9KnsnXdKOmLZmbuZVygnMT495Y0rTvpFkiShqaP/5932+5dBfvap4bH2E2bVZghcO8Jbwvv+O29oc2Ds+YXHDNvanh43BMzw395/9ULhRkD80b7FSzaO/R4RJavzvDQmWcHC4flzctbEDh/iMUJXYXDN547EL4AvzNvLdC5EYsMx3HxGeHhiWQDBCozXIPPX5/SUbrQROus0++D/eV9NI1r+uTqj9caGmmSoW6T4v4ELi0/y2w9JPEuWJO89bUSNwnkOjP7qpmdmb39p6T7Yxz3r5L+XFLwo2Kuu2+RpOy/h2f3L5D0TKDcpuy+Bdn7+ftDx7j7kKRdkubkN8LMVpnZOjNbt3Xr1hjNBqqDvock0f+QFPoekkT/QxLihumXSrpM0p8qExzfrczcqqLM7K2SXnD3+7NzskqJin99nP3jHRPe4b5a0mpJ6uvrI60X6oa+1zwa8coU/Q9Joe9hIm5YGz0kq9z1q+h/SELcoGqypC+4+79ImeQTkqaOf4hOl/Q2M3uLpA5Js8zsvyQ9b2bz3X2Lmc2XNLr62iZJiwLHL5S0Obt/YcT+4DGbzGyypC5JL8Z8TiFDPUvKOQwN7tCcdGTosuHwGLWDef2xY0bhwrQHehaGtt/dO1xQ5pqDJ4W233h4eGjMXWvuLjjmsbzFc3cveVVo+82LCr/kbt+xKLT9zIHSw2XyhxluOlT6mG152f+mHSj8rlyzKzwy+czZ4de2f2/0eYKL/379nsLhllMjhndMdK5TnPLMn0Kr2Df3paULTdDw9MJh0JU61LOgdKEq6JnSGL/9h2owTDEJQ/NfXrW6ksiy2Bi9pXLVzv5Xy2yCcYf/3SFpWmB7mqT/Hu8Ad7/C3Re6+1JlElDc6e7vlvQDSe/LFnufpJuz938g6cJsRr8jJS2TdF92iOAeM1uRzfr33rxjRus6N3uOVulnAAAAAFIg7pWqDnffO7rh7nvNrNzFID4j6Xozu0TS05LOy9a5wcyul/SwpCFJl2Uz/0mZ4YffUCaYuzV7k6SvSvpWNqnFi8oEbwCAJjM8PKyNGzdKkvr7+xNZLwUAgGLiBlX7zOwUd/+llFk3StKBuCdx97uUyfInd98u6fVFyn1amUyB+fvXSXpZxP4BZYOySrXtL8xohhaQklQ2HTs2hbbbd28JbR/VUdjOh/OOuWnrooIy0x65M7S9bvrvh7YPzpxbsm2TDu4rWWbK/vB4+On5Q+VmHq58+WX6OguHL27YFf6Iyj8maiHflb0HQ9sDeRkDl0ScJ19+pj8kb+PGjXr/lbdoxpx52vbEg+pccKwKB8Umz0dG1N+fy3a5dOlStbWRXTZKx64tpQtN0KRDA1WvU4Oxf+5UZIpV/y8FUcOWK/We07urXme5c6cq0XYgfqruUqZMqv9fedpq0F9KaaSFeJMQN6j6sKQbzGx0LtN8sR4UAKCOZsyZp87ehdq3/bmkm1LU/h0v6JM3bdLsI7Zr3/bn9JXL3qKjj07H3E0AQO3ECqrc/RdmdpyklyiTce9Rdz9U05YBQB2Vyu63a7DwauGlr+WKVi016pC/6bPnqrN3YemCQAO6bk30FZ4LVpR/FaPa2f9QG8Xepyit+N5NZOWzV0lamj3mZDOTu3+zJq1KgA2WHuKE5jN57wulC9XBobzFf6fuiFgsN0/n02tD2z0vO72gzLa8Ya0L87JLDT67vuCY/nnhRXkn5WUm/PELhcNrRhafEtp+7mA4B47v31lwzLS28LTMX+8t/DhalreI8Lq8zH1Ri/9K4eF7UZn80BgaZcgfyjM0dUbV62zb8kDV65TFzemVPgcSyErXKGzfturVlcDLnJLZCwiIFVSZ2bckHS1pvaTRXzkuqWmCKgBA+jTCkD8AAOJeqeqTdDzpygE0gs/fuXvsfnd7gg0BAAAtIW5Q9ZCkeZKqn6onJYa6Wfy3FQ12L066CZKkKUteEdrem/f4owOFf8+YNPeE0PbMiOxDT70ynBxz06HweIFdRxUOGTxmejgKeSYv+99ZeQsIS9LtDzwY2n5o6vGh7bZZhxUck+/x5ws/Xs586ZzQdn72v6f2tulvV3aG9gUDKqkw+9XB4dJjJqIyZnW18zcloJoGDjuy6nUO12BB4XoZGKn+eK6ZDbKgcBKGe5ZWra4pCQzFS+IyxySGHI4rblB1mKSHzew+SWP5it39bTVpFQAAAAA0iLhB1adq2QgAKNc/3L4ntN2RoiWBojIKvvO07rq3AwCARnTTffEzDia9jlbclOo/rXVDknawm/S3LSkl6XMO7H4xtD0tbzjgwL5w4CBJXXvCw+XmTS1cCPdXB8OLVr5pYXho339FzP3Pz7jXf9SrQtsFC/tKGmkL1/tHef+drt40peCYjrx6rH16QZl8+/OG7s2JWPx3x2A4U9fcaYVlSokaIsiCwECVDUdn76zE0PTZVa+zfc6CqtdZL4M1GFI44tWvM4n02we7jqhaXQdiDCuvtlq8D6UkHbSk3bhBlZnd4+5nmNkeZbL9jT0kyd19Vk1bBwAAAAApN25Q5e5nZP9laRAAAAAAiDCRxX+b2khb4fAkNL/9c45KugmSpGmzwkNW8of7rTwinOFOkm7d/7rQdv7QOElSXua+DXvC2fROXhSV/TA8XG4obwhhT/u0giPmLAln+7t6U3jB4JHhQwXH7BicGtrumFH4t5vu9vBxd70YnjB1yuzCevOH7u0aLHxdLn1teCjfVT8tXCA4v0w5mD8FjKOtMX6CnNZVn4masyZXP51b/jDrarioST7XhjqqN9iqFq9zKZOsNTI7NtKQw8ZdJhwAAAAAUqAx/kwEAFX09XsKr0zly8/cV85VJ7L/Tdzw8LA2btwoServ709kLZZq8ZER9ff3j20vXbpUbW0pSk8JlOGGtdHZ2JJINoHm13TZ/1rB0BHHly6EpjMyPR0Z3Y7rCA9Re2goPMQuKstd77zwgtWHtRdm0rLh8DC8E2aGy0RlLLp7V/hj4aQ54SESOwbD2QElaefB8Hn+15LwL+H/6C8cXntkZ7iecyKGTwzknWpFV3i4X//eNl3xhvCwwfxAZmreb9iozH4dbeHsflHBEOpj48aNev+Vt2jGnHna9sSD6lxwrBp1Uu/+HS/okzdt0uwjtmvf9uf0lcveoqOPPjrpZqXG5Fm9Va9z/3FnVb3O+/fVZ1DPrCkTz1RayuSIReGRcainelmfoxaMrzUW4k0fgioAQKrMmDNPnb0LtW97RM7/BjN99lx19rJkBwA0O4IqAA0tfyhf/pWpuCZ6dYqrWQCAVnJjkaGfUc5tweGgBFWjJpGzoyVNSsf8hvxheSfMLH1df+tz/aHt/Z2Ffw0/evGy0HZHW3iY3ppdhcPyXtMVbsstL4b/b8ybWti27qnhxX8H8oYdvqyz8Dw7B8ND+SIXT8xbyDe/TP4QQqlweF+cYRlRZZj7BNRYDRZfHxnYW+SRw8qu88Tp1R+WF6W9Bj9DRhj9V5RN6ahaXYdqsMhyKby16UMkAQAAAAAV4EpVVttk1qlqRdO65ybdBEmFV2Dy15w6urMwCcUxC8KJKua0F67ZtG5v+ErcQF69/fvDV5QkaUVXuMyZXeG/h0W15dZnwkMCOuaFUwucPqfwPB0FFwkL/xrc3R4+9868NafyE1lE1Rv3ytVEr0zlly82HJArXkC0WVOrd6Vg1FG986pe5/Q6/fk56vOsUkM1uILSLFe/pkwrXP+x7LoSSAiSRJ6KGlxcLinpjH4TwZUqAAAAAKgAQRUAAAAAVIDhf1mv7mb4Xys6flrpMvUwf1p43MeWA+MP25Okt887WLLeN80ODwmcNy08xK576tSCY/KTWeQPIVwwrXCMymuPmB3afnCX9KW3TR/b/qvbCiePH5eXEKNwOGDhUL3u9vEfHzXekLurflp64d9yMMwPmJjfmVWD8W41cOzMwiHPtdDVXv0hZLVYp6pZ1kd6eWf1fgK3J7BOVRIaaSheErhSBQAAAAAV4EoVgJr4/J27A1v1/ftNftKIiV5Fyl/7SpIuPqNrwmUAAKXdUGT9o/NacK2jNGOdqvERVGXtGmqS69mYkK7J6bxkPy3GUIKn8obl9bQXZs/bnrfOU0devfnDAyVpbt4Qwfx1q6Lszvv/88rucL1x1pPaOVgYeHW1jz886OCwFQQypRblvfS1BD6oPx8ZUX9/bm25pUuXqq0tHevkJWVnDb53T43xeTVRuw7V5/fBnhqcZ8SrX2ezBDqTq/jS1OJ1LoVfrelDUAUAQI3t3/GCPnnTJs0+Yrv2bX9OX7nsLTr66KOTbhYAoEoIqgA0tFJXpuKWJ9EEam367Lnq7F2YdDMAADVAUJV1xNTCoVNofj1T0vm+P5OX/e+M3sLFc/MXxi2WCS8of/jfswcKhx91HAiXyV+I+Lhpha/ZCcP5mfzGX7RXKhxmmJ+ZUCoc3hc3gKo0QIrzWjJ/CqjMER3V//zddrD68zfjDMeuht4avB4XNcgfi5IYUji7it//ky2dUwmqrRXnSU1EzWaPm9kiM/uJmT1iZhvM7PLs/tlmdruZPZb9tydwzBVm9riZ/cbM3hTY/0ozezD72L+ZZdZ0NrOpZnZddv9aM1taq+cDAAAAAFFqeaVqSNJH3f2XZjZT0v1mdrukP5R0h7t/xsw+IekTkj5uZsdLulDSCZKOkPTfZnasuw9LukrSKklrJN0iaaWkWyVdImmHux9jZhdK+qykC2r4nADU2USH96FxDA8Pa+PGjRoeziQkaWtrU39/v7w1/ugL1Nx1a6KztV2wgisOQLXVLKhy9y2StmTv7zGzRyQtkHS2pDOzxa6WdJekj2f3X+vuByU9ZWaPS1puZhslzXL3eyXJzL4p6e3KBFVnS/pUtq4bJX3RzMx94l/JhzP8ryVFZcxLQv7ivi/vCmfP2zVoBVnrolJ6l5K/uOTRnYWZsvIX4X32QHg7P2ufVDh0L3/43M69hRfF+/e26Yo3zBzbLjd4muhQvzjlmV9VHxs3btT7r7xFB3Zu1aRpXZp9xGJte+JBdS44VjNLH44Gd9jU6i/+e3xXYUbTSh0aIc9aM6rm774k/g7EULz0qcviMdlheSdLWitpbjbgGg28Ds8WWyDpmcBhm7L7FmTv5+8PHePuQ5J2SZoTcf5VZrbOzNZt3bq1Ss8KKI2+hyQ1Qv+bMWeepnX3jiVxmNbdm3STUAWN0PfQvOh/SELNE1WYWaekmyR92N13Z6dDRRaN2Ofj7B/vmPAO99WSVktSX18fA0tQN9Xse+VcmUq7agztK6eOVrkSxWcfkkLfQ5Jaof/ddF/8hXjPWc5VrXqoaVBlZlOUCai+7e7fze5+3szmu/sWM5sv6YXs/k2SFgUOXyhpc3b/woj9wWM2mdlkSV2SXiynrZO4ut+Sqrn4XzXlD9OLGnL33IHwheao7HkTPU/Uuea0jz+0b9R4gcpVPy0MCKPOXape5lcBzaMWC6buiFhEvFKz6zQ9YPKk6v/2Z+5Uca2SsQ/1U8vsfybpq5Iecfd/CTz0A0nvy95/n6SbA/svzGb0O1LSMkn3ZYcI7jGzFdk635t3zGhd50q6s5z5VAAAAABQrlpeqTpd0nskPWhm67P7/kLSZyRdb2aXSHpa0nmS5O4bzOx6SQ8rkznwsmzmP0m6VNI3JE1TJkHFrdn9X5X0rWxSixeVyR4IIAHjX0Uq/y/Stbg6lT+UMurqW6sMEUT9+ciI+vv7JUlLly5VW1vhenFANZD9D6ifWmb/u0fFf0m9vsgxn5b06Yj96yS9LGL/gLJBWaXSkgUO9dWTkqyPHzlrVmg7P5CI+tG/pHN4wj/84wQTU9s8VG/+MfkL8ka1N19Xu5dsa7Wy/0XVM97zAept/44X9MmbNmnq1A36ymVv0dFHH510kxIxp6P62f8Wz6h+nUwPaE75C9A3mhHGZaVOzRNVAACAsOmz56qjY2rSzQAAVAlBFdAkoq7AFF6Jivcn1/DVHv5Mi+oZXfBXEgv9AgCaBkFVVsdkvtlbUVqHdURl+6uG/KF9UZJKUV6tOUyl6skfuoj6Gl3wd8aceWML/aI1DTXIorodRTKeVlst5jkxd6o+zktgId4kzonx1WXxXwAARs2YM4+FfgEATYUrVUAKlJs8oZxhesFzDUTM6e5qn+h5oyWVPS/qtUzr1aliryOZB1tDMAugRCbAVtcomfpuWBvdzla+cnJjkdckyrkt/DqVo5EWOSaoyhpu7CQwKNOBocYYfiIVBgZxMgRKE898FzX0MHhuFuAFqmM0C+DsI7Zr3/bnWjoTYLXsb6DPdCTrEL/7UGUEVQAAJGT67Lnq7F2YdDMAABUiqAIAIGEMBQSAxkZQlTWN7H8tqSsliz6XM+ennHk3aZ1bVE2N9ByZO4VRrTgU8F2v7q56nbNq8Jk+eVLjZv+rhWaZO9U5pXrvK/OkaifpeVITQVAFAEAKMBQQABoXQRWQAlHJHyZ6FSNuAomJ1puf3GJqGSOS4mS5KycTHtnzGgML/iJKsWx3UuNctammWmTVI1NffTRShjrUDkFV1kCNFltFug3z465qCGQQlB9I/e3/3aDOw3IL/s5MtnloUiM1+ExvlEWKMTGDvK+oMoIqAEDVbdy4Ue+/8hbNmJMLpDp7F2rf9ueSbhoAAFVHUAW0mDQv3IvmMmPOPAIpAEBLIKjKai+ycCqaW1rG7VcjiIlTRzkL91Yjm16ctpXzGhD8AY2rFp+/taizXtn/mOdUX+1VfF+ZJwWJoAoAgFRhzSoAaDwEVQBSgUx+QEarrFlVLDOdxFUbAI2HoCprUtINAOqAAAVoDKxZlR6NHOA1cttrzUj+hyojlgAAAACACnClCi3t+nGGn+Q7v45/8avGYsBpV07SDKDVML9qYootKJyWpEQAmhdBVda5XCIHEtdsgWMzCy7uyw/92mnm+VUMTUOSnKTPqDKCKgDAhI0u7itp7Id+MNDq7+/nR0uVML8KANKPoAotrZ5D+iaiFa7YtMJzbHYz5swLbY8GWjPmzNO2Jx5U54JjNTOhtqE1McwPcTFCCdVGUAUAqJoZc+aps3eh9m1/LummNB3mVwFAehFUAQCKCg7pkwp/yAd/6DPkr7aaeX4VADQ6gioAQFHBIX1RP+SDP/QZ8ld7zK8CgHQiqAIAjGt0SF8xoz/0GfJXP6NXCIeHhyVJbW1tofsSwwMBoJ4IqgCghUWlRi+WxY+hfukxeoVw5MBdmjStS7OPWKxtTzw4dn/v1s36q7e9XEuWLIkMtiSNO6wTADAxBFUA0MI2btyod/7d1yVJ//Des7RkyRL19/frim/eqWndh2nH049pxvyjZCZtf2qDPvrIQXUdPn9s/8iBXZp0cFB7O6bqwM6tZd1Pso6GPve0rqLv68Du7froV3409l5N6uhU1+HzdWDnNv3De8+SpLH3eHTfkiVLCuphzhYAxGPeYn9qNLOtkvqLPHyYpG11bE7a8XrkjPdabHP3laUqKNH3yjlvM2mF51mL5xir70ll97+kNGp/aLV2V+OzrxFfM9pcHxV/70rj9r9GfE3iaNbnJaXjuRXtey0XVI3HzNa5e1/S7UgLXo+cpF6LVnkPWuF5tsJzrJZGfa1od2Odu1y0uT5q3eZGfE3iaNbnJaX/uU1KugEAAAAA0MgIqgAAAACgAgRVYauTbkDK8HrkJPVatMp70ArPsxWeY7U06mtFuxvr3OWizfVR6zY34msSR7M+Lynlz405VQAAAABQAa5UAQAAAEAFCKoAAAAAoAItF1StXLnSJXHjVs1bLPQ9bjW4xUb/41aDWyz0PW41uMVG/+NW5VtRLRdUbduW9JphaFX0PSSJ/oek0PeQJPof6qXlgioAAAAAqCaCKgAAAACoQMMHVWbWbWY3mtmjZvaImZ2WdJsAAAAAtI7JSTegCr4g6TZ3P9fM2iVNT7pBAAAAAFpHQwdVZjZL0msk/aEkufugpMEk2wQAAACgtTR0UCXpKElbJX3dzE6UdL+ky919X7CQma2StEqSFi9eHFnRTfftiH3Sc5b3lNlcpM2Na+O/7+eeOvH3PU7fK9aOiZ6v2HMZr56JPP9Synl9Jqoar1Mridv/knJD3vt5XoXvZX59+fVO9HzVrq+VJNX3BgYGtGbNmoL9K1asUEdHR93agWRV83dfnN98/IaE1PhB1WRJp0j6kLuvNbMvSPqEpP8vWMjdV0taLUl9fX3j5pgHqom+hyTR/5CUpPremjVr9JEvfV89i5aN7dvxzGP6vKQzzzyzXs1AwvjsQxIaPajaJGmTu6/Nbt+oTFAFAABaUM+iZTr8Jack3QwALaahs/+5+3OSnjGzl2R3vV7Swwk2CQAAAECLafQrVZL0IUnfzmb+e1LSxQm3BwAAAEALafigyt3XS+pLuh0AAAAAWlPDB1XVQjaW1pSWzHHVaEc5daTl+cfVaO3F+KqdLa9UfRM9X7XrA5Ae1fzdx29ISA0+pwoAAAAAkkZQBQAAAAAVIKgCAAAAgAoQVAEAAABABQiqAAAAAKACBFUAAAAAUAGCKgAAAACoAEEVAAAAAFSAoAoAAAAAKkBQBQAAAAAVIKgCAAAAgAoQVAEAAABABQiqAAAAAKACk5NuQDWY2UZJeyQNSxpy975kWwQAAACgVTRFUJX1OnffVu7B163ZEbvsBSt6yj0NUiYt7/v1a8PtODhkBWXec3p3aPvaNTtD25PMC44Z8cJ6LlyRq+eae3cWPC5JF52WK3Pj2sLX6NxTw69FfvvzL4EPRbRjckR7o+Sfq5So9tbiPK3uhrzX+bwKX79gfSOBrjGpsOuEzhfsw1H/B6Tc/91v/SxXdnKgk06eNH5fHBnn4dG681+P/HbW8vWqRn1Aq4n7/R/nu/+m++J/75yzvDr/V5M4J8bH8D8AAAAAqECzBFUu6cdmdr+ZrUq6MQAAAABaR7MM/zvd3Teb2eGSbjezR9397tEHs4HWKklavHhxUm1EC6LvIUn0PyQlTt8bGBjQmjVrCvavWLFCHR0dNW0fmhuffUhCUwRV7r45++8LZvY9Scsl3R14fLWk1ZLU19cXbyIHUAX0PSSJ/oekxOl7a9as0Ue+9H31LFo2tm/HM4/p85LOPPPMejQTTYrPPiSh4YMqM5shaZK778nef6Okv024WQAAoISeRct0+EtOSboZAFCxhg+qJM2V9D0zkzLP5zvufluyTQIAAADQKho+qHL3JyWdWGk9pElvTWl5388vIx1yMDV6uYKp04uJk2q8nPbXCqnR66PaKbzLrS9OHx6VvyxBNZVqf1peLwAZ1fz+TyJlOWnS06dZsv8BAAAAQCIIqgAAAACgAgRVAAAAAFCB1ARVZnZ6NnufzOzdZvYvZrYk6XYBAAAAwHhSE1RJukrSfjM7UdKfS+qX9M1kmwQAAAAA40tTUDXk7i7pbElfcPcvSJqZcJsAAAAAYFxpSqm+x8yukPRuSa8xszZJUxJuEwAAAACMK01Xqi6QdFDSJe7+nKQFkj6XbJMAAAAAYHypuFKVvSr1X+7+u6P73P1pMacKAAAAQMql4kqVuw8rk6SiK+m2AAAAAMBEpOJKVdaApAfN7HZJ+0Z3uvufJtckAAAAABhfmoKq/5e9AQAAAEDDSE1Q5e5Xm9k0SYvd/TdJtwcAAAAA4kjFnCpJMrPfl7Re0m3Z7ZPM7AeJNgoAAAAASkjNlSpJn5K0XNJdkuTu683syHqdfPXdu2KXXfUa8mk0i6/9T/z3/Y9+p3bv+7d/vjO0veeQlTxmxmQvWWbvULieWVPCx+wbKjzPzLwyB4fDj0+J+FPMwHC4nhl5dRzKq0OSpua1fyCiLR0Rz/H8U3sKKwu45t6doe0pk0q/TlHOLXGeZnfD2h2R+88r8bpctyZ83AUreiL3SeH3apLl3qehkVxfmJx9/yYFukfw8WDfaw+816P/h6YF+tDB4ej/V/sDfW96oHybFe4bHMkdNzlQ3eSIflaszcHnmm/0tSn2+geVei8AFBf3d1+c33w3xvj/Oqpa3y033Rf/nOcs57OiHlJzpUrSkLvn9/BYv4bMrM3MfmVmP6xBuwAAAACgqDQFVQ+Z2TsltZnZMjP7d0k/j3ns5ZIeqV3TAAAAACBamoKqD0k6QdJBSddI2i3pw6UOMrOFkn5P0ldq2TgAAAAAiJKaOVXuvl/SX5rZZzObvifmof8q6c8lzSxWwMxWSVolSYsXL66wpUB89D0kif6HpND3kCT6H5KQmitVZvYqM3tQ0gPKLAL8azN7ZYlj3irpBXe/f7xy7r7a3fvcva+3t7eKrQbGR99Dkuh/SAp9D0mi/yEJqblSJemrkv7E3f9HkszsDElfl/SKcY45XdLbzOwtkjokzTKz/3L3d0/05GT0a021zOg3Ee96dXfSTWgaF53WnXQTmkK5meVGs9eV2ifxXo2HzH5AbVXzd18S2WLJ6Jc+qblSJWnPaEAlSe5+j6RxhwC6+xXuvtDdl0q6UNKd5QRUAAAAAFCuxK9Umdkp2bv3mdl/KJOkwiVdoOyaVQAAAACQVokHVZL+OW/7rwP3Y6/a6e53iSAMAAAAQJ0lHlS5++uSbgMAAAAAlCvxoGqUmXVLeq+kpQq0y93/NKEmAQAAAEBJqQmqJN0iaY2kByWNJNwWAAAAAIglTUFVh7v/WdKNAAAAAICJSFNK9W+Z2R+b2Xwzmz16S7pRAAAAADCeNF2pGpT0OUl/qVzWP5d0VGItAgAAAIAS0hRU/ZmkY9x9W9INAQAAAIC40hRUbZC0P+lGAAAAjBoYGNCaNWsK9q9YsUIdHR0JtAhAGqUpqBqWtN7MfiLp4OhOUqoDAICkrFmzRh/50vfVs2jZ2L4dzzymz0s688wzE2sXgHRJU1D1/ewNAAAgNXoWLdPhLzkl6WYASLHUBFXufrWZTZO02N1/k3R7AAAAACCO1KRUN7Pfl7Re0m3Z7ZPM7AeJNgoAAAAASkjNlSpJn5K0XNJdkuTu683syHqd/L3fOxC77Df/YFoNW4J6WnVz/Nwoq8+eXrN2fPrHe0Lbv9kX/q952uzBgmN+vHVqaHt516GCMi8Ohv9usnj6cGj7wd2FHwEnzBoKba/ZMSW0vaKn8DxP7A3Xc3RnuI6n97UVHHN8V7jMCwOFf+OZ2zES2t43ZKHtw/Iel6ShvF2T86q1cBWSpEnmBfvOP7WnsGCLumHtjrH752Vfl+vW7AiVuWBF9H5JGhqJeNElbQ285zOn5N6DXYO58h3ZrjMYeF93H8odt3souu6OSYXv6SHPld1xKHd/eqCPDBYeptlTciffcjBX+OS8Pjxq33Cm7mDXWzgj938v+FzaS/xpM9g3J+U91fPoo0DZ4v7ui/Ob75p7d8Y+70WndccuO56b7iv8rC3mnOV8VtRDaq5USRpy9115+yK+3gAAAAAgPdIUVD1kZu+U1GZmy8zs3yX9fLwDzKzDzO4zs1+b2QYz+5v6NBUAAAAAMtIUVH1I0gnKpFO/RtJuSR8uccxBSWe5+4mSTpK00sxW1LCNAAAAABCSmjlV7r5f0l9mb3GPcUl7s5tTsjeGDAIAAACom9QEVWbWJ+kvJC1VoF3u/ooSx7VJul/SMZKudPe1NWwmAAAAAISkJqiS9G1JH5P0oKTClF5FuPuwpJPMrFvS98zsZe7+ULCMma2StEqSFi9eHFkPGf1aUy0z+knx+p4k/eUbZ5aoqbB/Xlqwp2NCbYvr8hhtQTrF7X+lRGWZG832F3c/Wku1+h5Qjnr/7qtWRr+JIKNf+qRpTtVWd/+Buz/l7v2jt7gHu/tOZdKxr4x4bLW797l7X29vb/VaDJRA30OS6H9ICn0PSaL/IQlpulL112b2FUl3KJOAQpLk7t8tdoCZ9Uo65O47zWyapN+V9NmatxQAAAAAstIUVF0s6Thlkk2MDv9zSUWDKknzJV2dnVc1SdL17v7DmrYSAAAAAALSFFSd6O4vn8gB7v6ApJNr1B4AAAAAKClNc6rWmNnxSTcCAAAAACYiTVeqzpD0PjN7Spk5VabMUlTjplQHAAAAgCSlKagqyNoXZGY97r6jXo0BAAAAgDhSE1TFSJ9+h6RT6tEWAAAAAIgrTXOqSrGkGwAAAAAA+RopqPKkGwAAAAAA+RopqAIAAACA1GmkoIrhfwAAAABSJzVBlZn9k5mdME6R19etMQAAAAAQU2qCKkmPSlptZmvN7ANm1hV80N1fTKhdAAAAAFBUaoIqd/+Ku58u6b2Slkp6wMy+Y2avS7ZlAAAAAFBcaoIqSTKzNknHZW/bJP1a0p+Z2bWJNgwAAAAAikjN4r9m9i+S3qbMIr9/7+73ZR/6rJn9JrmWAQAAAEBxqQmqJD0k6ZPuvj/iseX1bgwAAAAAxJF4UGVmp2Tvrpd0nFk4c7q7/9Ldd9W7XQAAAAAQR+JBlaR/Hucxl3RWsQfNbJGkb0qaJ2lE0mp3/0J1mwcAAAAAxSUeVLl7Jdn9hiR91N1/aWYzJd1vZre7+8MTrejEf1gbu+yvrzh1otUjpV7xmftKF8p64BO1G4V6wr8+Etq2kaHQ9qwjlhUcs+fpcDfvWHh8QZlDT90f2n71y08Obd/9xMaCY16+5MjQ9qMPrgltH//yFQXHPPB4uC2/97LjQtu3bj1UcMzb54Y/ftbsLvw4ekvvYGh747620PZRM4YLjsk3e+pIaHtguHAd8RlTPLR9KKLaaZPzyowU1nPRad2h7evX7igoc/6pPcWamio3BNo+lH2ukyd5wb58wdd3JFv8xYO5nEhTAnUcCJTtCrwHv92T6wv7s2/fr/fn6njljNx7eu+u3Js1uP3ZwgZ54P1vn5Zrx45cWRsJ1NGzoKCKSTO6x+6PDB4Yuz+5o3PsfsfUXN3B9o2aF+iHnZMD9wPPe0ogddTBbJPmdOTKjgS64KTol1+SdF62j90Q0f+CjxcTPK5UWaBRnfR/7olVbv0nzyhZ5hv37Ix93j88ozt22fFEfb8UU63vnZvui3/Oc5Y37jnLlXhQZWZnufudZvaOqMfd/bvFjnX3LZK2ZO/vMbNHJC2QNOGgCgAAAADKkXhQJem1ku6U9PsRj7mkokFVkJktlXSypIJLTma2StIqSVq8eHG57QQmjL6HJNH/kBT6HpJE/0MSEg+q3P2vs/9eXG4dZtYp6SZJH3b33RHnWC1ptST19fV5/uNArdD3kCT6H5JC30OS6H9IQuJB1Sgz65b0XklLFWiXu/9pieOmKBNQfXu8oYIAAAAAUAupCaok3SJpjaQHlcnkV5Jl8q9/VdIj7v4vNWwbAAAAAERKU1DV4e5/NsFjTpf0HkkPmtn67L6/cPdbJnpyMvq1plpm9JuIDR9+aRlHnVK6iE4v8XhhxsAC74iToPOV4z76mRg1ROso+8g0aJRMf1EaM+vbcaWLjDmydJEGV+572JjvPTAxcbL6xVWtjH4TkcT3SxLZ9ZLO6DcRaQqqvmVmfyzph5IOju509xeLHeDu90gaJ7EsAAAAANRWmoKqQUmfk/SXymT9U/bfoxJrEQAAAACUkKag6s8kHePu25JuCAAAAADENal0kbrZIGl/0o0AAAAAgIlI05WqYUnrzewnCs+pGjelOgAAAAAkKU1B1fezNwAAAABoGKkJqtz96qTbAAAAAAATlZqgysyWSfoHZRbOGVucxt3J/gcAAAAgtdKUqOLrkq6SNCTpdZK+KelbibYIAAAAAEpIU1A1zd3vkGTu3u/un5J0VsJtAgAAAIBxpWb4n6QBM5sk6TEz+6CkZyUdnnCbAAAAAGBciV+pMrPRIX43S5ou6U8lvVLSeyS9L6l2AQAAAEAcabhS9UozWyLpXZL+U5kFgD+abJMAAADqZ2BgQGvWrCnYv2LFCnV0dEQcASBN0hBUfVnSbZKOknS/JJPkgX/J/gcAAJramjVr9JEvfV89i5aN7dvxzGP6vKQzzzwzsXYBiCfxoMrd/03Sv5nZVe5+aVLteM07Px677N3f+WwNW4J6es15l8cue/cNX6hZO1794W+Etic//3Bo+8VXFY6Enf3L74S2t796VUGZOT/5l3CZ130k/Pi9Xys4ZvsrLwqXWfPV0PaONxT+X+m+779C2zuXvzu03d7/y4JjjjvpNaHt9c8+W1Dm9UuPCG3fvWMotH3BfCs4Zs+h8Kjm+dOGQ9uDI4XHdLePhNs7yQvKTMo7bGpbYZko557aM3b/xrU7xn08bplqum5N+HwXrCg812iZ4GuwezD3Ok+fHP1aPL2vTZLUE3h9H941Zez+YVNz+9fuiv46enLrc5lzd3TmzvfonZFlJ+9/cex+2/OPSJKG579ibN/IlNxf+9sCZe3QQOD+/lz5GYdJkrytfWzf7kWnjN2fcmDX2P3hKdNy93szfwucOj3X5qM6cq/XvPbc6zV3arjvjZqdfc1GAi9tT6Ds5Ig+mikf7qgXndYdWQ7p1LNomQ5/ySmlC6Jicb//43z3f+Enu2Of9/LXzYpddjzfuXdn7LLvrNLnQNT3UzHV+t666b745zxneelzxq0vTl35Ep9TNarcgMrMvmZmL5jZQ9VuEwAAAACUkpqgqgLfkLQy6UYAAAAAaE0NH1S5+92SXixZEAAAAABqoOGDqjjMbJWZrTOzdVu3bk26OWgh9D0kif6HpND3kCT6H5LQEkGVu6929z537+vt7U26OWgh9D0kif6HpND3kCT6H5LQEkEVAAAAANRK4inV04I06a2plmnSJ+Ln//qHZRz16dJF/qTE8/uTv41xnn8qXeSSj5Qo8KYY5zkmRpnGFifFbC3Tp0eJSqFeTpnaWRqx7/x6NwJAk6nm93+10qRPRLXSpE9Evb+fpPJSm9ezvqCGv1JlZtdIulfSS8xsk5ldknSbAAAAALSOhr9S5e4XlS4FAAAAALXR8FeqAAAAACBJBFUAAAAAUAGCKgAAAACoAEEVAAAAAFSAoAoAAAAAKkBQBQAAAAAVIKgCAAAAgAoQVAEAAABABQiqAAAAAKACBFUAAAAAUAGCKgAAAACoAEEVAAAAAFRgctINSIszLv1i7LL3XPXBGrYE9XT6ZVfFLvuzKy+tWTtWfPQ7oW1vmxLaPviyNxYcM+U3/xPaPrC0r6BMz7prQts7jntT+PEN/6/gmBdPekdoe9rzvw1tDx97RsExUx+4JbR9/OlvC23/4vFwHZL0qmOODW2vfebZgjJ/dPzc0PaPt4dfl7NmHyo4Jl9P+0ho++CwFZTpzisTZUpbeHuSeXg74pghLzzXhSu6x+7fuHZH5LnOPbWnZHtq4Ya89pyXbcd1a3L7L1iR2fftn++MrGPypNzrsn0g86IFX6ttB3Mv5OaB3KvWPTlX5n9258rsPjiQueO5x4d2b82dcHgod78t95XWse2pTHsO7hvbN9A1f+z+jOcfyR12IPdcgv/3DvYsyTx+6MDYvr3zjx+7b4Fzt809Kte+gf2SpJfO6VaUl3cO59oU6I/TA6/BkhlDyjd5UvC+FzwuSSMRuyfldcOo91XKvbdAKzjjA1+IVe6eL19essxVP90V+7yXvrYrdtnxXHPvzthlLzqtuyrnvOm+6O+sKOcsr87nSRLnLBdXqgAAAACgAlypAgAAaDIDAwNas2ZN5GMrVqxQR0dHnVsENLeGD6rMbKWkL0hqk/QVd/9Mwk0CAABI1Jo1a/SRL31fPYuWhfbveOYxfV7SmWeemUi7gGbV0EGVmbVJulLSGyRtkvQLM/uBuz+cbMsAAACS1bNomQ5/ySlJNwNoCY0+p2q5pMfd/Ul3H5R0raSzE24TAAAAgBbS0FeqJC2Q9Exge5OkU/MLmdkqSaskafHixZEVkdGvNdUyo58Ur+9J0pp/fmcZtb+1dJE//kiJAseXeFySjo5R5oISj58Yo45jSpb4aMGexp4TUOssf3H736jzirQnKivcu17dXVHb4ot6j+O8bseWePy0MtoSV3Wye9VaLbP9TbTvAdUU63dfjKx+cVUro99EVCuj30QkkV0v6Yx+E9HoV6oK8xVLBQll3X21u/e5e19vb28dmgVk0PeQJPofkkLfQ5Lof0hCowdVmyQtCmwvlLQ5obYAAAAAaEGNPvzvF5KWmdmRkp6VdKGkcsZRAQAAYBzF0rSToh1o8KDK3YfM7IOSfqRMSvWvufuGhJsFAADQdKLStJOiHcho6KBKktz9Fkm3JN0OAACAZlftNO1c/UKzaPigCgAANKYdzzxWsL1+/aGy61u/fr12PLMx9XXW4zxR9dWizmq8vl+4/nbNmDNvbN++7c/p63//Ma5+oaGYe0GyvKZmZlsl9Rd5+DBJ2+rYnLTj9cgZ77XY5u4rS1VQou+Vc95m0grPsxbPMVbfk8ruf0lp1P7Qau2uxmdfI75mtLk+Kv7elcbtf434msTRrM9LSsdzK9r3Wi6oGo+ZrXP3vqTbkRa8HjlJvRat8h60wvNshedYLY36WtHuxjp3uWhzfdS6zY34msTRrM9LSv9za/SU6gAAAACQKIIqAAAAAKgAQVXY6qQbkDK8HjlJvRat8h60wvNshedYLY36WtHuxjp3uWhzfdS6zY34msTRrM9LSvlzY04VAAAAAFSAK1UAAAAAUAGCKgAAAACoQMsFVStXrnRJ3LhV8xYLfY9bDW6x0f+41eAWC32PWw1usdH/uFX5VlTLBVXbtiW9ZhhaFX0PSaL/ISn0PSSJ/od6abmgCgAAAACqiaAKAAAAACowOekGVIOZbZS0R9KwpCF370u2RQAAAABaRVMEVVmvc3cGzgIAAACoK4b/AQAAAEAFmuVKlUv6sZm5pP9w99XBB81slaRVkrR48eIEmoe0uum+HbHLnrO8Z8L10/cwUVF9spy+J9H/xpP/Opf7GiNaUn2v2Gc6729ridP/jn3pCdq8+dmSdR1xxAL99pENVW0fmlOzBFWnu/tmMztc0u1m9qi73z36YDbIWi1JfX194+aYB6qJvock0f+QFPoekhSn/23e/Kze+rlbS9b1w4+9ubqNQ9NqiuF/7r45++8Lkr4naXmyLQIAAADQKho+qDKzGWY2c/S+pDdKeijZVgEAAABoFc0w/G+upO+ZmZR5Pt9x99uSbRIAAACAVtHwQZW7PynpxKTbAQAAAKA1NfzwPwAAAABIEkEVAAAAAFSAoAoAAAAAKkBQBQAAAAAVIKgCAAAAgAo0fPY/oBLnLO9JuglACH2yPnidmxPvK4CkcKUKAAAAACpAUAUAAAAAFSCoAgAAAIAKEFQBAAAAQAUIqgAAAACgAgRVAAAAAFABgioAAAAAqABBFQAAAABUgMV/s266b0fssiwu2Dx431FL168N9682i3dcI/S1/P87tWpzsf+jo+crtx3FjqvG8wrW0QjvZVLG+/wt93Ur1V/SUieA5sOVKgAAAACoAEEVAAAAAFSAoAoAAAAAKkBQBQAAAAAVaIqgyszazOxXZvbDpNsCAAAAoLWkNqgys0lmNitm8cslPVLL9gAAAABAlFQFVWb2HTObZWYzJD0s6Tdm9rESxyyU9HuSvlKPNgIAAABAUKqCKknHu/tuSW+XdIukxZLeU+KYf5X055JGihUws1Vmts7M1m3durVKTQVKo+8hSfQ/JIW+hyTR/5CEtAVVU8xsijJB1c3ufmi8wmb2VkkvuPv945Vz99Xu3ufufb29vdVrLVACfQ9Jov8hKfQ9JIn+hySkLaj6D0kbJc2QdLeZLZG0a5zyp0t6m5ltlHStpLPM7L9q3UgAAAAAGGXunnQbxpjZke7+VGDbJB3j7o/FOPZMSf/b3d86Xrm+vj5ft25dpU0FgixOIfoeaiBW35Pof6gJPvuQlIo/+zq7uvXWz91a8vgffuzN2rtr54Qah6ZWtO+l7UrVTcENz0R81ybUFgAAAAAoaXLSDZAkMztO0gmSuszsHYGHZknqiFOHu98l6a6qNw4AAAAAxpGKoErSSyS9VVK3pN8P7N8j6Y+TaBAAAAAAxJGKoMrdb5Z0s5md5u73Jt0eAAAAAIgrFUGVmf25u/+jpHea2UX5j7v7nybQLAAAAAAoKRVBlaSHs/+SHggAAABAQ0lLUHWBpB9K6nb3LyTdGAAAAACIKy0p1V+ZXej3j8ysx8xmB29JNw4AAAAAiknLlaovS7pN0lGS7ld4YS3P7gcAAACA1EnFlSp3/zd3f6mkr7n7Ue5+ZOBGQAUAAAAgtVIRVI1y90vN7Awzu1iSzOwwMzsy6XYBAAAAQDGpCqrM7K8lfVzSFdld7ZL+K7kWAQAAAMD4UhVUSfoDSW+TtE+S3H2zpJmJtggAAAAAxpG2oGrQ3V2Z5BQysxkJtwcAAAAAxpW2oOp6M/sPSd1m9seS/lvSfybcJgAAAAAoKi0p1SVJ7v5PZvYGSbslvUTSX7n77Qk3CwAAAACKSlVQJUnZIIpACgAAAEBDSNXwPzN7h5k9Zma7zGy3me0xs91JtwsAAAAAiknblap/lPT77v5IvU9849odscuee2pPDVuCerrpvvjv+znLed9b2bVrdoa2LZNPZ0ybRR/H50Vx+Z+7o69V8P+le+HjxQSPGwkcd15EvUHBc1je+xj3/33wuQTriDo+vx2t+tky3udvua9Jse/ySv4fFmtnq75vAKKl6kqVpOeTCKgAAAAAoFxpu1K1zsyuk/R9SQdHd7r7dxNrEQAAAACMI21B1SxJ+yW9MbDPJUUGVWbWIeluSVOVeS43uvtf17qRAAAAADAqVUGVu188wUMOSjrL3fea2RRJ95jZre6+pgbNAwAAAIACqZpTZWbHmtkdZvZQdvsVZvbJYuU9Y292c0r25sXKAwAAAEC1pSqokvSfkq6QdEiS3P0BSReOd4CZtZnZekkvSLrd3ddGlFllZuvMbN3WrVur32qgCPoekkT/Q1Loe0gS/Q9JSFtQNd3d78vbNzTeAe4+7O4nSVooabmZvSyizGp373P3vt7e3uq1FiiBvock0f+QFPoekkT/QxLSFlRtM7OjlR3CZ2bnStoS50B33ynpLkkra9U4AAAAAMiXqkQVki6TtFrScWb2rKSnJL2rWGEz65V0yN13mtk0Sb8r6bN1aSkAAAAAKGVBlbs/Kel3zWyGpEnuvqfEIfMlXW1mbcpcdbve3X9Y63YCAAAAwKhUBVVmNkfSX0s6Q5Kb2T2S/tbdt0eVzyayOLka5z731J5qVIMGc85y3nfEc+GK7qSb0HSKfe6W+/+y1HG1/P8+ke8QPncyavE61OK7nPcLQBxpm1N1raStks6RdG72/nWJtggAAAAAxpGqK1WSZrv73wW2/4+ZvT2pxgAAAABAKWm7UvUTM7vQzCZlb+dL+n9JNwoAAAAAiknFlSoz26NMGnWT9GeSvpV9qE3SXmXmWQEAAABA6qQiqHL3mXHKmdkJ7r6h1u0BAAAAgLjSNvyvlG+VLgIAAAAA9dNoQZUl3QAAAAAACGq0oMqTbgAAAAAABDVaUAUAAAAAqdJoQdVg0g0AAAAAgKBUBVWW8W4z+6vs9mIzWz76uLuvSK51AAAAAFAoVUGVpC9JOk3SRdntPZKuTK45AAAAADC+VKxTFXCqu59iZr+SJHffYWbtSTcKAAAAAIpJ25WqQ2bWpmyWPzPrlTSSbJMAAAAAoLi0BVX/Jul7kg43s09LukfS3yfbJAAAAAAoLlXD/9z922Z2v6TXK7PQ79vd/ZGEmwUAAAAARaUqqDKzFZI2uPuV2e2ZZnaqu69NuGkAAAAAECltw/+ukrQ3sL0vuw8AAAAAUilVV6okmbv76Ia7j5hZXdp47ZqdscteuKK7Zu1AfX3n3p2xy77ztO6atQO189X/2RXa3jVoBWVmTw3nw2krLKL3nN5dzWY1rRvW7hi7PynwOp6zvEeSdGPg8SCP3JvbH3xLRjx4P/fIJMs9YNndHig7HCgbrK/YuUfbHzzflEmBcxSpI1j+ghWZ53193vM+/9TM/pvuy+33vIacmy1TrmDdo69/mlwzzufvRWV+3hb7TK/k8zv/vRt1foXvT77g+xVUyXvXKHUCzSBtV6qeNLM/NbMp2dvlkp4sVtjMFpnZT8zsETPbkC0PAAAAAHWTtqDqA5JeLelZSZsknSpp1TjlhyR91N1fKmmFpMvM7PiatxIAAAAAslI1/M/dX5B04QTKb5G0JXt/j5k9ImmBpIdr00IAAAAACEtVUJVd7PePJS1VoG3u/kcxjl0q6WRJZAoEAAAAUDepCqok3SzpfyT9t6ThuAeZWaekmyR92N13Rzy+StlhhIsXL65OS4EY6HtIEv0PSaHvIUn0PyQhbXOqprv7x939ene/afQ23gFmNkWZgOrb7v7dqDLuvtrd+9y9r7e3txbtBiLR95Ak+h+SQt9Dkuh/SELagqofmtlb4hY2M5P0VUmPuPu/1K5ZAAAAABAtbUHV5coEVgfMbLeZ7TGzguF8AadLeo+ks8xsffYWOygDAAAAgEqlak6Vu8+cYPl7FF5/EQAAAADqKlVBlSSZWY+kZZI6Rve5+93JtQgAAAAAijN3T7oNY8zs/coMAVwoab0yC/re6+5nVescfX19vm7dumpVB0gxr5bS91ADsa/U0/9QA3z2ISkVf/Z1dnXrrZ+7teTxP/zYm7V3184JNQ5NrWjfS+OcqldJ6nf31ymz7tTWZJsEAAAAAMWlLagacPcBSTKzqe7+qKSXJNwmAAAAACgqbXOqNplZt6TvS7rdzHZI2pxoiwAAAABgHKkKqtz9D7J3P2VmP5HUJem2BJsEAAAAAONKTVBlZpMkPeDuL5Mkd/9pwk0CAAAAgJJSM6fK3Uck/drMFifdFgAAAACIKzVXqrLmS9pgZvdJ2je6093fllyTAAAAAKC4tAVVf5N0AwAAAABgIlIVVDGPCgAAAECjSVVQZWZ7JHl2s13SFEn73H1Wcq0CAAAAgOJSFVS5+8zgtpm9XdLyZFoDAAAAAKWlJvtfFHf/vqSzkm4HAAAAABSTqitVZvaOwOYkSX3KDQcEAAAAgNRJVVAl6fcD94ckbZR0djJNAQAAAIDSUhVUufvFSbcBAAAAACYiVXOqzOwfzWyWmU0xszvMbJuZvTvpdgEAAABAMakKqiS90d13S3qrpE2SjpX0sWSbBAAAAADFpS2ompL99y2SrnH3F5NsDAAAAACUkqo5VZL+r5k9KumApD8xs15JA+MdYGZfU+bK1gvu/rJyT/zvP9kdu+yHXsdaxM3iS3fFf9//5Eze91r6zO17CvbtPBT+u8+PXwwnAz3n8MLkoPuHLbT9su6hgjIXndZdRgtb10337Ri7f87yHknSjWt3hMqce2pm/w15+/MF350hz21Nstx7ORh4Dw+NZO5PmZR7/GDg8YHA/WltuTKHsnc90EVG69L/396dh8tRlXkc//64SSCQDSQqW1gUkMCjgJE1gxlxHEBkGeABN0TUDCqCuzg6yozbuKC4ARN2FIEBFSMjCiIQkSUEDAkQwSgwhqDIFghiSMg7f5xzczs33X373u6+Vd3393mefm51ddWp91S/93SdU9XVwIaj+l6oVcbzq9PfFyriHD969Zrp5RX5uUHFehuOjlyPvm2P6embXl3jnrY9FfugJ29Sa6fzmv1f+Z5Uzq/1vpTRmTcuq/nae187cUhlfrPGZ/nJTXxuX3DTU1XnHzd90pDLrOaSW6pvp5n2qn8+9GomL/rnXq/eHCxLmWbDrVRnqiLiFGBvYFpErASeZeC7/10AHNDm0MzMzMzMzKoq25kqgJ2AbSRVxnZRrYUjYo6kbdoelZmZmZmZWRWl6lRJ+h7wMmA+0HvhRFCnU9VguTOBmQBTpkxppiizQXHuWZGcf1YU554VyflnRShVpwqYBkyNiBpXnA9NRMwCZgFMmzatpWWb1ePcsyI5/6wozj0rkvPPilCq71QBdwMvLToIMzMzMzOzRpXtTNWmwL2S5gIremdGxCHFhWRmZmZmZlZb2TpVpw52BUmXADOATSUtAT4bEee2OC4zMzMzM7OqStWpiogbh7DOm9sRi5mZmZmZWSNK0amSdFNETJf0DOluf2teAiIi/KurZmZmZmZWSqXoVEXE9Px3fNGxmJmZmZmZDYZafPfy0ps2bVrMmzev6DCsu6iRhZx71gYN5R44/6wt3PZZUZpu+8ZNnMTBX716wPWv+tiBLF/21KCCs65WM/fKdkt1MzMzMzOzjuJOlZmZmZmZWRPcqTIzMzMzM2uCO1VmZmZmZmZNcKfKzMzMzMysCe5UmZmZmZmZNcGdKjMzMzMzsya4U2VmZmZmZtaEUUUHUBb7HXVyw8vOufybbYzEhlNZ3vd933/mWs97li1Z6/njrzl2nXVedOclay+z29HrLvObs9ZeZr8PrP36zbPWWefxPY9fe5l5F631/InXnrTOOpvccv5az5e/bu3trHffr9dZZ+tXzVjr+f1PP7vOMgALj9+06nxrjStue3LNtCp+0rDyd+GfX51eGLNe38zlK/sWHl1jeO4vz6UXVkXfso+u6Fv4iZV906sqtrdw+ao10yufW57iWfn3vu092ff/MervT6+ZXn/Z0jXTPU8+mNbbqC9/Xhi7cd96jyzs2+Dqvu2xXt/HYox7cXq5soz1x62Zfn7c5DXTKya8tK+MMWNTnOM3WTNrq7Hrr5neYewLa6Ynje6r+OiK/TtuVJpev6dv3thRfdNjKuZXUo3pSkfumfZD5XtfOf+Hc/vmH7HHxrTL9BNqt6k3ndV421ypVpveTPu96+dvqjp//qenD7nMao798XNV5190+NghlzlrzrKq82fuN3HIZV5265NV5x+919BzpTLnKrUz/8xazWeqzMzMzMzMmuBOlZmZmZmZWRPcqTIzMzMzM2uCv1NlZmZmZtaEHXbamaVLH667zOabb8H9i+4ZpohsuLlTZWZmZmbWhKVLH+bgr15dd5mrPnbgMEVjRfDlf2ZmZmZmZk1wp8rMzMzMzKwJHd+pknSApPskLZZ0StHxmJmZmZnZyNLRnSpJPcB3gQOBqcCbJU0tNiozMzMzMxtJOrpTBewBLI6IP0bE88ClwKEFx2RmZmZmZiOIIqLoGIZM0pHAARHx7vz87cCeEXFiv+VmAjMBpkyZ8uqHHnpo2GO1rqaaLzj3rL1q5h44/6zt3PZZUZpu+8ZNnDTg3fog3bFv+bKnBlyukfIaLctKrWbudfqZqmoVW6eXGBGzImJaREybPHnyMIRlljj3rEjOPyuKc8+K5PyzInR6p2oJsFXF8y2BpQXFYmZmZmZmI1Cn//jv7cD2krYFHgaOAd5SbEhmZmZmZu21w047s3Tpw3WX2XzzLbh/0T3DFNHI1tGdqohYJelE4BdAD3BeRDhzzMzMzKyrLV36cEPf47Lh0dGdKoCI+Bnws6LjMDMzMzOzkanjO1VmZmZmZtZ+vuSwto6+pfpQSPorUOverpsCjw1jOGXn/dGn3r54LCIOGKiAAXJvKNvtJiOhnu2oY0O5B0POv6J0aj6MtLhb0fZ14j5zzMOj6c9dqJt/nbhPGtGt9YJy1K1m7o24TlU9kuZFxLSi4ygL748+Re2LkfIejIR6joQ6tkqn7ivH3VnbHirHPDzaHXMn7pNGdGu9oPx16/RbqpuZmZmZmRXKnSozMzMzM7MmuFO1tllFB1Ay3h99itoXI+U9GAn1HAl1bJVO3VeOu7O2PVSOeXi0O+ZO3CeN6NZ6Qcnr5u9UmZmZmZmZNcFnqszMzMzMzJrgTpWZmZmZmVkTRlynStIBku6TtFjSKVVel6Rv5dcXSNq9iDiHSwP7Y4akZZLm58dniohzOEg6T9Kjku6u8XrbckPSVpKul7RI0j2STs7zN5F0raTf578bt2qbRZLUI+m3kq7Kz7uunpImSbpC0u/y+7p3N9azljo5faqkhyvalIMq1vlk/v+6T9I/V8x/taSF+bVvSVKev76ky/L82yRt06LYH8zbmy9pXp5X870rOm5JO1bsz/mSnpb0wTLv64E+e8qoVk6XXf/2thNUaz9bXH7H5d9AOjU/G9UReRwRI+YB9AB/ALYDxgB3AVP7LXMQcDUgYC/gtqLjLnh/zACuKjrWYdof+wG7A3fXeL1tuQFsBuyep8cD9wNTga8Ap+T5pwBfLno/tai+HwZ+0Jtb3VhP4ELg3Xl6DDCpG+tZp/61cvpU4KNVlp+a26D1gW1z29STX5sL7J3/964GDszz3weclaePAS5rUewPApv2m1f1vStT3Lm8HuDPwNZl3dc08NlTxketnC46rgbiXqu97YRHtfazhWV3ZP41UK+OzM9B1K/0eTzSzlTtASyOiD9GxPPApcCh/ZY5FLgokluBSZI2G+5Ah0kj+2PEiIg5wBN1FmlbbkTEIxFxZ55+BlgEbJG3eWFe7ELgsFZsr0iStgTeCJxTMbur6ilpAqmTfi5ARDwfEU/RZfWsp05O13IocGlErIiIB4DFwB75f2xCRNwS6ZP1Ivr2W+X+vALYv/fMShvUeu/KFvf+wB8i4qEB6lJkzB352TOEnC5cjfa21Oq0n63Skfk3kE7Mz0Z1Sh6PtE7VFsCfKp4vYd2Ea2SZbtFoXfeWdJekqyXtPDyhldKw5Ea+rGY34DbgJRHxCKQGE3hxq7dXgNOBjwOrK+Z1Wz23A/4KnJ8vVzhH0kZ0Xz0b0i+nAU5UuoT2vIrL6Gr9f22Rp/vPX2udiFgFLANe1IKQA7hG0h2SZuZ5td67MsUN6SzSJRXPy7ivO/5ztkpOl9XprNvell2t9rNVOj7/BtJB+dmo0+mAPB5pnapqo2r97ynfyDLdopG63glsHRGvAr4NXNnuoEqs7bkhaRzwQ+CDEfF0K8suA0kHA49GxB1Fx9Jmo0iXkp4ZEbsBz5IuGRtxquT0mcDLgF2BR4DTehetsnrUmV9vnWbtGxG7AwcC75e0X51lSxO3pDHAIcDleVZZ93VHf852Sjvdwe1tu9vPjs6/gXRKfjaqk/J4pHWqlgBbVTzfElg6hGW6xYB1jYinI2J5nv4ZMFrSpsMXYqm0NTckjSY1hBdHxI/y7L/0XmKY/z7aqu0VZF/gEEkPki65eJ2k79N99VwCLImI3lHCK0gHCd1Wz7qq5XRE/CUiXoiI1cDZpEtxoPb/15I83X/+WutIGgVMpP4lvA2JiKX576PAj3OMtd670sRN6gTeGRF/yfGXdV937OdsjXa6rGq1t2VXq/1sZfkdmX8D6bD8bFTH5PFI61TdDmwvads8oncMMLvfMrOBY5XsBSzrveSjCw24PyS9tOLuT3uQcubxYY+0HNqWG3kfnwssioiv99vmO/L0O4CftGJ7RYmIT0bElhGxDSnffhURb6P76vln4E+Sdsyz9gfupcvqWU+tnO73PcTDgd67bc4GjlG6y9y2wPbA3Pw/9oykvXKZx9K33yr355GkfGpqxFnSRpLG904Db8gx1nrvShF39mYqLv0r8b5u5LO4dOq006VUp70ttTrtZ6t0ZP4NpNPys1Edlcf17mLRjQ/SHdzuJ9355VN53gnACXlawHfz6wuBaUXHXPD+OBG4h3R3nFuBfYqOuY374hLSJTIrSSNZ7xqu3ACmky4/WADMz4+DSN9ZuA74ff67SdH7qYV1nkHf3f+6rp6kS67m5ff0SmDjbqxnnfrXyunv5f+fBaQDmc0q1vlU/v+6j3zXuTx/GqlD8AfgO4Dy/A1Il7otJt21brsWxL1dbu/uym1fb7tY870rSdwbkga8JlbMK+2+pspnT9kftXK66LgajH1Ne9sJj2rtZ4vL77j8a6BOHZufg6hjqfO4t7E0MzMzMzOzIRhpl/+ZmZmZmZm1lDtVZmZmZmZmTXCnyszMzMzMrAnuVJmZmZmZmTXBnSozMzMzM7MmuFNlDZN0gaQji47DzKwaSTcXHYOZmY1M7lRZ20gaVXQMZjZyRMQ+Rcdg5SXpJEmLJF3cZDn/Ken1efoGSdNaE2FrlTm2btatgzuSlg/DNtb8j0o6RNIpef5hkqa2e/vN8kFvl5L078BbgT8BjwF3AD8m/XjtZOBvwHsi4neSLgCeJv3o40uBj0fEFfnXub8NvA54gPTjt73lvxr4OjAul39cRDwi6QbgZmBf0o9Nntb2ylrHkXQlsBXpB0W/GRGzJL0L+ASwlPQDqysi4kRJk4GzgCl59Q9GxG8KCNtKTtLyiBgnaQZwKqlt2oXU/r0tIkLSa4BvAhsBK4D9ST/4fSapDVwFfDgirpd0HHAY0JPLOQ0YA7w9r3tQRDwh6WVUaVuHoco2OO8j/dDxA80UEhGfaVE8pSVpVESsKjqOTtTOwR1JPRHxQrvKL4H+/6Oz89/DgKuAe4sIqmFF//qwH61/kA4M5gNjgfGkA9SPAtcB2+dl9gR+lacvAC4nnbmcCizO8/8FuJZ0QLE58BRwJDCa1HGanJc7GjgvT98AnFH0PvCj3A9gk/x3LHA3sAXwILBJzq9fA9/Jy/wAmJ6npwCLio7fj3I+gOX57wxgGbBlbtduAaaTOkR/BF6Tl5tAGlz8CHB+nvcK4P9IHf7jgMW5HZ2cyzwhL/cNUgefWm2rH+V5kAZmngcWkgZvbgZ+m//umJc5DrgS+ClpIPFE4MN5uVsr2q0LgCPz9A35M/ddwDcqtvce4Os1YtkG+B1wTm7/LgZeD/yG9Hm9R15uI+A84PYcw6GDjPMG4PRcx7sbLPfyXO6vgM2AOaTjibuBfyj6feyER7926Abgivx+Xwwov/ZfpA7CAuBr/fOqSjnXkz4L783zriQNFt0DzKxcB/gCcFfOhZfk+S8hDazflR/75PlvA+bm9/i/gZ569SINLN1JavN6jwFfBvw8x/Nr4BUV9flWzr8/9qvbx3L+LQD+o8r/6IdyPn4H2Ad4Iuf6/Ly9kyr236VFv+e9D5+p6k7TgZ9ExHMAkn5KOkDYB7g8nYACYP2Kda6MiNXAvZJekuftB1wSaVRkqaRf5fk7kkZtr81l9QCPVJR1WeurZF3mJEmH5+mtSCP/N0bEEwCSLgd2yK+/HphakbcTJI2PiGeGM2DrOHMjYgmApPmkA9llwCMRcTtARDydX59OOitPpLP3D9GXf9fnXHtG0jLSASekD/5XShpH/bbVSiAiTpB0APCPpAO30yJiVb6M74vAEXnRXYDdSJ+Zi4FPRMRukr4BHEvqpFRzKbBA0scjYiXwTuBf64T0cuAoYCbp4PItpM/uQ4B/I43Mf4rUQT9e0iRgrqRfDjLOjSJiH0n7kTpSuwxQ7t7AKyOdgf0I8IuI+IKkHmDDOvWx6nYDdiZdgfEbYF9J9wKHkzofkd+DgewB7BJ9Z3COz+/RWOB2ST+MiMdJHeZbI+JTkr5C6tx/ntS5uTEiDs/v5ThJO5EGxfeNiJWSziBd4XRRjRg2Au6MiI9I+gzwWVKHfhZpsOn3kvYEziBd4QSpYz6dNFg1G7hC0huA7XOdBMyWtF/l/2hEPJavFCAibpY0G7gqIq4AyJcFbhsRKxrcf8PCnarupCrz1gOeiohda6yzosb6UaP8eyJi7xplPTtghDZi5UuzXg/sHRF/y5eM3gfsVGOV9fKyzw1LgNYtKtu0F0ifd6J2m9ZIOasrnq/OZQ7Utlr5TAQulLQ9KR9GV7xWtxNdq8CIeDYPPB4saREwOiIW1onhgd7XJd0DXJcPsBeSBgAA3gAcIumj+fkG9F0G3Wicl+T45kiakA9A65V7be/gFqmzd56k0aSB1/l16mPVVRvcuRX4O3COpP8lXdbWSDmVl632H5jcHnicNGDQW94dwD/l6deROtvkgfJlkt4OvJrUKYN05cijdWJYTd+g+feBHzUwqFRtwP4N+fHb/Hxcjn9OvR3QzwLg4vxVgisHsV5b+UYV3ekm4E2SNsgJ/0bSdf4PSDoKQMmrBihnDnCMpB5Jm5FG+CAdAE+WtHcua7SkndtSE+tGE4Enc4fqFcBepBHQ10raON/g5IiK5a8hjYYBIGnX4QzWusrvgM3z96qQND7n2xzSCC2SdiAdYN7XSIH5bNdg21Yr1udInZJdgDeROhW9BupE13MO6ZKldwLnD7BsI9sRcERE7JofUyJi0SDj7D+IEAOUu2ZQNCLmkK5YeRj4nqRjB6iTrWudwZ1I31XbA/gh6Yzkz/Prq8jH5fk77WMq1l3zvvQbmHwVqXPSm8MrI19LR99gUi0CLqzIgx0j4tRB1C2oGFSqeFQOkFYbsBfwpYrlXx4R5w5iu5COa79L6hTeoZLcGM2dqi6UL22ZTbpu9kfAPNJlL28F3iXpLtJ1uIcOUNSPSdd3LyR9ifvGXP7zpO9WfTmXNZ80UmHWiJ8DoyQtIB3c3Er60P4icBvwS9K10svy8icB0yQtyJdNnDD8IVs3yG3X0cC3c9t1Lelg5AygJ58luIx0450VtUtax2DbVivWRFKbA6kT1BIRcRvprMFbyGeImvQL4AP5ABtJuw2hjKPzutOBZRGxrNFyJW0NPBoRZwPnArsPYfvWTx7snhgRPwM+COyaX3qQ1EmA1IaM7r9uVm1gciDXAe/N2++RNCHPO1LSi/P8TfJ7Xst6pGM/SDl+0xAHlX4BHJ/3A5K26I2hjmdI321F0nrAVhFxPfBxYBLpbFfhStGzs7b4WkScKmlD0ijsafnU8QH9F4yI4/o9H5f/BhVnCPotM580gtV//oxmA7fulg9WD+w/X9K8SHcBHEXq0F+Tl3+MfGBgVk9F23UD6QvivfNPrJi+neoHIcdVKe8C0pete59vU+21Wm2rldZXSJf/fZh0Q4ZW+h9g14h4sgVlfY703agFuQP0IHDwIMt4UukW3xOA4wdZ7gzgY5JWkm5S4DNVrTEe+ImkDUhnbT6U55+d588ldXhqfZXi58AJeWDyPtLA5EBOBnrvsvsC8N6IuEXSp4FrckdlJfB+4KEaZTwL7CzpDtKgZ+/n8luBM3NZo0nfL7yrViARcU3+PtctuV+/nHTDjHqXHl4KnC3pJOAY4FxJE0n77xsR8dRAO2A49N6FxLqMpB+Q7uS3Aen07pcKDsmsLklfI13SsAGpQ3VyuIEysw4i6SrSQd51RcdiZsPLnSozMzOzJuQbQMwF7oqIowoOx8wK4E6VmZmZWYtJehHpMq7+9s+3vzYrHUm3se7PQrx9gLtZGu5UmZmZmZmZNcV3/zMzMzMzM2uCO1VmZmZmZmZNcKfKzMzMzMysCe5UmZmZmZmZNeH/AUG8lCUUISZ/AAAAAElFTkSuQmCC\n",
      "text/plain": [
       "<Figure size 864x864 with 30 Axes>"
      ]
     },
     "metadata": {
      "needs_background": "light"
     },
     "output_type": "display_data"
    }
   ],
   "source": [
    "g = sns.pairplot(df, kind='hist')\n",
    "g.fig.set_size_inches(12, 12)"
   ]
  },
  {
   "cell_type": "markdown",
   "metadata": {},
   "source": [
    "Ok, it is a bit difficult to spot obvious groups (clusters) as it is difficult to combine several variables simultaneously (to analyze multivariate distributions). That's where LA and ML can be quite handy."
   ]
  },
  {
   "cell_type": "markdown",
   "metadata": {},
   "source": [
    "# Task 1. Similar Customers"
   ]
  },
  {
   "cell_type": "markdown",
   "metadata": {},
   "source": [
    "In the language of ML, it is necessary to develop a procedure that returns k nearest neighbors (objects) for a given object based on the distance between the objects.\n",
    "\n",
    "You may want to review the following lessons (chapter -> lesson)\n",
    "- Distance Between Vectors -> Euclidean Distance\n",
    "- Distance Between Vectors -> Manhattan Distance\n",
    "\n",
    "To solve the task, we can try different distance metrics."
   ]
  },
  {
   "cell_type": "markdown",
   "metadata": {},
   "source": [
    "Write a function that returns k nearest neighbors for an $n^{th}$ object based on a specified distance metric. The number of received insurance benefits should not be taken into account for this task. \n",
    "\n",
    "You can use a ready implementation of the kNN algorithm from scikit-learn (check [the link](https://scikit-learn.org/stable/modules/generated/sklearn.neighbors.NearestNeighbors.html#sklearn.neighbors.NearestNeighbors)) or use your own.\n",
    "\n",
    "Test it for four combination of two cases\n",
    "- Scaling\n",
    "  - the data is not scaled\n",
    "  - the data is scaled with the [MaxAbsScaler](https://scikit-learn.org/stable/modules/generated/sklearn.preprocessing.MaxAbsScaler.html) scaler\n",
    "- Distance Metrics\n",
    "  - Euclidean\n",
    "  - Manhattan\n",
    "\n",
    "Answer these questions:\n",
    "- Does the data being not scaled affect the kNN algorithm? If so, how does that appear?\n",
    "- How similar are the results using the Manhattan distance metric (regardless of the scaling)?"
   ]
  },
  {
   "cell_type": "code",
   "execution_count": 12,
   "metadata": {},
   "outputs": [],
   "source": [
    "feature_names = ['gender', 'age', 'income', 'family_members']"
   ]
  },
  {
   "cell_type": "code",
   "execution_count": 13,
   "metadata": {},
   "outputs": [],
   "source": [
    "# function to return k nearest neighbors for an nth object\n",
    "def get_knn(df, n, k, metric):\n",
    "    \n",
    "    \"\"\"\n",
    "    Returns k nearest neighbors\n",
    "\n",
    "    :param df: pandas DataFrame used to find similar objects within\n",
    "    :param n: object no for which the nearest neighbours are looked for\n",
    "    :param k: the number of the nearest neighbours to return\n",
    "    :param metric: name of distance metric\n",
    "    \"\"\"\n",
    "\n",
    "    nbrs = sklearn.neighbors.NearestNeighbors(n_neighbors=k, metric=metric) \n",
    "    nbrs.fit(df[feature_names].values)\n",
    "    nbrs_distances, nbrs_indices = nbrs.kneighbors(df.iloc[n][feature_names].values.reshape(1, -1), k, return_distance=True)\n",
    "    \n",
    "    df_res = pd.concat([\n",
    "        df.iloc[nbrs_indices[0]], \n",
    "        pd.DataFrame(nbrs_distances.T, index=nbrs_indices[0], columns=['distance'])\n",
    "        ], axis=1)\n",
    "    \n",
    "    return df_res"
   ]
  },
  {
   "cell_type": "markdown",
   "metadata": {},
   "source": [
    "Scaling the data."
   ]
  },
  {
   "cell_type": "code",
   "execution_count": 14,
   "metadata": {},
   "outputs": [],
   "source": [
    "# columns to be scaled\n",
    "feature_names = ['gender', 'age', 'income', 'family_members']\n",
    "\n",
    "# fit the scaler\n",
    "transformer_mas = sklearn.preprocessing.MaxAbsScaler().fit(df[feature_names].to_numpy())\n",
    "\n",
    "# create copy and apply scaler\n",
    "df_scaled = df.copy()\n",
    "df_scaled.loc[:, feature_names] = transformer_mas.transform(df[feature_names].to_numpy())"
   ]
  },
  {
   "cell_type": "code",
   "execution_count": 15,
   "metadata": {},
   "outputs": [
    {
     "data": {
      "text/html": [
       "<div>\n",
       "<style scoped>\n",
       "    .dataframe tbody tr th:only-of-type {\n",
       "        vertical-align: middle;\n",
       "    }\n",
       "\n",
       "    .dataframe tbody tr th {\n",
       "        vertical-align: top;\n",
       "    }\n",
       "\n",
       "    .dataframe thead th {\n",
       "        text-align: right;\n",
       "    }\n",
       "</style>\n",
       "<table border=\"1\" class=\"dataframe\">\n",
       "  <thead>\n",
       "    <tr style=\"text-align: right;\">\n",
       "      <th></th>\n",
       "      <th>gender</th>\n",
       "      <th>age</th>\n",
       "      <th>income</th>\n",
       "      <th>family_members</th>\n",
       "      <th>insurance_benefits</th>\n",
       "    </tr>\n",
       "  </thead>\n",
       "  <tbody>\n",
       "    <tr>\n",
<<<<<<< HEAD
       "      <th>3337</th>\n",
       "      <td>1.0</td>\n",
       "      <td>0.338462</td>\n",
       "      <td>0.411392</td>\n",
       "      <td>0.166667</td>\n",
       "      <td>0</td>\n",
       "    </tr>\n",
       "    <tr>\n",
       "      <th>3118</th>\n",
       "      <td>1.0</td>\n",
       "      <td>0.292308</td>\n",
       "      <td>0.731646</td>\n",
=======
       "      <th>865</th>\n",
       "      <td>1.0</td>\n",
       "      <td>0.292308</td>\n",
       "      <td>0.569620</td>\n",
       "      <td>0.333333</td>\n",
       "      <td>0</td>\n",
       "    </tr>\n",
       "    <tr>\n",
       "      <th>2666</th>\n",
       "      <td>0.0</td>\n",
       "      <td>0.461538</td>\n",
       "      <td>0.460759</td>\n",
       "      <td>0.500000</td>\n",
       "      <td>0</td>\n",
       "    </tr>\n",
       "    <tr>\n",
       "      <th>2034</th>\n",
       "      <td>1.0</td>\n",
       "      <td>0.369231</td>\n",
       "      <td>0.345570</td>\n",
>>>>>>> b1c6f751c39aba4697448c2282d00301b8c6aa68
       "      <td>0.166667</td>\n",
       "      <td>0</td>\n",
       "    </tr>\n",
       "    <tr>\n",
<<<<<<< HEAD
       "      <th>4469</th>\n",
       "      <td>1.0</td>\n",
       "      <td>0.523077</td>\n",
       "      <td>0.349367</td>\n",
       "      <td>0.333333</td>\n",
       "      <td>0</td>\n",
       "    </tr>\n",
       "    <tr>\n",
       "      <th>229</th>\n",
       "      <td>1.0</td>\n",
       "      <td>0.507692</td>\n",
       "      <td>0.410127</td>\n",
       "      <td>0.333333</td>\n",
=======
       "      <th>2936</th>\n",
       "      <td>0.0</td>\n",
       "      <td>0.584615</td>\n",
       "      <td>0.577215</td>\n",
       "      <td>0.500000</td>\n",
       "      <td>0</td>\n",
       "    </tr>\n",
       "    <tr>\n",
       "      <th>4615</th>\n",
       "      <td>1.0</td>\n",
       "      <td>0.430769</td>\n",
       "      <td>0.206329</td>\n",
       "      <td>0.166667</td>\n",
>>>>>>> b1c6f751c39aba4697448c2282d00301b8c6aa68
       "      <td>0</td>\n",
       "    </tr>\n",
       "    <tr>\n",
       "      <th>2209</th>\n",
       "      <td>0.0</td>\n",
       "      <td>0.323077</td>\n",
       "      <td>0.545570</td>\n",
       "      <td>0.166667</td>\n",
       "      <td>0</td>\n",
       "    </tr>\n",
       "  </tbody>\n",
       "</table>\n",
       "</div>"
      ],
      "text/plain": [
       "      gender       age    income  family_members  insurance_benefits\n",
<<<<<<< HEAD
       "3337     1.0  0.338462  0.411392        0.166667                   0\n",
       "3118     1.0  0.292308  0.731646        0.166667                   0\n",
       "4469     1.0  0.523077  0.349367        0.333333                   0\n",
       "229      1.0  0.507692  0.410127        0.333333                   0\n",
       "2209     0.0  0.323077  0.545570        0.166667                   0"
=======
       "865      1.0  0.292308  0.569620        0.333333                   0\n",
       "2666     0.0  0.461538  0.460759        0.500000                   0\n",
       "2034     1.0  0.369231  0.345570        0.166667                   0\n",
       "2936     0.0  0.584615  0.577215        0.500000                   0\n",
       "4615     1.0  0.430769  0.206329        0.166667                   0"
>>>>>>> b1c6f751c39aba4697448c2282d00301b8c6aa68
      ]
     },
     "execution_count": 15,
     "metadata": {},
     "output_type": "execute_result"
    }
   ],
   "source": [
    "# check scaled sample\n",
    "df_scaled.sample(5)"
   ]
  },
  {
   "cell_type": "markdown",
   "metadata": {},
   "source": [
    "Now, let's get similar records for a given one for every combination"
   ]
  },
  {
   "cell_type": "code",
   "execution_count": 16,
   "metadata": {},
   "outputs": [
    {
     "data": {
      "text/html": [
       "<div>\n",
       "<style scoped>\n",
       "    .dataframe tbody tr th:only-of-type {\n",
       "        vertical-align: middle;\n",
       "    }\n",
       "\n",
       "    .dataframe tbody tr th {\n",
       "        vertical-align: top;\n",
       "    }\n",
       "\n",
       "    .dataframe thead th {\n",
       "        text-align: right;\n",
       "    }\n",
       "</style>\n",
       "<table border=\"1\" class=\"dataframe\">\n",
       "  <thead>\n",
       "    <tr style=\"text-align: right;\">\n",
       "      <th></th>\n",
       "      <th>gender</th>\n",
       "      <th>age</th>\n",
       "      <th>income</th>\n",
       "      <th>family_members</th>\n",
       "      <th>distance</th>\n",
       "    </tr>\n",
       "  </thead>\n",
       "  <tbody>\n",
       "    <tr>\n",
       "      <th>0</th>\n",
       "      <td>1</td>\n",
       "      <td>41</td>\n",
       "      <td>49600.0</td>\n",
       "      <td>1</td>\n",
       "      <td>0.000000</td>\n",
       "    </tr>\n",
       "    <tr>\n",
       "      <th>2022</th>\n",
       "      <td>1</td>\n",
       "      <td>41</td>\n",
       "      <td>49600.0</td>\n",
       "      <td>0</td>\n",
       "      <td>1.000000</td>\n",
       "    </tr>\n",
       "    <tr>\n",
       "      <th>1225</th>\n",
       "      <td>0</td>\n",
       "      <td>42</td>\n",
       "      <td>49600.0</td>\n",
       "      <td>0</td>\n",
       "      <td>1.732051</td>\n",
       "    </tr>\n",
       "    <tr>\n",
       "      <th>4031</th>\n",
       "      <td>1</td>\n",
       "      <td>44</td>\n",
       "      <td>49600.0</td>\n",
       "      <td>2</td>\n",
       "      <td>3.162278</td>\n",
       "    </tr>\n",
       "    <tr>\n",
       "      <th>3424</th>\n",
       "      <td>0</td>\n",
       "      <td>38</td>\n",
       "      <td>49600.0</td>\n",
       "      <td>0</td>\n",
       "      <td>3.316625</td>\n",
       "    </tr>\n",
       "    <tr>\n",
       "      <th>815</th>\n",
       "      <td>1</td>\n",
       "      <td>37</td>\n",
       "      <td>49600.0</td>\n",
       "      <td>2</td>\n",
       "      <td>4.123106</td>\n",
       "    </tr>\n",
       "    <tr>\n",
       "      <th>4661</th>\n",
       "      <td>0</td>\n",
       "      <td>45</td>\n",
       "      <td>49600.0</td>\n",
       "      <td>0</td>\n",
       "      <td>4.242641</td>\n",
       "    </tr>\n",
       "    <tr>\n",
       "      <th>2125</th>\n",
       "      <td>0</td>\n",
       "      <td>37</td>\n",
       "      <td>49600.0</td>\n",
       "      <td>2</td>\n",
       "      <td>4.242641</td>\n",
       "    </tr>\n",
       "    <tr>\n",
       "      <th>2349</th>\n",
       "      <td>1</td>\n",
       "      <td>46</td>\n",
       "      <td>49600.0</td>\n",
       "      <td>2</td>\n",
       "      <td>5.099020</td>\n",
       "    </tr>\n",
       "    <tr>\n",
       "      <th>3900</th>\n",
       "      <td>1</td>\n",
       "      <td>36</td>\n",
       "      <td>49600.0</td>\n",
       "      <td>0</td>\n",
       "      <td>5.099020</td>\n",
       "    </tr>\n",
       "  </tbody>\n",
       "</table>\n",
       "</div>"
      ],
      "text/plain": [
       "      gender  age   income  family_members  distance\n",
       "0          1   41  49600.0               1  0.000000\n",
       "2022       1   41  49600.0               0  1.000000\n",
       "1225       0   42  49600.0               0  1.732051\n",
       "4031       1   44  49600.0               2  3.162278\n",
       "3424       0   38  49600.0               0  3.316625\n",
       "815        1   37  49600.0               2  4.123106\n",
       "4661       0   45  49600.0               0  4.242641\n",
       "2125       0   37  49600.0               2  4.242641\n",
       "2349       1   46  49600.0               2  5.099020\n",
       "3900       1   36  49600.0               0  5.099020"
      ]
     },
     "execution_count": 16,
     "metadata": {},
     "output_type": "execute_result"
    }
   ],
   "source": [
    "# euclidean distance with unscaled data\n",
    "get_knn(df[feature_names], 0, 10, 'euclidean')"
   ]
  },
  {
   "cell_type": "code",
   "execution_count": 17,
   "metadata": {},
   "outputs": [
    {
     "data": {
      "text/html": [
       "<div>\n",
       "<style scoped>\n",
       "    .dataframe tbody tr th:only-of-type {\n",
       "        vertical-align: middle;\n",
       "    }\n",
       "\n",
       "    .dataframe tbody tr th {\n",
       "        vertical-align: top;\n",
       "    }\n",
       "\n",
       "    .dataframe thead th {\n",
       "        text-align: right;\n",
       "    }\n",
       "</style>\n",
       "<table border=\"1\" class=\"dataframe\">\n",
       "  <thead>\n",
       "    <tr style=\"text-align: right;\">\n",
       "      <th></th>\n",
       "      <th>gender</th>\n",
       "      <th>age</th>\n",
       "      <th>income</th>\n",
       "      <th>family_members</th>\n",
       "      <th>distance</th>\n",
       "    </tr>\n",
       "  </thead>\n",
       "  <tbody>\n",
       "    <tr>\n",
       "      <th>0</th>\n",
       "      <td>1.0</td>\n",
       "      <td>0.630769</td>\n",
       "      <td>0.627848</td>\n",
       "      <td>0.166667</td>\n",
       "      <td>0.000000</td>\n",
       "    </tr>\n",
       "    <tr>\n",
       "      <th>2689</th>\n",
       "      <td>1.0</td>\n",
       "      <td>0.630769</td>\n",
       "      <td>0.634177</td>\n",
       "      <td>0.166667</td>\n",
       "      <td>0.006329</td>\n",
       "    </tr>\n",
       "    <tr>\n",
       "      <th>133</th>\n",
       "      <td>1.0</td>\n",
       "      <td>0.615385</td>\n",
       "      <td>0.636709</td>\n",
       "      <td>0.166667</td>\n",
       "      <td>0.017754</td>\n",
       "    </tr>\n",
       "    <tr>\n",
       "      <th>4869</th>\n",
       "      <td>1.0</td>\n",
       "      <td>0.646154</td>\n",
       "      <td>0.637975</td>\n",
       "      <td>0.166667</td>\n",
       "      <td>0.018418</td>\n",
       "    </tr>\n",
       "    <tr>\n",
       "      <th>3275</th>\n",
       "      <td>1.0</td>\n",
       "      <td>0.646154</td>\n",
       "      <td>0.651899</td>\n",
       "      <td>0.166667</td>\n",
       "      <td>0.028550</td>\n",
       "    </tr>\n",
       "    <tr>\n",
       "      <th>1567</th>\n",
       "      <td>1.0</td>\n",
       "      <td>0.615385</td>\n",
       "      <td>0.602532</td>\n",
       "      <td>0.166667</td>\n",
       "      <td>0.029624</td>\n",
       "    </tr>\n",
       "    <tr>\n",
       "      <th>2103</th>\n",
       "      <td>1.0</td>\n",
       "      <td>0.630769</td>\n",
       "      <td>0.596203</td>\n",
       "      <td>0.166667</td>\n",
       "      <td>0.031646</td>\n",
       "    </tr>\n",
       "    <tr>\n",
       "      <th>3365</th>\n",
       "      <td>1.0</td>\n",
       "      <td>0.630769</td>\n",
       "      <td>0.596203</td>\n",
       "      <td>0.166667</td>\n",
       "      <td>0.031646</td>\n",
       "    </tr>\n",
       "    <tr>\n",
       "      <th>124</th>\n",
       "      <td>1.0</td>\n",
       "      <td>0.661538</td>\n",
       "      <td>0.635443</td>\n",
       "      <td>0.166667</td>\n",
       "      <td>0.031693</td>\n",
       "    </tr>\n",
       "    <tr>\n",
       "      <th>3636</th>\n",
       "      <td>1.0</td>\n",
       "      <td>0.615385</td>\n",
       "      <td>0.600000</td>\n",
       "      <td>0.166667</td>\n",
       "      <td>0.031815</td>\n",
       "    </tr>\n",
       "  </tbody>\n",
       "</table>\n",
       "</div>"
      ],
      "text/plain": [
       "      gender       age    income  family_members  distance\n",
       "0        1.0  0.630769  0.627848        0.166667  0.000000\n",
       "2689     1.0  0.630769  0.634177        0.166667  0.006329\n",
       "133      1.0  0.615385  0.636709        0.166667  0.017754\n",
       "4869     1.0  0.646154  0.637975        0.166667  0.018418\n",
       "3275     1.0  0.646154  0.651899        0.166667  0.028550\n",
       "1567     1.0  0.615385  0.602532        0.166667  0.029624\n",
       "2103     1.0  0.630769  0.596203        0.166667  0.031646\n",
       "3365     1.0  0.630769  0.596203        0.166667  0.031646\n",
       "124      1.0  0.661538  0.635443        0.166667  0.031693\n",
       "3636     1.0  0.615385  0.600000        0.166667  0.031815"
      ]
     },
     "execution_count": 17,
     "metadata": {},
     "output_type": "execute_result"
    }
   ],
   "source": [
    "# euclidean distance with scaled data\n",
    "get_knn(df_scaled[feature_names], 0, 10, 'euclidean')"
   ]
  },
  {
   "cell_type": "code",
   "execution_count": 18,
   "metadata": {},
   "outputs": [
    {
     "data": {
      "text/html": [
       "<div>\n",
       "<style scoped>\n",
       "    .dataframe tbody tr th:only-of-type {\n",
       "        vertical-align: middle;\n",
       "    }\n",
       "\n",
       "    .dataframe tbody tr th {\n",
       "        vertical-align: top;\n",
       "    }\n",
       "\n",
       "    .dataframe thead th {\n",
       "        text-align: right;\n",
       "    }\n",
       "</style>\n",
       "<table border=\"1\" class=\"dataframe\">\n",
       "  <thead>\n",
       "    <tr style=\"text-align: right;\">\n",
       "      <th></th>\n",
       "      <th>gender</th>\n",
       "      <th>age</th>\n",
       "      <th>income</th>\n",
       "      <th>family_members</th>\n",
       "      <th>distance</th>\n",
       "    </tr>\n",
       "  </thead>\n",
       "  <tbody>\n",
       "    <tr>\n",
       "      <th>0</th>\n",
       "      <td>1</td>\n",
       "      <td>41</td>\n",
       "      <td>49600.0</td>\n",
       "      <td>1</td>\n",
       "      <td>0.0</td>\n",
       "    </tr>\n",
       "    <tr>\n",
       "      <th>2022</th>\n",
       "      <td>1</td>\n",
       "      <td>41</td>\n",
       "      <td>49600.0</td>\n",
       "      <td>0</td>\n",
       "      <td>1.0</td>\n",
       "    </tr>\n",
       "    <tr>\n",
       "      <th>1225</th>\n",
       "      <td>0</td>\n",
       "      <td>42</td>\n",
       "      <td>49600.0</td>\n",
       "      <td>0</td>\n",
       "      <td>3.0</td>\n",
       "    </tr>\n",
       "    <tr>\n",
       "      <th>4031</th>\n",
       "      <td>1</td>\n",
       "      <td>44</td>\n",
       "      <td>49600.0</td>\n",
       "      <td>2</td>\n",
       "      <td>4.0</td>\n",
       "    </tr>\n",
       "    <tr>\n",
       "      <th>815</th>\n",
       "      <td>1</td>\n",
       "      <td>37</td>\n",
       "      <td>49600.0</td>\n",
       "      <td>2</td>\n",
       "      <td>5.0</td>\n",
       "    </tr>\n",
       "    <tr>\n",
       "      <th>3424</th>\n",
       "      <td>0</td>\n",
       "      <td>38</td>\n",
       "      <td>49600.0</td>\n",
       "      <td>0</td>\n",
       "      <td>5.0</td>\n",
       "    </tr>\n",
       "    <tr>\n",
       "      <th>2125</th>\n",
       "      <td>0</td>\n",
       "      <td>37</td>\n",
       "      <td>49600.0</td>\n",
       "      <td>2</td>\n",
       "      <td>6.0</td>\n",
       "    </tr>\n",
       "    <tr>\n",
       "      <th>3900</th>\n",
       "      <td>1</td>\n",
       "      <td>36</td>\n",
       "      <td>49600.0</td>\n",
       "      <td>0</td>\n",
       "      <td>6.0</td>\n",
       "    </tr>\n",
       "    <tr>\n",
       "      <th>2349</th>\n",
       "      <td>1</td>\n",
       "      <td>46</td>\n",
       "      <td>49600.0</td>\n",
       "      <td>2</td>\n",
       "      <td>6.0</td>\n",
       "    </tr>\n",
       "    <tr>\n",
       "      <th>4661</th>\n",
       "      <td>0</td>\n",
       "      <td>45</td>\n",
       "      <td>49600.0</td>\n",
       "      <td>0</td>\n",
       "      <td>6.0</td>\n",
       "    </tr>\n",
       "  </tbody>\n",
       "</table>\n",
       "</div>"
      ],
      "text/plain": [
       "      gender  age   income  family_members  distance\n",
       "0          1   41  49600.0               1       0.0\n",
       "2022       1   41  49600.0               0       1.0\n",
       "1225       0   42  49600.0               0       3.0\n",
       "4031       1   44  49600.0               2       4.0\n",
       "815        1   37  49600.0               2       5.0\n",
       "3424       0   38  49600.0               0       5.0\n",
       "2125       0   37  49600.0               2       6.0\n",
       "3900       1   36  49600.0               0       6.0\n",
       "2349       1   46  49600.0               2       6.0\n",
       "4661       0   45  49600.0               0       6.0"
      ]
     },
     "execution_count": 18,
     "metadata": {},
     "output_type": "execute_result"
    }
   ],
   "source": [
    "# manhattan (city block) distance with unscaled data\n",
    "get_knn(df[feature_names], 0, 10, 'manhattan')"
   ]
  },
  {
   "cell_type": "code",
   "execution_count": 20,
   "metadata": {},
   "outputs": [
    {
     "data": {
      "text/html": [
       "<div>\n",
       "<style scoped>\n",
       "    .dataframe tbody tr th:only-of-type {\n",
       "        vertical-align: middle;\n",
       "    }\n",
       "\n",
       "    .dataframe tbody tr th {\n",
       "        vertical-align: top;\n",
       "    }\n",
       "\n",
       "    .dataframe thead th {\n",
       "        text-align: right;\n",
       "    }\n",
       "</style>\n",
       "<table border=\"1\" class=\"dataframe\">\n",
       "  <thead>\n",
       "    <tr style=\"text-align: right;\">\n",
       "      <th></th>\n",
       "      <th>gender</th>\n",
       "      <th>age</th>\n",
       "      <th>income</th>\n",
       "      <th>family_members</th>\n",
       "      <th>distance</th>\n",
       "    </tr>\n",
       "  </thead>\n",
       "  <tbody>\n",
       "    <tr>\n",
       "      <th>0</th>\n",
       "      <td>1.0</td>\n",
       "      <td>0.630769</td>\n",
       "      <td>0.627848</td>\n",
       "      <td>0.166667</td>\n",
       "      <td>0.000000</td>\n",
       "    </tr>\n",
       "    <tr>\n",
       "      <th>2689</th>\n",
       "      <td>1.0</td>\n",
       "      <td>0.630769</td>\n",
       "      <td>0.634177</td>\n",
       "      <td>0.166667</td>\n",
       "      <td>0.006329</td>\n",
       "    </tr>\n",
       "    <tr>\n",
       "      <th>133</th>\n",
       "      <td>1.0</td>\n",
       "      <td>0.615385</td>\n",
       "      <td>0.636709</td>\n",
       "      <td>0.166667</td>\n",
       "      <td>0.024245</td>\n",
       "    </tr>\n",
       "    <tr>\n",
       "      <th>4869</th>\n",
       "      <td>1.0</td>\n",
       "      <td>0.646154</td>\n",
       "      <td>0.637975</td>\n",
       "      <td>0.166667</td>\n",
       "      <td>0.025511</td>\n",
       "    </tr>\n",
       "    <tr>\n",
       "      <th>3365</th>\n",
       "      <td>1.0</td>\n",
       "      <td>0.630769</td>\n",
       "      <td>0.596203</td>\n",
       "      <td>0.166667</td>\n",
       "      <td>0.031646</td>\n",
       "    </tr>\n",
       "    <tr>\n",
       "      <th>2103</th>\n",
       "      <td>1.0</td>\n",
       "      <td>0.630769</td>\n",
       "      <td>0.596203</td>\n",
       "      <td>0.166667</td>\n",
       "      <td>0.031646</td>\n",
       "    </tr>\n",
       "    <tr>\n",
       "      <th>124</th>\n",
       "      <td>1.0</td>\n",
       "      <td>0.661538</td>\n",
       "      <td>0.635443</td>\n",
       "      <td>0.166667</td>\n",
       "      <td>0.038364</td>\n",
       "    </tr>\n",
       "    <tr>\n",
       "      <th>4305</th>\n",
       "      <td>1.0</td>\n",
       "      <td>0.630769</td>\n",
       "      <td>0.588608</td>\n",
       "      <td>0.166667</td>\n",
       "      <td>0.039241</td>\n",
       "    </tr>\n",
       "    <tr>\n",
       "      <th>3275</th>\n",
       "      <td>1.0</td>\n",
       "      <td>0.646154</td>\n",
       "      <td>0.651899</td>\n",
       "      <td>0.166667</td>\n",
       "      <td>0.039435</td>\n",
       "    </tr>\n",
       "    <tr>\n",
       "      <th>1567</th>\n",
       "      <td>1.0</td>\n",
       "      <td>0.615385</td>\n",
       "      <td>0.602532</td>\n",
       "      <td>0.166667</td>\n",
       "      <td>0.040701</td>\n",
       "    </tr>\n",
       "  </tbody>\n",
       "</table>\n",
       "</div>"
      ],
      "text/plain": [
       "      gender       age    income  family_members  distance\n",
       "0        1.0  0.630769  0.627848        0.166667  0.000000\n",
       "2689     1.0  0.630769  0.634177        0.166667  0.006329\n",
       "133      1.0  0.615385  0.636709        0.166667  0.024245\n",
       "4869     1.0  0.646154  0.637975        0.166667  0.025511\n",
       "3365     1.0  0.630769  0.596203        0.166667  0.031646\n",
       "2103     1.0  0.630769  0.596203        0.166667  0.031646\n",
       "124      1.0  0.661538  0.635443        0.166667  0.038364\n",
       "4305     1.0  0.630769  0.588608        0.166667  0.039241\n",
       "3275     1.0  0.646154  0.651899        0.166667  0.039435\n",
       "1567     1.0  0.615385  0.602532        0.166667  0.040701"
      ]
     },
     "execution_count": 20,
     "metadata": {},
     "output_type": "execute_result"
    }
   ],
   "source": [
    "# manhattan (city block) distance with scaled data\n",
    "get_knn(df_scaled[feature_names], 0, 10, 'manhattan')"
   ]
  },
  {
   "cell_type": "markdown",
   "metadata": {},
   "source": [
    "Answers to the questions"
   ]
  },
  {
   "cell_type": "markdown",
   "metadata": {},
   "source": [
    "**Does the data being not scaled affect the kNN algorithm? If so, how does that appear?** \n",
    "\n",
    "Feature scaling is important for kNN algorithms as it calculates distances between data. The unscaled data affects the kNN algorithm because the algorithm attaches more importance to certain features with higher ranging numbers than other. In the exercise using euclidean distance for example, the distance metric calculated for unscaled data ranges from 0.00 to 5.09, whereas for scaled data, we obtained a distance metric range of 0.00 to 0.03. This shows the impact of scaling to the data. Scaling has brought both the features into the picture and the distances are now more comparable than they were before we applied scaling. kNN with euclidean distance is sensitive to magnitudes hence, the data should be scaled for all features to weigh in equally. "
   ]
  },
  {
   "cell_type": "markdown",
   "metadata": {},
   "source": [
    "**How similar are the results using the Manhattan distance metric (regardless of the scaling)?** \n",
    "\n",
    "The first 1st nearest neighbor is identical for bothManhattan distance metric, regadless of scaling. However, after that the results differs."
   ]
  },
  {
   "cell_type": "markdown",
   "metadata": {},
   "source": [
    "# Task 2. Is Customer Likely to Receive Insurance Benefit?"
   ]
  },
  {
   "cell_type": "markdown",
   "metadata": {},
   "source": [
    "In terms of machine learning we can look at this like a binary classification task."
   ]
  },
  {
   "cell_type": "markdown",
   "metadata": {},
   "source": [
    "With `insurance_benefits` being more than zero as the target, evaluate whether the kNN classification approach can do better than a dummy model.\n",
    "\n",
    "Instructions:\n",
    "- Build a KNN-based classifier and measure its quality with the F1 metric for k=1..10 for both the original data and the scaled one. That'd be interesting to see how k may influece the evaluation metric, and whether scaling the data makes any difference. You can use a ready implemention of the kNN classification algorithm from scikit-learn (check [the link](https://scikit-learn.org/stable/modules/generated/sklearn.neighbors.KNeighborsClassifier.html)) or use your own.\n",
    "- Build the dummy model which is just random for this case. It should return \"1\" with some probability. Let's test the model with four probability values: 0, the probability of paying any insurance benefit, 0.5, 1.\n",
    "\n",
    "The probability of paying any insurance benefit can be defined as\n",
    "\n",
    "$$\n",
    "P\\{\\text{insurance benefit received}\\}=\\frac{\\text{number of clients received any insurance benefit}}{\\text{total number of clients}}.\n",
    "$$\n",
    "\n",
    "Split the whole data in the 70:30 proportion for the training/testing parts."
   ]
  },
  {
   "cell_type": "code",
<<<<<<< HEAD
   "execution_count": 20,
=======
   "execution_count": 21,
>>>>>>> b1c6f751c39aba4697448c2282d00301b8c6aa68
   "metadata": {},
   "outputs": [],
   "source": [
    "# calculate the target\n",
    "df['insurance_benefits_received'] = (df['insurance_benefits'] > 0).astype(int)"
   ]
  },
  {
   "cell_type": "code",
<<<<<<< HEAD
   "execution_count": 21,
=======
   "execution_count": 22,
>>>>>>> b1c6f751c39aba4697448c2282d00301b8c6aa68
   "metadata": {},
   "outputs": [
    {
     "data": {
      "text/plain": [
       "0    4436\n",
       "1     564\n",
       "Name: insurance_benefits_received, dtype: int64"
      ]
     },
<<<<<<< HEAD
     "execution_count": 21,
=======
     "execution_count": 22,
>>>>>>> b1c6f751c39aba4697448c2282d00301b8c6aa68
     "metadata": {},
     "output_type": "execute_result"
    }
   ],
   "source": [
    "# check for the class imbalance with value_counts()\n",
    "df['insurance_benefits_received'].value_counts()"
   ]
  },
  {
   "cell_type": "code",
<<<<<<< HEAD
   "execution_count": 22,
   "metadata": {},
   "outputs": [],
   "source": [
    "# function to compute metrics\n",
=======
   "execution_count": 23,
   "metadata": {},
   "outputs": [],
   "source": [
    "# fucntion to compute metrics\n",
>>>>>>> b1c6f751c39aba4697448c2282d00301b8c6aa68
    "def eval_classifier(y_true, y_pred):\n",
    "    \n",
    "    f1_score = sklearn.metrics.f1_score(y_true, y_pred)\n",
    "    print(f'F1: {f1_score:.2f}')\n",
    "    \n",
    "    cm = sklearn.metrics.confusion_matrix(y_true, y_pred, normalize='all')\n",
    "    print('Confusion Matrix')\n",
    "    print(cm)"
   ]
  },
  {
   "cell_type": "code",
<<<<<<< HEAD
   "execution_count": 23,
=======
   "execution_count": 24,
>>>>>>> b1c6f751c39aba4697448c2282d00301b8c6aa68
   "metadata": {},
   "outputs": [],
   "source": [
    "# generating output of a random model\n",
    "def rnd_model_predict(P, size, seed=42):\n",
    "\n",
    "    rng = np.random.default_rng(seed=seed)\n",
    "    return rng.binomial(n=1, p=P, size=size)"
   ]
  },
  {
   "cell_type": "markdown",
   "metadata": {},
   "source": [
    "##### Measure F1 metric on original data using KNN-based classifier"
   ]
  },
  {
   "cell_type": "code",
   "execution_count": 24,
   "metadata": {},
   "outputs": [],
   "source": [
    "# split data into train and test sets\n",
    "train, test = train_test_split(df, test_size=0.3, stratify=df['insurance_benefits_received'], random_state=12345)\n",
    "\n",
    "X_train = train[feature_names]\n",
    "X_test = test[feature_names]\n",
    "y_train = train['insurance_benefits_received']\n",
    "y_test = test['insurance_benefits_received']"
   ]
  },
  {
   "cell_type": "code",
   "execution_count": 25,
   "metadata": {},
   "outputs": [
    {
     "data": {
      "text/plain": [
       "KNeighborsClassifier(n_neighbors=3)"
      ]
     },
     "execution_count": 25,
     "metadata": {},
     "output_type": "execute_result"
    }
   ],
   "source": [
    "# fit the data\n",
    "knn = sklearn.neighbors.KNeighborsClassifier(n_neighbors=3)\n",
    "knn.fit(X_train, y_train)"
   ]
  },
  {
   "cell_type": "code",
   "execution_count": 26,
   "metadata": {},
   "outputs": [
    {
     "data": {
      "text/plain": [
       "68"
      ]
     },
     "execution_count": 26,
     "metadata": {},
     "output_type": "execute_result"
    }
   ],
   "source": [
    "# make prediction\n",
    "knn.predict(X_test).sum()"
   ]
  },
  {
   "cell_type": "code",
   "execution_count": 27,
   "metadata": {},
   "outputs": [
    {
     "name": "stdout",
     "output_type": "stream",
     "text": [
      "F1: 0.40\n",
      "Confusion Matrix\n",
      "[[0.87333333 0.014     ]\n",
      " [0.08133333 0.03133333]]\n"
     ]
    }
   ],
   "source": [
    "# evaluate metrics\n",
    "eval_classifier(y_test, knn.predict(X_test))"
   ]
  },
  {
   "cell_type": "code",
   "execution_count": 28,
   "metadata": {},
   "outputs": [
    {
     "name": "stdout",
     "output_type": "stream",
     "text": [
      "F1 score and confusion matrix for k: 1\n",
      "F1: 0.59\n",
      "Confusion Matrix\n",
      "[[0.87266667 0.01466667]\n",
      " [0.05933333 0.05333333]]\n",
      "\n",
      "F1 score and confusion matrix for k: 2\n",
      "F1: 0.39\n",
      "Confusion Matrix\n",
      "[[0.88266667 0.00466667]\n",
      " [0.08466667 0.028     ]]\n",
      "\n",
      "F1 score and confusion matrix for k: 3\n",
      "F1: 0.39\n",
      "Confusion Matrix\n",
      "[[0.87533333 0.012     ]\n",
      " [0.08266667 0.03      ]]\n",
      "\n",
      "F1 score and confusion matrix for k: 4\n",
      "F1: 0.16\n",
      "Confusion Matrix\n",
      "[[0.88466667 0.00266667]\n",
      " [0.10266667 0.01      ]]\n",
      "\n",
      "F1 score and confusion matrix for k: 5\n",
      "F1: 0.16\n",
      "Confusion Matrix\n",
      "[[0.88133333 0.006     ]\n",
      " [0.10266667 0.01      ]]\n",
      "\n",
      "F1 score and confusion matrix for k: 6\n",
      "F1: 0.06\n",
      "Confusion Matrix\n",
      "[[0.88733333 0.        ]\n",
      " [0.10933333 0.00333333]]\n",
      "\n",
      "F1 score and confusion matrix for k: 7\n",
      "F1: 0.07\n",
      "Confusion Matrix\n",
      "[[8.86666667e-01 6.66666667e-04]\n",
      " [1.08666667e-01 4.00000000e-03]]\n",
      "\n",
      "F1 score and confusion matrix for k: 8\n",
      "F1: 0.05\n",
      "Confusion Matrix\n",
      "[[0.88733333 0.        ]\n",
      " [0.11       0.00266667]]\n",
      "\n",
      "F1 score and confusion matrix for k: 9\n",
      "F1: 0.05\n",
      "Confusion Matrix\n",
      "[[0.88733333 0.        ]\n",
      " [0.11       0.00266667]]\n",
      "\n",
      "F1 score and confusion matrix for k: 10\n",
      "F1: 0.00\n",
      "Confusion Matrix\n",
      "[[0.88733333 0.        ]\n",
      " [0.11266667 0.        ]]\n",
      "\n"
     ]
    }
   ],
   "source": [
    "k = np.arange(1, 11)\n",
    "metric = 'manhattan'\n",
    "for k in k:\n",
    "    print('F1 score and confusion matrix for k:', k)\n",
    "    knn = sklearn.neighbors.KNeighborsClassifier(n_neighbors=k, metric=metric)\n",
    "    knn.fit(X_train, y_train)\n",
    "    knn.predict(X_test)\n",
    "    eval_classifier(y_test, knn.predict(X_test))\n",
    "    print()"
   ]
  },
  {
   "cell_type": "code",
   "execution_count": null,
   "metadata": {},
   "outputs": [],
   "source": []
  },
  {
   "cell_type": "markdown",
   "metadata": {},
   "source": [
    "##### Measure F1 metric on scaled data using KNN-based classifier"
   ]
  },
  {
   "cell_type": "code",
   "execution_count": 29,
   "metadata": {},
   "outputs": [
    {
     "data": {
      "text/html": [
       "<div>\n",
       "<style scoped>\n",
       "    .dataframe tbody tr th:only-of-type {\n",
       "        vertical-align: middle;\n",
       "    }\n",
       "\n",
       "    .dataframe tbody tr th {\n",
       "        vertical-align: top;\n",
       "    }\n",
       "\n",
       "    .dataframe thead th {\n",
       "        text-align: right;\n",
       "    }\n",
       "</style>\n",
       "<table border=\"1\" class=\"dataframe\">\n",
       "  <thead>\n",
       "    <tr style=\"text-align: right;\">\n",
       "      <th></th>\n",
       "      <th>gender</th>\n",
       "      <th>age</th>\n",
       "      <th>income</th>\n",
       "      <th>family_members</th>\n",
       "      <th>insurance_benefits</th>\n",
       "      <th>insurance_benefits_received</th>\n",
       "    </tr>\n",
       "  </thead>\n",
       "  <tbody>\n",
       "    <tr>\n",
       "      <th>0</th>\n",
       "      <td>1.0</td>\n",
       "      <td>0.630769</td>\n",
       "      <td>0.627848</td>\n",
       "      <td>0.166667</td>\n",
       "      <td>0</td>\n",
       "      <td>0</td>\n",
       "    </tr>\n",
       "    <tr>\n",
       "      <th>1</th>\n",
       "      <td>0.0</td>\n",
       "      <td>0.707692</td>\n",
       "      <td>0.481013</td>\n",
       "      <td>0.166667</td>\n",
       "      <td>1</td>\n",
       "      <td>1</td>\n",
       "    </tr>\n",
       "    <tr>\n",
       "      <th>2</th>\n",
       "      <td>0.0</td>\n",
       "      <td>0.446154</td>\n",
       "      <td>0.265823</td>\n",
       "      <td>0.000000</td>\n",
       "      <td>0</td>\n",
       "      <td>0</td>\n",
       "    </tr>\n",
       "    <tr>\n",
       "      <th>3</th>\n",
       "      <td>0.0</td>\n",
       "      <td>0.323077</td>\n",
       "      <td>0.527848</td>\n",
       "      <td>0.333333</td>\n",
       "      <td>0</td>\n",
       "      <td>0</td>\n",
       "    </tr>\n",
       "    <tr>\n",
       "      <th>4</th>\n",
       "      <td>1.0</td>\n",
       "      <td>0.430769</td>\n",
       "      <td>0.330380</td>\n",
       "      <td>0.000000</td>\n",
       "      <td>0</td>\n",
       "      <td>0</td>\n",
       "    </tr>\n",
       "  </tbody>\n",
       "</table>\n",
       "</div>"
      ],
      "text/plain": [
       "   gender       age    income  family_members  insurance_benefits  \\\n",
       "0     1.0  0.630769  0.627848        0.166667                   0   \n",
       "1     0.0  0.707692  0.481013        0.166667                   1   \n",
       "2     0.0  0.446154  0.265823        0.000000                   0   \n",
       "3     0.0  0.323077  0.527848        0.333333                   0   \n",
       "4     1.0  0.430769  0.330380        0.000000                   0   \n",
       "\n",
       "   insurance_benefits_received  \n",
       "0                            0  \n",
       "1                            1  \n",
       "2                            0  \n",
       "3                            0  \n",
       "4                            0  "
      ]
     },
     "execution_count": 29,
     "metadata": {},
     "output_type": "execute_result"
    }
   ],
   "source": [
    "# calculate target for scaled data\n",
    "df_scaled['insurance_benefits_received'] = (df_scaled['insurance_benefits'] > 0).astype(int)\n",
    "df_scaled.head()"
   ]
  },
  {
   "cell_type": "code",
   "execution_count": 49,
   "metadata": {},
   "outputs": [],
   "source": [
    "# split data into train and test sets\n",
    "train_scaled, test_scaled = train_test_split(df_scaled, test_size=0.3, random_state=12345)\n",
    "\n",
    "X_train_scaled = train_scaled[feature_names]\n",
    "X_test_scaled = test_scaled[feature_names]\n",
    "y_train_scaled = train_scaled['insurance_benefits_received']\n",
    "y_test_scaled = test_scaled['insurance_benefits_received']"
   ]
  },
  {
   "cell_type": "code",
   "execution_count": 50,
   "metadata": {},
   "outputs": [
    {
     "name": "stdout",
     "output_type": "stream",
     "text": [
      "F1 score and confusion matrix for k: 1\n",
      "F1: 0.00\n",
      "Confusion Matrix\n",
      "[[0.89133333 0.        ]\n",
      " [0.10866667 0.        ]]\n",
      "\n",
      "F1 score and confusion matrix for k: 2\n",
      "F1: 0.00\n",
      "Confusion Matrix\n",
      "[[0.89133333 0.        ]\n",
      " [0.10866667 0.        ]]\n",
      "\n",
      "F1 score and confusion matrix for k: 3\n",
      "F1: 0.00\n",
      "Confusion Matrix\n",
      "[[0.89133333 0.        ]\n",
      " [0.10866667 0.        ]]\n",
      "\n",
      "F1 score and confusion matrix for k: 4\n",
      "F1: 0.00\n",
      "Confusion Matrix\n",
      "[[0.89133333 0.        ]\n",
      " [0.10866667 0.        ]]\n",
      "\n",
      "F1 score and confusion matrix for k: 5\n",
      "F1: 0.00\n",
      "Confusion Matrix\n",
      "[[0.89133333 0.        ]\n",
      " [0.10866667 0.        ]]\n",
      "\n",
      "F1 score and confusion matrix for k: 6\n",
      "F1: 0.00\n",
      "Confusion Matrix\n",
      "[[0.89133333 0.        ]\n",
      " [0.10866667 0.        ]]\n",
      "\n",
      "F1 score and confusion matrix for k: 7\n",
      "F1: 0.00\n",
      "Confusion Matrix\n",
      "[[0.89133333 0.        ]\n",
      " [0.10866667 0.        ]]\n",
      "\n",
      "F1 score and confusion matrix for k: 8\n",
      "F1: 0.00\n",
      "Confusion Matrix\n",
      "[[0.89133333 0.        ]\n",
      " [0.10866667 0.        ]]\n",
      "\n",
      "F1 score and confusion matrix for k: 9\n",
      "F1: 0.00\n",
      "Confusion Matrix\n",
      "[[0.89133333 0.        ]\n",
      " [0.10866667 0.        ]]\n",
      "\n",
      "F1 score and confusion matrix for k: 10\n",
      "F1: 0.00\n",
      "Confusion Matrix\n",
      "[[0.89133333 0.        ]\n",
      " [0.10866667 0.        ]]\n",
      "\n"
     ]
    }
   ],
   "source": [
    "k = np.arange(1, 11)\n",
    "metric = 'manhattan'\n",
    "for k in k:\n",
    "    print('F1 score and confusion matrix for k:', k)\n",
    "    knn_scaled = sklearn.neighbors.KNeighborsClassifier(n_neighbors=k, metric=metric)\n",
    "    knn_scaled.fit(X_train_scaled, y_train_scaled)\n",
    "    knn_scaled.predict(X_test_scaled)\n",
    "    eval_classifier(y_test_scaled, knn.predict(X_test_scaled))\n",
    "    print()"
   ]
  },
  {
   "cell_type": "code",
   "execution_count": 25,
   "metadata": {},
   "outputs": [],
   "source": []
  },
  {
   "cell_type": "markdown",
   "metadata": {},
   "source": [
    "##### The probability of paying any insurance benefit is:"
   ]
  },
  {
   "cell_type": "code",
   "execution_count": 32,
   "metadata": {},
   "outputs": [
    {
     "name": "stdout",
     "output_type": "stream",
     "text": [
      "The probability: 0.00\n",
      "F1: 0.00\n",
      "Confusion Matrix\n",
      "[[0.88733333 0.        ]\n",
      " [0.11266667 0.        ]]\n",
      "\n",
      "The probability: 0.11\n",
      "F1: 0.06\n",
      "Confusion Matrix\n",
      "[[0.77733333 0.11      ]\n",
      " [0.10533333 0.00733333]]\n",
      "\n",
      "The probability: 0.50\n",
      "F1: 0.16\n",
      "Confusion Matrix\n",
      "[[0.44066667 0.44666667]\n",
      " [0.06466667 0.048     ]]\n",
      "\n",
      "The probability: 1.00\n",
      "F1: 0.20\n",
      "Confusion Matrix\n",
      "[[0.         0.88733333]\n",
      " [0.         0.11266667]]\n",
      "\n"
     ]
    }
   ],
   "source": [
    "# split data into train and test sets\n",
    "train, test = train_test_split(df, test_size=0.3, stratify=df['insurance_benefits_received'], random_state=12345)\n",
    "\n",
    "X_train = train[feature_names]\n",
    "X_test = test[feature_names]\n",
    "y_train = train['insurance_benefits_received']\n",
    "y_test = test['insurance_benefits_received']"
   ]
  },
  {
   "cell_type": "code",
   "execution_count": 27,
   "metadata": {},
   "outputs": [
    {
     "data": {
      "text/plain": [
       "KNeighborsClassifier(n_neighbors=3)"
      ]
     },
     "execution_count": 27,
     "metadata": {},
     "output_type": "execute_result"
    }
   ],
   "source": [
    "# fit the data\n",
    "knn = sklearn.neighbors.KNeighborsClassifier(n_neighbors=3)\n",
    "knn.fit(X_train, y_train)"
   ]
  },
  {
   "cell_type": "code",
   "execution_count": 29,
   "metadata": {},
   "outputs": [
    {
     "data": {
      "text/plain": [
       "68"
      ]
     },
     "execution_count": 29,
     "metadata": {},
     "output_type": "execute_result"
    }
   ],
   "source": [
    "# make prediction\n",
    "knn.predict(X_test).sum()"
   ]
  },
  {
   "cell_type": "code",
   "execution_count": 30,
   "metadata": {},
   "outputs": [
    {
     "name": "stdout",
     "output_type": "stream",
     "text": [
      "F1: 0.40\n",
      "Confusion Matrix\n",
      "[[0.87333333 0.014     ]\n",
      " [0.08133333 0.03133333]]\n"
     ]
    }
   ],
   "source": [
    "# evaluate metrics\n",
    "eval_classifier(y_test, knn.predict(X_test))"
   ]
  },
  {
   "cell_type": "code",
   "execution_count": 32,
   "metadata": {},
   "outputs": [
    {
     "name": "stdout",
     "output_type": "stream",
     "text": [
      "The probability: 0.00\n",
      "F1: 0.00\n",
      "Confusion Matrix\n",
      "[[0.88733333 0.        ]\n",
      " [0.11266667 0.        ]]\n",
      "\n",
      "The probability: 0.11\n",
      "F1: 0.06\n",
      "Confusion Matrix\n",
      "[[0.77733333 0.11      ]\n",
      " [0.10533333 0.00733333]]\n",
      "\n",
      "The probability: 0.50\n",
      "F1: 0.16\n",
      "Confusion Matrix\n",
      "[[0.44066667 0.44666667]\n",
      " [0.06466667 0.048     ]]\n",
      "\n",
      "The probability: 1.00\n",
      "F1: 0.20\n",
      "Confusion Matrix\n",
      "[[0.         0.88733333]\n",
      " [0.         0.11266667]]\n",
      "\n"
     ]
    }
   ],
   "source": [
    "for P in [0, df['insurance_benefits_received'].sum() / len(df), 0.5, 1]:\n",
    "\n",
    "    print(f'The probability: {P:.2f}')\n",
    "    y_pred_rnd = rnd_model_predict(P, y_test.shape[0]) \n",
    "        \n",
    "    eval_classifier(y_test, y_pred_rnd)\n",
    "    \n",
    "    print()"
   ]
  },
  {
   "cell_type": "markdown",
   "metadata": {},
   "source": [
    "The dummy model gave the highest F1-score of 0.2. This model predicted that all customers will benefit from the insurance. "
   ]
  },
  {
   "cell_type": "code",
<<<<<<< HEAD
   "execution_count": 33,
   "metadata": {},
   "outputs": [],
   "source": [
=======
   "execution_count": 34,
   "metadata": {},
   "outputs": [],
   "source": [
    "k = np.arange(1, 11)\n",
    "metric = 'manhattan'"
   ]
  },
  {
   "cell_type": "code",
   "execution_count": 35,
   "metadata": {},
   "outputs": [],
   "source": [
>>>>>>> b1c6f751c39aba4697448c2282d00301b8c6aa68
    "class MyClassifier():\n",
    "    def __init__(self, n_neighbors, metric='euclidean', threshold = 0.5):\n",
    "        self.n_neighbors = n_neighbors\n",
    "        self.metric = metric\n",
    "        self.nn = sklearn.neighbors.NearestNeighbors(n_neighbors=n_neighbors, metric=metric)\n",
    "        self.threshold = threshold\n",
    "        \n",
    "    def fit(self, X, y):\n",
    "        self.features = X\n",
    "        self.target = y\n",
    "        self.nn.fit(self.features)\n",
    "        \n",
    "    def predict(self, X):\n",
    "        nbrs_distances, nbrs_indices = self.nn.kneighbors(X, self.n_neighbors, return_distance=True)\n",
    "        probabilities = []\n",
    "        for elem in nbrs_indices:\n",
    "            probability = self.target.iloc[elem].mean()\n",
    "            probabilities.append(probability)\n",
    "        return (np.array(probabilities) >= self.threshold).astype(int)"
   ]
<<<<<<< HEAD
=======
  },
  {
   "cell_type": "code",
   "execution_count": 36,
   "metadata": {},
   "outputs": [],
   "source": [
    "m = MyClassifier(n_neighbors = 3)\n",
    "m.fit(X_train, y_train)"
   ]
>>>>>>> b1c6f751c39aba4697448c2282d00301b8c6aa68
  },
  {
   "cell_type": "code",
   "execution_count": 34,
   "metadata": {},
   "outputs": [],
   "source": [
    "m = MyClassifier(n_neighbors = 3)\n",
    "m.fit(X_train, y_train)"
   ]
  },
  {
   "cell_type": "code",
   "execution_count": 35,
   "metadata": {},
   "outputs": [
    {
     "data": {
      "text/plain": [
       "68"
      ]
     },
     "execution_count": 35,
     "metadata": {},
     "output_type": "execute_result"
    }
   ],
   "source": [
    "m.predict(X_test).sum()"
   ]
  },
  {
   "cell_type": "code",
   "execution_count": 36,
   "metadata": {},
   "outputs": [
    {
     "data": {
      "text/plain": [
       "0"
      ]
     },
     "execution_count": 36,
     "metadata": {},
     "output_type": "execute_result"
    }
   ],
   "source": [
    "knn.predict(X_test).sum()"
   ]
  },
  {
   "cell_type": "code",
   "execution_count": 37,
   "metadata": {},
   "outputs": [
    {
     "data": {
      "text/plain": [
       "68"
      ]
     },
     "execution_count": 37,
     "metadata": {},
     "output_type": "execute_result"
    }
   ],
   "source": [
    "(m.predict(X_test) != knn.predict(X_test)).sum()"
   ]
  },
  {
   "cell_type": "code",
   "execution_count": null,
   "metadata": {},
   "outputs": [],
   "source": []
  },
  {
   "cell_type": "markdown",
   "metadata": {},
   "source": [
    "# Task 3. Regression (with Linear Regression)"
   ]
  },
  {
   "cell_type": "markdown",
   "metadata": {},
   "source": [
    "With `insurance_benefits` as the target, evaluate what RMSE would be for a Linear Regression model."
   ]
  },
  {
   "cell_type": "markdown",
   "metadata": {},
   "source": [
    "Build your own implementation of LR. For that, recall how the linear regression task's solution is formulated in terms of LA. Check RMSE for both the original data and the scaled one. Can you see any difference in RMSE between these two cases?\n",
    "\n",
    "Let's denote\n",
    "- $X$ — feature matrix, each row is a case, each column is a feature, the first column consists of unities\n",
    "- $y$ — target (a vector)\n",
    "- $\\hat{y}$ — estimated tagret (a vector)\n",
    "- $w$ — weight vector\n",
    "\n",
    "The task of linear regression in the language of matrices can be formulated as\n",
    "\n",
    "$$\n",
    "y = Xw\n",
    "$$\n",
    "\n",
    "The training objective then is to find such $w$ that it would minimize the L2-distance (MSE) between $Xw$ and $y$:\n",
    "\n",
    "$$\n",
    "\\min_w d_2(Xw, y) \\quad \\text{or} \\quad \\min_w \\text{MSE}(Xw, y)\n",
    "$$\n",
    "\n",
    "It appears that there is analytical solution for the above:\n",
    "\n",
    "$$\n",
    "w = (X^T X)^{-1} X^T y\n",
    "$$\n",
    "\n",
    "The formula above can be used to find the weights $w$ and the latter can be used to calculate predicted values\n",
    "\n",
    "$$\n",
    "\\hat{y} = X_{val}w\n",
    "$$"
   ]
  },
  {
   "cell_type": "markdown",
   "metadata": {},
   "source": [
    "Split the whole data in the 70:30 proportion for the training/validation parts. Use the RMSE metric for the model evaluation."
   ]
  },
  {
   "cell_type": "code",
   "execution_count": null,
   "metadata": {},
   "outputs": [],
   "source": [
    "class MyLinearRegression:\n",
    "    \n",
    "    def __init__(self):\n",
    "        \n",
    "        self.weights = None\n",
    "    \n",
    "    def fit(self, X, y):\n",
    "        \n",
    "        # adding the unities\n",
    "        X2 = np.append(np.ones([len(X), 1]), X, axis=1)\n",
    "        self.weights = # <your code here>\n",
    "\n",
    "    def predict(self, X):\n",
    "        \n",
    "        # adding the unities\n",
    "        X2 = # <your code here>\n",
    "        y_pred = # <your code here>\n",
    "        \n",
    "        return y_pred"
   ]
  },
  {
   "cell_type": "code",
   "execution_count": null,
   "metadata": {},
   "outputs": [],
   "source": [
    "def eval_regressor(y_true, y_pred):\n",
    "    \n",
    "    rmse = math.sqrt(sklearn.metrics.mean_squared_error(y_true, y_pred))\n",
    "    print(f'RMSE: {rmse:.2f}')\n",
    "    \n",
    "    r2_score = math.sqrt(sklearn.metrics.r2_score(y_true, y_pred))\n",
    "    print(f'R2: {r2_score:.2f}')    "
   ]
  },
  {
   "cell_type": "code",
   "execution_count": null,
   "metadata": {},
   "outputs": [],
   "source": []
  },
  {
   "cell_type": "code",
   "execution_count": null,
   "metadata": {},
   "outputs": [],
   "source": [
    "X = df[['age', 'gender', 'income', 'family_members']].to_numpy()\n",
    "y = df['insurance_benefits'].to_numpy()\n",
    "\n",
    "X_train, X_test, y_train, y_test = train_test_split(X, y, test_size=0.3, random_state=12345)\n",
    "\n",
    "lr = MyLinearRegression()\n",
    "\n",
    "lr.fit(X_train, y_train)\n",
    "print(lr.weights)\n",
    "\n",
    "y_test_pred = lr.predict(X_test)\n",
    "eval_regressor(y_test, y_test_pred)"
   ]
  },
  {
   "cell_type": "code",
   "execution_count": null,
   "metadata": {},
   "outputs": [],
   "source": []
  },
  {
   "cell_type": "code",
   "execution_count": null,
   "metadata": {},
   "outputs": [],
   "source": []
  },
  {
   "cell_type": "code",
   "execution_count": null,
   "metadata": {},
   "outputs": [],
   "source": []
  },
  {
   "cell_type": "markdown",
   "metadata": {},
   "source": [
    "# Task 4. Obfuscating Data"
   ]
  },
  {
   "cell_type": "markdown",
   "metadata": {},
   "source": [
    "It best to obfuscate data by multiplying the numerical features (remember, they can be seen as the matrix $X$) by an invertible matrix $P$. \n",
    "\n",
    "$$\n",
    "X' = X \\times P\n",
    "$$\n",
    "\n",
    "Try to do that and check how the features' values will look like after the transformation. By the way, the intertible property is important here so make sure that $P$ is indeed invertible.\n",
    "\n",
    "You may want to review the 'Matrices and Matrix Operations -> Matrix Mupliplication' lesson to recall the rule of matrix multiplication and its implementation with NumPy."
   ]
  },
  {
   "cell_type": "code",
   "execution_count": null,
   "metadata": {},
   "outputs": [],
   "source": [
    "personal_info_column_list = ['gender', 'age', 'income', 'family_members']\n",
    "df_pn = df[personal_info_column_list]"
   ]
  },
  {
   "cell_type": "code",
   "execution_count": null,
   "metadata": {},
   "outputs": [],
   "source": [
    "X = df_pn.to_numpy()"
   ]
  },
  {
   "cell_type": "markdown",
   "metadata": {},
   "source": [
    "Generating a random matrix $P$."
   ]
  },
  {
   "cell_type": "code",
   "execution_count": null,
   "metadata": {},
   "outputs": [],
   "source": [
    "rng = np.random.default_rng(seed=42)\n",
    "P = rng.random(size=(X.shape[1], X.shape[1]))"
   ]
  },
  {
   "cell_type": "markdown",
   "metadata": {},
   "source": [
    "Checking the matrix $P$ is invertible"
   ]
  },
  {
   "cell_type": "code",
   "execution_count": null,
   "metadata": {},
   "outputs": [],
   "source": []
  },
  {
   "cell_type": "markdown",
   "metadata": {},
   "source": [
    "Can you guess the customers' ages or income after the transformation?"
   ]
  },
  {
   "cell_type": "code",
   "execution_count": null,
   "metadata": {},
   "outputs": [],
   "source": []
  },
  {
   "cell_type": "markdown",
   "metadata": {},
   "source": [
    "Can you recover the original data from $X'$ if you know $P$? Try to check that with calculations by moving $P$ from the right side of the formula above to the left one. The rules of matrix multiplcation are really helpful here."
   ]
  },
  {
   "cell_type": "code",
   "execution_count": null,
   "metadata": {},
   "outputs": [],
   "source": []
  },
  {
   "cell_type": "markdown",
   "metadata": {},
   "source": [
    "Print all three cases for a few customers\n",
    "- The original data\n",
    "- The transformed one\n",
    "- The reversed (recovered) one"
   ]
  },
  {
   "cell_type": "code",
   "execution_count": null,
   "metadata": {},
   "outputs": [],
   "source": []
  },
  {
   "cell_type": "markdown",
   "metadata": {},
   "source": [
    "You can probably see that some values are not exactly the same as they are in the original data. What might be the reason for that?"
   ]
  },
  {
   "cell_type": "code",
   "execution_count": null,
   "metadata": {},
   "outputs": [],
   "source": []
  },
  {
   "cell_type": "markdown",
   "metadata": {},
   "source": [
    "## Proof That Data Obfuscation Can Work with LR"
   ]
  },
  {
   "cell_type": "markdown",
   "metadata": {},
   "source": [
    "The regression task has been solved with linear regression in this project. Your next task is to prove _analytically_ that the given obfuscation method won't affect linear regression in terms of predicted values i.e. their values will remain the same. Can you believe that? Well, you don't have to, you should prove it!"
   ]
  },
  {
   "cell_type": "markdown",
   "metadata": {},
   "source": [
    "So, the data is obfuscated and there is $X \\times P$ instead of just $X$ now. Consequently, there are other weights $w_P$ as\n",
    "$$\n",
    "w = (X^T X)^{-1} X^T y \\quad \\Rightarrow \\quad w_P = [(XP)^T XP]^{-1} (XP)^T y\n",
    "$$\n",
    "\n",
    "How would $w$ and $w_P$ be linked if you simplify the formula for $w_P$ above? \n",
    "\n",
    "What would be predicted values with $w_P$? \n",
    "\n",
    "What does that mean for the quality of linear regression if you measure it with RMSE?\n",
    "\n",
    "Check Appendix B Properties of Matrices in the end of the notebook. There are useful formulas in there!\n",
    "\n",
    "No code is necessary in this section, only analytical explanation!"
   ]
  },
  {
   "cell_type": "markdown",
   "metadata": {},
   "source": [
    "**Answer**"
   ]
  },
  {
   "cell_type": "markdown",
   "metadata": {},
   "source": []
  },
  {
   "cell_type": "markdown",
   "metadata": {},
   "source": [
    "**Analytical proof**"
   ]
  },
  {
   "cell_type": "markdown",
   "metadata": {},
   "source": []
  },
  {
   "cell_type": "markdown",
   "metadata": {},
   "source": [
    "## Test Linear Regression With Data Obfuscation"
   ]
  },
  {
   "cell_type": "markdown",
   "metadata": {},
   "source": [
    "Now, let's prove Linear Regression can work computationally with the chosen obfuscation transformation.\n",
    "\n",
    "Build a procedure or a class that runs Linear Regression optionally with the obfuscation. You can use either a ready implementation of Linear Regression from sciki-learn or your own.\n",
    "\n",
    "Run Linear Regression for the original data and the obfuscated one, compare the predicted values and the RMSE, $R^2$ metric values. Is there any difference?"
   ]
  },
  {
   "cell_type": "markdown",
   "metadata": {},
   "source": [
    "**Procedure**\n",
    "\n",
    "- Create a square matrix $P$ of random numbers.\n",
    "- Check that it is invertible. If not, repeat the first point until we get an invertible matrix.\n",
    "- <! your comment here !>\n",
    "- Use $XP$ as the new feature matrix"
   ]
  },
  {
   "cell_type": "code",
   "execution_count": null,
   "metadata": {},
   "outputs": [],
   "source": []
  },
  {
   "cell_type": "code",
   "execution_count": null,
   "metadata": {},
   "outputs": [],
   "source": []
  },
  {
   "cell_type": "code",
   "execution_count": null,
   "metadata": {},
   "outputs": [],
   "source": []
  },
  {
   "cell_type": "markdown",
   "metadata": {},
   "source": [
    "# Conclusions"
   ]
  },
  {
   "cell_type": "code",
   "execution_count": null,
   "metadata": {},
   "outputs": [],
   "source": []
  },
  {
   "cell_type": "code",
   "execution_count": null,
   "metadata": {},
   "outputs": [],
   "source": []
  },
  {
   "cell_type": "code",
   "execution_count": null,
   "metadata": {},
   "outputs": [],
   "source": []
  },
  {
   "cell_type": "markdown",
   "metadata": {},
   "source": [
    "# Checklist"
   ]
  },
  {
   "cell_type": "markdown",
   "metadata": {},
   "source": [
    "Type 'x' to check. Then press Shift+Enter."
   ]
  },
  {
   "cell_type": "markdown",
   "metadata": {},
   "source": [
    "- [x]  Jupyter Notebook is open\n",
    "- [ ]  Code is error free\n",
    "- [ ]  The cells are arranged in order of logic and execution\n",
    "- [ ]  Task 1 has been performed\n",
    "    - [ ]  There is the procedure that can return k similar customers for a given one\n",
    "    - [ ]  The procedure is tested for all four proposed combinations\n",
    "    - [ ]  The questions re the scaling/distances are answered\n",
    "- [ ]  Task 2 has been performed\n",
    "    - [ ]  The random classification model is built and tested for all for probability levels\n",
    "    - [ ]  The kNN classification model is built and tested for both the original data and the scaled one, the F1 metric is calculated.\n",
    "- [ ]  Task 3 has been performed\n",
    "    - [ ]  The linear tegression solution is implemented with matrix operations.\n",
    "    - [ ]  RMSE is calculated for the implemented solution.\n",
    "- [ ]  Task 4 has been performed\n",
    "    - [ ]  The data is obfuscated with a random and invertible matrix P\n",
    "    - [ ]  The obfuscated data is recoved, few examples are printed out\n",
    "    - [ ]  The analytical proof that the transformation does not affect RMSE is provided \n",
    "    - [ ]  The computational proof that the transformation does not affect RMSE is provided\n",
    "- [ ]  Conclusions have been made"
   ]
  },
  {
   "cell_type": "markdown",
   "metadata": {},
   "source": [
    "# Appendices \n",
    "\n",
    "## Appendix A: Writing Formulas in Jupyter Notebooks"
   ]
  },
  {
   "cell_type": "markdown",
   "metadata": {},
   "source": [
    "You can write formulas in your Jupyter Notebook in a markup language provided by a high-quality publishing system called $\\LaTeX$ (pronounced \"Lah-tech\"), and they will look like formulas in textbooks.\n",
    "\n",
    "To put a formula in a text, put the dollar sign (\\\\$) before and after the formula's text e.g. $\\frac{1}{2} \\times \\frac{3}{2} = \\frac{3}{4}$ or $y = x^2, x \\ge 1$.\n",
    "\n",
    "If a formula should be in its own paragraph, put the double dollar sign (\\\\$\\\\$) before and after the formula text e.g.\n",
    "\n",
    "$$\n",
    "\\bar{x} = \\frac{1}{n}\\sum_{i=1}^{n} x_i.\n",
    "$$\n",
    "\n",
    "The markup language of [LaTeX](https://en.wikipedia.org/wiki/LaTeX) is very popular among people who use formulas in their articles, books and texts. It can be complex but its basics are easy. Check this two page [cheatsheet](http://tug.ctan.org/info/undergradmath/undergradmath.pdf) for learning how to compose the most common formulas."
   ]
  },
  {
   "cell_type": "markdown",
   "metadata": {},
   "source": [
    "## Appendix B: Properties of Matrices"
   ]
  },
  {
   "cell_type": "markdown",
   "metadata": {},
   "source": [
    "Matrices have many properties in Linear Algebra. A few of them are listed here which can help with the analytical proof in this project."
   ]
  },
  {
   "cell_type": "markdown",
   "metadata": {},
   "source": [
    "<table>\n",
    "<tr>\n",
    "<td>Distributivity</td><td>$A(B+C)=AB+AC$</td>\n",
    "</tr>\n",
    "<tr>\n",
    "<td>Non-commutativity</td><td>$AB \\neq BA$</td>\n",
    "</tr>\n",
    "<tr>\n",
    "<td>Associative property of multiplication</td><td>$(AB)C = A(BC)$</td>\n",
    "</tr>\n",
    "<tr>\n",
    "<td>Multiplicative identity property</td><td>$IA = AI = A$</td>\n",
    "</tr>\n",
    "<tr>\n",
    "<td></td><td>$A^{-1}A = AA^{-1} = I$\n",
    "</td>\n",
    "</tr>    \n",
    "<tr>\n",
    "<td></td><td>$(AB)^{-1} = B^{-1}A^{-1}$</td>\n",
    "</tr>    \n",
    "<tr>\n",
    "<td>Reversivity of the transpose of a product of matrices,</td><td>$(AB)^T = B^TA^T$</td>\n",
    "</tr>    \n",
    "</table>"
   ]
  },
  {
   "cell_type": "code",
   "execution_count": null,
   "metadata": {},
   "outputs": [],
   "source": []
  }
 ],
 "metadata": {
  "kernelspec": {
   "display_name": "Python 3",
   "language": "python",
   "name": "python3"
  },
  "language_info": {
   "codemirror_mode": {
    "name": "ipython",
    "version": 3
   },
   "file_extension": ".py",
   "mimetype": "text/x-python",
   "name": "python",
   "nbconvert_exporter": "python",
   "pygments_lexer": "ipython3",
   "version": "3.8.5"
  },
  "toc": {
   "base_numbering": 1,
   "nav_menu": {},
   "number_sections": true,
   "sideBar": true,
   "skip_h1_title": true,
   "title_cell": "Table of Contents",
   "title_sidebar": "Contents",
   "toc_cell": false,
   "toc_position": {},
   "toc_section_display": true,
   "toc_window_display": false
  }
 },
 "nbformat": 4,
 "nbformat_minor": 4
}
